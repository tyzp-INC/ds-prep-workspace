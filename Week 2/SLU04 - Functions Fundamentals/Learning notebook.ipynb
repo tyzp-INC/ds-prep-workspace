{
 "cells": [
  {
   "cell_type": "markdown",
   "metadata": {},
   "source": [
    "# Functions Fundamentals\n",
    "\n",
    "Please make sure that you've checked out the README for the important points about why we have this Learning Unit."
   ]
  },
  {
   "cell_type": "markdown",
   "metadata": {},
   "source": [
    "## What is a function?\n",
    "\n",
    "Let's start with the most basic question and ask: what is a function? To answer this, we'll need to use some analogy and you'll have to be patient at the beginning. Only after some weeks or months will these metaphors start to really sink in and the goal of this LU is to place them into your mind so that as you progress down this journey the core concepts have a prepared place to sink in.\n",
    "\n",
    "\n",
    "### Metaphor: It's a box!\n",
    "\n",
    "<img src=\"./assets/its-a-box.png\" width=\"500\"/>\n",
    "\n",
    "Think of a function as a box that has some kind of machinery inside of it. This box has only a few rules about how to use it and they are very simple:\n",
    "\n",
    "1. You have to give it some input\n",
    "2. You have to let the machinery inside of it work\n",
    "3. You get some output on the other side of it\n",
    "\n",
    "And here is the first introduction to a few very important concepts:\n",
    "\n",
    "#### Input, Output, and Machinery\n",
    "\n",
    "Functions take input. Functions produce output. This is commonly abbreviated as `I/O`. Get it? `I/O` = `Input / Output`? In your journey as a computer programmer, these two concepts will dominate almost every single thing you speak about, design, build, and use. However, without some machinery to do something to the input, you don't really have anything useful.\n",
    "\n",
    "Lots of things in the world take input and produce output. For example, we have things like a juice maker:\n",
    "\n",
    "<img src=\"./assets/juicer-analogy.png\" width=\"500\"/>\n",
    "\n",
    "We have toilets. In this case, you (usually) don't see the output:\n",
    "\n",
    "<img src=\"./assets/toilet-analogy.png\" width=\"500\"/>\n",
    "\n",
    "We have calculators (the machinery is hidden under the input devices):\n",
    "\n",
    "<img src=\"./assets/calculator-analogy.png\" width=\"500\"/>\n",
    "\n",
    "#### Why is this useful?\n",
    "\n",
    "Okay so let's think about what all of these analogies have in common. The automate work. Anyone can make some juice with their own to hands, a rock, and a cup. But do you want to spend all of your time doing that? Or would you rather invent a machine that does it for you? Anyone can go to the bathroom in a bucket and then manually empty the bucket when it's full but that causes disease and dispair so let's invent a set of machines and infrastructure to do that for us. Anyone can add a few numbers together with a pencil and paper but it is error-prone and time consuming so let's invent something to do that for us."
   ]
  },
  {
   "cell_type": "markdown",
   "metadata": {},
   "source": [
    "## Metaphor over, let's get to the code\n",
    "\n",
    "Programming languages let us build conceptually unlimited boxes of machinery that do our bidding. It is incredibly empowering. Many tasks that are done on a computer can be automated using machinery and functions are the most important tool that you have to organize it.\n",
    "\n",
    "So let's see what a python function looks like:\n",
    "\n",
    "```py\n",
    "def name(_input):\n",
    "   output = machinery(_input)\n",
    "   return output\n",
    "```\n",
    "\n",
    "Don't take this literally, this is not a real function that does stuff. It just has the placeholders for the important concepts of `input`, `machinery`, and `output`. This is the basic syntax and pattern that you will use when writing functions. Take a moment, look at it closely, and notice where the concepts are located because it is important. If you don't implement your functions using exactly this pattern, they won't work.\n",
    "\n",
    "However, upon close inspection, you'll notice there's one thing that is new: the `name`. We have to give our machine a name otherwise, we won't be able to use it. Think about if a juice maker, toilet, and calculator. The names of them are not part of the actual machine but it's essential that they have a way to refer to them or they would be completely useless in our society!\n",
    "\n",
    "### Let's make it real by implementing a version of the calculator\n",
    "\n",
    "Let's implement a very simple version of a calculator: one that takes two numbers and adds them together\" and we'll do this in actual code:\n"
   ]
  },
  {
   "cell_type": "code",
   "execution_count": 2,
   "metadata": {},
   "outputs": [],
   "source": [
    "def add_two_numbers(number1, number2):\n",
    "    output = number1 + number2\n",
    "    return output"
   ]
  },
  {
   "cell_type": "markdown",
   "metadata": {},
   "source": [
    "Everyone following? Can you identify the name, input, machinery, and output? In this example, you might notice something a bit different: there are two inputs! This is essential! You can pass as many inputs as you want to\n",
    "a function as long as they are separated by a `,`.\n",
    "\n",
    "Now, what do we do with this function? In general, there's really only one thing that you do with a function:\n",
    "\n",
    "<img src=\"./assets/call-it.png\" width=\"300\"/>\n",
    "\n",
    "This is a VERY important piece of vocabulary about using functions: you \"call\" them. This little piece of vocab is common across all programming languages. To use a function, you \"call\" it.\n",
    "\n",
    "So let's do it:"
   ]
  },
  {
   "cell_type": "code",
   "execution_count": 3,
   "metadata": {},
   "outputs": [
    {
     "data": {
      "text/plain": [
       "3"
      ]
     },
     "execution_count": 3,
     "metadata": {},
     "output_type": "execute_result"
    }
   ],
   "source": [
    "add_two_numbers(1, 2)"
   ]
  },
  {
   "cell_type": "markdown",
   "metadata": {},
   "source": [
    "Sweet, let's prove to ourselves that it works with other numbers as well:"
   ]
  },
  {
   "cell_type": "code",
   "execution_count": 4,
   "metadata": {},
   "outputs": [
    {
     "data": {
      "text/plain": [
       "983549313649"
      ]
     },
     "execution_count": 4,
     "metadata": {},
     "output_type": "execute_result"
    }
   ],
   "source": [
    "add_two_numbers(81726386, 983467587263)"
   ]
  },
  {
   "cell_type": "markdown",
   "metadata": {},
   "source": [
    "## Passing inputs\n",
    "\n",
    "Inputs don't have to be the values themselves directly. They can (and usually should) be variables! Let's take a look at how we can pass input as variables:"
   ]
  },
  {
   "cell_type": "code",
   "execution_count": 5,
   "metadata": {},
   "outputs": [
    {
     "data": {
      "text/plain": [
       "3"
      ]
     },
     "execution_count": 5,
     "metadata": {},
     "output_type": "execute_result"
    }
   ],
   "source": [
    "one = 1\n",
    "two = 2\n",
    "add_two_numbers(one, two)"
   ]
  },
  {
   "cell_type": "markdown",
   "metadata": {},
   "source": [
    "Boom, the power of abstraction is incredible. This pattern of passing variables into functions rather than the values themselves is what gives us the ability to re-use code that you've written an unlimited number of times in situations that you can't even imagine when you first wrote the function. \n",
    "\n",
    "**This is power.**\n",
    "\n",
    "<img src=\"./assets/power-l1.jpg\" width=\"400\"/>"
   ]
  },
  {
   "cell_type": "markdown",
   "metadata": {},
   "source": [
    "## Storing outputs\n",
    "\n",
    "When a function returns a value, you can capture it and store it in a variable for use later on. If you are using multiple functions in a row and one needs to take the output from another, this is how you do it."
   ]
  },
  {
   "cell_type": "code",
   "execution_count": 7,
   "metadata": {},
   "outputs": [],
   "source": [
    "output1 = add_two_numbers(1, 2)\n",
    "output2 = add_two_numbers(2, 3)"
   ]
  },
  {
   "cell_type": "code",
   "execution_count": 8,
   "metadata": {},
   "outputs": [
    {
     "name": "stdout",
     "output_type": "stream",
     "text": [
      "3\n"
     ]
    }
   ],
   "source": [
    "print(output1)"
   ]
  },
  {
   "cell_type": "code",
   "execution_count": 9,
   "metadata": {},
   "outputs": [
    {
     "name": "stdout",
     "output_type": "stream",
     "text": [
      "5\n"
     ]
    }
   ],
   "source": [
    "print(output2)"
   ]
  },
  {
   "cell_type": "markdown",
   "metadata": {},
   "source": [
    "**This is REAL power.**\n",
    "\n",
    "<img src=\"./assets/power-l2.jpg\" width=\"500\"/>"
   ]
  },
  {
   "cell_type": "markdown",
   "metadata": {},
   "source": [
    "## The input becomes the output"
   ]
  },
  {
   "cell_type": "code",
   "execution_count": 10,
   "metadata": {},
   "outputs": [
    {
     "data": {
      "text/plain": [
       "8"
      ]
     },
     "execution_count": 10,
     "metadata": {},
     "output_type": "execute_result"
    }
   ],
   "source": [
    "output1 = add_two_numbers(1, 2)\n",
    "output2 = add_two_numbers(2, 3)\n",
    "\n",
    "add_two_numbers(output1, output2)"
   ]
  },
  {
   "cell_type": "markdown",
   "metadata": {},
   "source": [
    "Holy crap. The output has become the input. Take a moment and let this sink in. You are using the output of one function as the input to another function.\n",
    "\n",
    "**This is limitless power.**\n",
    "\n",
    "<img src=\"./assets/power-l3.png\" width=\"500\"/>"
   ]
  },
  {
   "cell_type": "markdown",
   "metadata": {},
   "source": [
    "## Practical stuff\n",
    "\n",
    "Now that the concepts are there, let's take a moment to look at some boring but necessary things about how to write functions. These are the low-level syntactical things that you must get used to in order really add functions to your toolset as a programmer. You'll get stuck on these things and they will be annoying for a while but don't give up on them! You will need to practice, practice, practice in order to build up the muscle memory necessary."
   ]
  },
  {
   "cell_type": "markdown",
   "metadata": {},
   "source": [
    "### Syntax for writing a function\n",
    "\n",
    "Writing a function follows a set of rules. If you don't follow these rules, the code will not run. So let's pound them into our head. The syntax of a function is:\n",
    "\n",
    "```py\n",
    "def <name>(<input1>, <input2>):\n",
    "    <machinery>\n",
    "    return <output>\n",
    "```\n",
    "\n",
    "Okay this is not real python code. Rather what we have done here is put into brackets (<>) where the different concepts go. In nauseating detail, they are:\n",
    "\n",
    "1. The 3 characters `def`\n",
    "1. Space\n",
    "1. The name of the function\n",
    "1. An open paren `(`\n",
    "1. A comma-separated list of variable names (a.k.a the inputs)\n",
    "1. a close paren `(`\n",
    "1. A colon `:`\n",
    "1. A newline\n",
    "1. 4 spaces\n",
    "1. The machinery\n",
    "1. The word `return`\n",
    "1. One space\n",
    "1. The return value\n",
    "\n",
    "This seems like a lot and it seems very annoying but after a bit of practice, it'll become second nature."
   ]
  },
  {
   "cell_type": "markdown",
   "metadata": {},
   "source": [
    "### You can do lots of stuff inside of a function\n",
    "\n",
    "Most of the examples we've seen are one-liners. However you can have any amount of code that you want inside of a function as long as they are indented by 4 spaces. For example:"
   ]
  },
  {
   "cell_type": "code",
   "execution_count": 37,
   "metadata": {},
   "outputs": [],
   "source": [
    "def lots_of_stuff(param1, param2, param3, param4):\n",
    "    added = param1 + param2\n",
    "    subtracted = param3 - param4\n",
    "    multiplied = added * subtracted\n",
    "    div_by_3 = multiplied / 3\n",
    "    return div_by_3"
   ]
  },
  {
   "cell_type": "markdown",
   "metadata": {},
   "source": [
    "Get it? You can just write all the code you want as long as the params are there!"
   ]
  },
  {
   "cell_type": "markdown",
   "metadata": {},
   "source": [
    "You can call other functions from within a function. Check out how we can re-implement `lots_of_stuff` with several other functions:"
   ]
  },
  {
   "cell_type": "code",
   "execution_count": 38,
   "metadata": {},
   "outputs": [],
   "source": [
    "def add(a, b):\n",
    "    return a + b\n",
    "\n",
    "def subtract(a, b):\n",
    "    return a - b\n",
    "\n",
    "def multiply(a, b):\n",
    "    return a * b\n",
    "\n",
    "def divide_by_3(a):\n",
    "    return a / 3\n",
    "\n",
    "def lots_of_stuff(param1, param2, param3, param4):\n",
    "    added = add(param1, param2)\n",
    "    subtracted = subtract(param3, param4)\n",
    "    multiplied = multiply(added, subtracted)\n",
    "    div_by_3 = divide_by_3(multiplied)\n",
    "    return div_by_3"
   ]
  },
  {
   "cell_type": "markdown",
   "metadata": {},
   "source": [
    "Both of these should do the same thing! Once the code you are writing becomes more complicated, the importance of being able to do this should be clear."
   ]
  },
  {
   "cell_type": "markdown",
   "metadata": {},
   "source": [
    "### Syntax for calling a function"
   ]
  },
  {
   "cell_type": "markdown",
   "metadata": {},
   "source": [
    "Once you have a function written, you can call it. You do this using the name of the function. Say we have a function called `multiply_numbers`:"
   ]
  },
  {
   "cell_type": "code",
   "execution_count": 13,
   "metadata": {},
   "outputs": [],
   "source": [
    "def multiply_numbers(n1, n2):\n",
    "    output = n1 * n2\n",
    "    return output"
   ]
  },
  {
   "cell_type": "markdown",
   "metadata": {},
   "source": [
    "We know the name of the function: `multiply_numbers`. The way we can use it once we know the name is to do the following:\n",
    "\n",
    "1. Write the name of the function\n",
    "1. Open paren `(`\n",
    "1. Write the variables or values\n",
    "1. Close paren `)`"
   ]
  },
  {
   "cell_type": "code",
   "execution_count": 14,
   "metadata": {},
   "outputs": [
    {
     "data": {
      "text/plain": [
       "110"
      ]
     },
     "execution_count": 14,
     "metadata": {},
     "output_type": "execute_result"
    }
   ],
   "source": [
    "multiply_numbers(10, 11)"
   ]
  },
  {
   "cell_type": "markdown",
   "metadata": {},
   "source": [
    "### Syntax for storing the output\n",
    "\n",
    "It's the same as for calling but you add to the beginning of the line:\n",
    "\n",
    "1. Variable name\n",
    "1. Space\n",
    "1. equal `=`\n",
    "\n",
    "So if we wanted to store the output of the previous example in a variable called `multiplied_numbers` we would do the following:"
   ]
  },
  {
   "cell_type": "code",
   "execution_count": 17,
   "metadata": {},
   "outputs": [],
   "source": [
    "multiplied_numbers = multiply_numbers(10, 11)"
   ]
  },
  {
   "cell_type": "code",
   "execution_count": 18,
   "metadata": {},
   "outputs": [
    {
     "name": "stdout",
     "output_type": "stream",
     "text": [
      "110\n"
     ]
    }
   ],
   "source": [
    "print(multiplied_numbers)"
   ]
  },
  {
   "cell_type": "markdown",
   "metadata": {},
   "source": [
    "### The difference between return and print\n",
    "\n",
    "If you don't get this one right away, you're gonna have a REALLY hard time for the rest of this course. Printing and returning is not the same. Take a look at these two functions:"
   ]
  },
  {
   "cell_type": "code",
   "execution_count": 31,
   "metadata": {},
   "outputs": [],
   "source": [
    "def add_numbers(a, b):\n",
    "    output = a + b\n",
    "    return output\n",
    "\n",
    "def print_added_numbers(a, b):\n",
    "    added = a + b\n",
    "    print(added)\n",
    "    return 666"
   ]
  },
  {
   "cell_type": "markdown",
   "metadata": {},
   "source": [
    "Now let's call them and see what happens:"
   ]
  },
  {
   "cell_type": "code",
   "execution_count": 32,
   "metadata": {},
   "outputs": [
    {
     "data": {
      "text/plain": [
       "3"
      ]
     },
     "execution_count": 32,
     "metadata": {},
     "output_type": "execute_result"
    }
   ],
   "source": [
    "add_numbers(1, 2)"
   ]
  },
  {
   "cell_type": "code",
   "execution_count": 33,
   "metadata": {},
   "outputs": [
    {
     "name": "stdout",
     "output_type": "stream",
     "text": [
      "3\n"
     ]
    },
    {
     "data": {
      "text/plain": [
       "666"
      ]
     },
     "execution_count": 33,
     "metadata": {},
     "output_type": "execute_result"
    }
   ],
   "source": [
    "print_added_numbers(1, 2)"
   ]
  },
  {
   "cell_type": "markdown",
   "metadata": {},
   "source": [
    "On the surface it looks like these function do the same thing. If you call them, they will both out the number `3` on the screen. However, `print_added_numbers` also puts the value `666` on the screen next to a red `Out[]:`\n",
    "\n",
    "If you don't understand RIGHT NOW that they are different, it will be very difficult to pass this course. \n",
    "\n",
    "Let's look at the difference between the two by trying to assign the output of them to a variable:"
   ]
  },
  {
   "cell_type": "code",
   "execution_count": 34,
   "metadata": {},
   "outputs": [],
   "source": [
    "output = add_numbers(1, 2)"
   ]
  },
  {
   "cell_type": "markdown",
   "metadata": {},
   "source": [
    "Look! Nothing was printed to the screen! Now let's see what happens when we use the other one:"
   ]
  },
  {
   "cell_type": "code",
   "execution_count": 35,
   "metadata": {},
   "outputs": [
    {
     "name": "stdout",
     "output_type": "stream",
     "text": [
      "3\n"
     ]
    }
   ],
   "source": [
    "output = print_added_numbers(1, 2)"
   ]
  },
  {
   "cell_type": "markdown",
   "metadata": {},
   "source": [
    "What... it printed something. Why did put something on the screen and the other one didnt?\n",
    "\n",
    "We'll take a look at that in a minute, but we did store the output of `print_added_numbers` so let's see what it looks like:"
   ]
  },
  {
   "cell_type": "code",
   "execution_count": 36,
   "metadata": {},
   "outputs": [
    {
     "data": {
      "text/plain": [
       "666"
      ]
     },
     "execution_count": 36,
     "metadata": {},
     "output_type": "execute_result"
    }
   ],
   "source": [
    "output"
   ]
  },
  {
   "cell_type": "markdown",
   "metadata": {},
   "source": [
    "This is because printing and returning are different. When a function returns a value, it may be stored in a variable and used later on. When a function prints something, it just appears on the screen and has NO OTHER USES whatsoever.\n",
    "\n",
    "This confusion has to do with the way that Jupyter is implemented. It is because it prints the **return value** of the cell to the screen next to a red `Out[]:`. If all the cell does is call a function without storing the value in a variable, it will automatically print it to the screen next to a red `Out[]:`.\n",
    "\n",
    "The key thing to understand here is that returning and printing are fundamentally different. You can see it in the implementation of the `print_added_numbers` function. It prints one value and returns another one. It can do this because printing and returning are different.\n",
    "\n",
    "```py\n",
    "def print_added_numbers(a, b):\n",
    "    added = a + b\n",
    "    print(added)\n",
    "    return 666\n",
    "```\n",
    "\n",
    "This function prints the value of `a + b` and returns the value of `666`."
   ]
  },
  {
   "cell_type": "code",
   "execution_count": null,
   "metadata": {},
   "outputs": [],
   "source": []
  }
 ],
 "metadata": {
  "kernelspec": {
   "display_name": "Python 3",
   "language": "python",
   "name": "python3"
  },
  "language_info": {
   "codemirror_mode": {
    "name": "ipython",
    "version": 3
   },
   "file_extension": ".py",
   "mimetype": "text/x-python",
   "name": "python",
   "nbconvert_exporter": "python",
   "pygments_lexer": "ipython3",
   "version": "3.7.6"
  }
 },
 "nbformat": 4,
 "nbformat_minor": 4
}
