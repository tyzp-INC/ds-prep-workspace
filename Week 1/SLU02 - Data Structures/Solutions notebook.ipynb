{
 "cells": [
  {
   "cell_type": "markdown",
   "metadata": {
    "nbgrader": {
     "grade": false,
     "grade_id": "cell-1394850f892c0188",
     "locked": true,
     "schema_version": 3,
     "solution": false,
     "task": false
    }
   },
   "source": [
    "# SLU02 - Data Structures"
   ]
  },
  {
   "cell_type": "markdown",
   "metadata": {
    "nbgrader": {
     "grade": false,
     "grade_id": "cell-5a86818cb223223a",
     "locked": true,
     "schema_version": 1,
     "solution": false
    }
   },
   "source": [
    "### Start by importing the following packages"
   ]
  },
  {
   "cell_type": "code",
   "execution_count": 1,
   "metadata": {
    "nbgrader": {
     "grade": false,
     "grade_id": "cell-23ad005b1393abe1",
     "locked": true,
     "schema_version": 3,
     "solution": false,
     "task": false
    }
   },
   "outputs": [],
   "source": [
    "#used for evaluation\n",
    "import hashlib\n",
    "import json\n",
    "import random"
   ]
  },
  {
   "cell_type": "markdown",
   "metadata": {
    "nbgrader": {
     "grade": false,
     "grade_id": "cell-a39755a5c47d569e",
     "locked": true,
     "schema_version": 3,
     "solution": false,
     "task": false
    }
   },
   "source": [
    "In this notebook the following is tested:\n",
    "- Tuples   \n",
    "- Lists   \n",
    "- Dictionaries"
   ]
  },
  {
   "cell_type": "markdown",
   "metadata": {
    "nbgrader": {
     "grade": false,
     "grade_id": "cell-a77c1aeea1e0bae8",
     "locked": true,
     "schema_version": 3,
     "solution": false,
     "task": false
    }
   },
   "source": [
    "## Exercise 1: Tuples  <a name=\"1\"></a>"
   ]
  },
  {
   "cell_type": "markdown",
   "metadata": {
    "nbgrader": {
     "grade": false,
     "grade_id": "cell-1ae98f9e0e6d921f",
     "locked": true,
     "schema_version": 3,
     "solution": false,
     "task": false
    }
   },
   "source": [
    "This exercise covers topics learned regarding tuples."
   ]
  },
  {
   "cell_type": "markdown",
   "metadata": {
    "nbgrader": {
     "grade": false,
     "grade_id": "cell-553f559dced32ebd",
     "locked": true,
     "schema_version": 3,
     "solution": false,
     "task": false
    }
   },
   "source": [
    "### 1.1) Create a tuple "
   ]
  },
  {
   "cell_type": "markdown",
   "metadata": {
    "nbgrader": {
     "grade": false,
     "grade_id": "cell-328945c1835ecba5",
     "locked": true,
     "schema_version": 3,
     "solution": false,
     "task": false
    }
   },
   "source": [
    "Create a tuple of __floats__ named `this_tuple` with size 5."
   ]
  },
  {
   "cell_type": "code",
   "execution_count": 2,
   "metadata": {
    "nbgrader": {
     "grade": false,
     "grade_id": "cell-3a4c0b59df7bcf57",
     "locked": false,
     "schema_version": 3,
     "solution": true,
     "task": false
    }
   },
   "outputs": [
    {
     "name": "stdout",
     "output_type": "stream",
     "text": [
      "<class 'tuple'>\n",
      "5\n",
      "<class 'float'>\n"
     ]
    }
   ],
   "source": [
    "# this_tuple = ...\n",
    "\n",
    "### BEGIN SOLUTION\n",
    "this_tuple = (1., 2., 3., 4., 5.)\n",
    "print(type(this_tuple))\n",
    "print(len(this_tuple))\n",
    "print(type(this_tuple[3]))\n",
    "### END SOLUTION"
   ]
  },
  {
   "cell_type": "code",
   "execution_count": 3,
   "metadata": {
    "nbgrader": {
     "grade": true,
     "grade_id": "cell-b63230a58719fa25",
     "locked": true,
     "points": 1,
     "schema_version": 3,
     "solution": false,
     "task": false
    }
   },
   "outputs": [],
   "source": [
    "assert isinstance(this_tuple, tuple), \"Are you sure this_tuple is a tuple?\"\n",
    "assert len(this_tuple) == 5, \"The length is not quite right.\"\n",
    "assert isinstance(this_tuple[3], float), \"Did you write floats?\""
   ]
  },
  {
   "cell_type": "markdown",
   "metadata": {
    "nbgrader": {
     "grade": false,
     "grade_id": "cell-caade60192e9ee98",
     "locked": true,
     "schema_version": 1,
     "solution": false
    }
   },
   "source": [
    "### 1.2) Index a tuple"
   ]
  },
  {
   "cell_type": "markdown",
   "metadata": {
    "nbgrader": {
     "grade": false,
     "grade_id": "cell-b9e18f365178dad9",
     "locked": true,
     "schema_version": 1,
     "solution": false
    }
   },
   "source": [
    "Considering the following tuple:    "
   ]
  },
  {
   "cell_type": "code",
   "execution_count": 4,
   "metadata": {
    "nbgrader": {
     "grade": false,
     "grade_id": "cell-db62d36d8237c211",
     "locked": true,
     "schema_version": 1,
     "solution": false
    }
   },
   "outputs": [],
   "source": [
    "color = (\"red\", \"blue\", \"green\", \"yellow\", \"black\", \"white\")"
   ]
  },
  {
   "cell_type": "markdown",
   "metadata": {
    "nbgrader": {
     "grade": false,
     "grade_id": "cell-3c9441a336c01871",
     "locked": true,
     "schema_version": 1,
     "solution": false
    }
   },
   "source": [
    "Using __negative__ indexing, assign the index of the element `\"green\"` to the variable `green_index`."
   ]
  },
  {
   "cell_type": "code",
   "execution_count": 5,
   "metadata": {
    "nbgrader": {
     "grade": false,
     "grade_id": "cell-268b39f922ddc862",
     "locked": false,
     "schema_version": 3,
     "solution": true,
     "task": false
    }
   },
   "outputs": [
    {
     "name": "stdout",
     "output_type": "stream",
     "text": [
      "green\n",
      "green_index hashed: e5e0093f285a4fb94c3fcc2ad7fd04edd10d429ccda87a9aa5e4718efadf182e\n"
     ]
    }
   ],
   "source": [
    "color = (\"red\", \"blue\", \"green\", \"yellow\", \"black\", \"white\")\n",
    "#hint: the solution should be a number\n",
    "#green_index = ...\n",
    "\n",
    "### BEGIN SOLUTION\n",
    "green_index = -4\n",
    "print(color[green_index])\n",
    "print(\n",
    "    'green_index hashed:',\n",
    "    hashlib.sha256(\n",
    "        json.dumps(green_index).encode()\n",
    "    ).hexdigest()\n",
    ")\n",
    "### END SOLUTION"
   ]
  },
  {
   "cell_type": "code",
   "execution_count": 6,
   "metadata": {
    "nbgrader": {
     "grade": true,
     "grade_id": "cell-d3eb2f19b4f68632",
     "locked": true,
     "points": 1,
     "schema_version": 3,
     "solution": false,
     "task": false
    }
   },
   "outputs": [],
   "source": [
    "assert hashlib.sha256(json.dumps(green_index).encode()).hexdigest() == 'e5e0093f285a4fb94c3fcc2ad7fd04edd10d429ccda87a9aa5e4718efadf182e', \"The index is not correct. Are you using negative indexing?\""
   ]
  },
  {
   "cell_type": "markdown",
   "metadata": {
    "nbgrader": {
     "grade": false,
     "grade_id": "cell-5abddeaeeb3b55f7",
     "locked": true,
     "schema_version": 1,
     "solution": false
    }
   },
   "source": [
    "### 1.3) Slice a tuple"
   ]
  },
  {
   "cell_type": "markdown",
   "metadata": {
    "nbgrader": {
     "grade": false,
     "grade_id": "cell-3f647fb2f1a39be1",
     "locked": true,
     "schema_version": 1,
     "solution": false
    }
   },
   "source": [
    "Extract `(\"green\", \"blue\", \"red\")` from tuple `color`.   \n",
    "Assign the results to a variable called `rgb`. "
   ]
  },
  {
   "cell_type": "code",
   "execution_count": 7,
   "metadata": {
    "nbgrader": {
     "grade": false,
     "grade_id": "cell-205bd03d74d9e9f5",
     "locked": false,
     "schema_version": 3,
     "solution": true,
     "task": false
    }
   },
   "outputs": [
    {
     "name": "stdout",
     "output_type": "stream",
     "text": [
      "('green', 'blue', 'red')\n",
      "rgb hashed: 43da8949efc00c51f7d96130a25a6b902f6cfd6157817015ca6ee524e3085374\n"
     ]
    }
   ],
   "source": [
    "color = (\"red\", \"blue\", \"green\", \"yellow\", \"black\", \"white\")\n",
    "#Hint: use backwards slicing\n",
    "#rgb = ...\n",
    "\n",
    "### BEGIN SOLUTION\n",
    "rgb = color[-4:-7:-1]\n",
    "print(rgb)\n",
    "print(\n",
    "    'rgb hashed:',\n",
    "    hashlib.sha256(\n",
    "        json.dumps(rgb).encode()\n",
    "    ).hexdigest()\n",
    ")\n",
    "### END SOLUTION"
   ]
  },
  {
   "cell_type": "code",
   "execution_count": 8,
   "metadata": {
    "nbgrader": {
     "grade": true,
     "grade_id": "cell-f17f899e57df23ad",
     "locked": true,
     "points": 1,
     "schema_version": 3,
     "solution": false,
     "task": false
    }
   },
   "outputs": [],
   "source": [
    "assert isinstance(rgb, tuple), \"Is your result a tuple?\"\n",
    "assert len(rgb) == 3, \"You aren't selecting the correct number of elements.\"\n",
    "assert rgb[0] == \"green\", \"Check which elements you are selecting and their order.\"\n",
    "assert hashlib.sha256(json.dumps(rgb).encode()).hexdigest() == '43da8949efc00c51f7d96130a25a6b902f6cfd6157817015ca6ee524e3085374'"
   ]
  },
  {
   "cell_type": "markdown",
   "metadata": {
    "nbgrader": {
     "grade": false,
     "grade_id": "cell-5e645b1e02334bba",
     "locked": true,
     "schema_version": 1,
     "solution": false
    }
   },
   "source": [
    "###  1.4) Index a tuple of tuples"
   ]
  },
  {
   "cell_type": "markdown",
   "metadata": {
    "nbgrader": {
     "grade": false,
     "grade_id": "cell-014146bcca814cea",
     "locked": true,
     "schema_version": 1,
     "solution": false
    }
   },
   "source": [
    "Considering the following tuple of tuples:"
   ]
  },
  {
   "cell_type": "markdown",
   "metadata": {
    "nbgrader": {
     "grade": false,
     "grade_id": "cell-de8a17d24bdd1974",
     "locked": true,
     "schema_version": 1,
     "solution": false
    }
   },
   "source": [
    "`random_numbers = ((1, 2, 3),(4, 5, 6),(7, 8, 9),(10, 11, 12))`"
   ]
  },
  {
   "cell_type": "markdown",
   "metadata": {
    "nbgrader": {
     "grade": false,
     "grade_id": "cell-648f815248e68152",
     "locked": true,
     "schema_version": 1,
     "solution": false
    }
   },
   "source": [
    "What is the right way to extract the number 8 from `random_numbers`?"
   ]
  },
  {
   "cell_type": "markdown",
   "metadata": {
    "nbgrader": {
     "grade": false,
     "grade_id": "cell-74a3ef6157c4d1da",
     "locked": true,
     "schema_version": 1,
     "solution": false
    }
   },
   "source": [
    "a) `random_numbers[3][2]`   \n",
    "b) `random_numbers[-1][-1]`   \n",
    "c) `random_numbers[-2][1]`  \n",
    "d) `random_numbers[-1][1]`   "
   ]
  },
  {
   "cell_type": "code",
   "execution_count": 9,
   "metadata": {
    "nbgrader": {
     "grade": false,
     "grade_id": "cell-7e6632972efca3db",
     "locked": false,
     "schema_version": 3,
     "solution": true,
     "task": false
    }
   },
   "outputs": [
    {
     "name": "stdout",
     "output_type": "stream",
     "text": [
      "c\n",
      "8\n",
      "rgb hashed: 879923da020d1533f4d8e921ea7bac61e8ba41d3c89d17a4d14e3a89c6780d5d\n"
     ]
    }
   ],
   "source": [
    "#uncomment the right answer\n",
    "#answer = \"a\"\n",
    "#answer = \"b\"\n",
    "#answer = \"c\"\n",
    "#answer = \"d\"\n",
    "### BEGIN SOLUTION\n",
    "random_numbers = ( (1, 2, 3), (4, 5, 6), (7, 8, 9), (10, 11, 12) )\n",
    "answer = \"c\"\n",
    "print(answer)\n",
    "print(random_numbers[-2][1])\n",
    "print(\n",
    "    'rgb hashed:',\n",
    "    hashlib.sha256(\n",
    "        json.dumps(answer).encode()\n",
    "    ).hexdigest()\n",
    ")\n",
    "### END SOLUTION"
   ]
  },
  {
   "cell_type": "code",
   "execution_count": 10,
   "metadata": {
    "nbgrader": {
     "grade": true,
     "grade_id": "cell-a17e088c506ff934",
     "locked": true,
     "points": 1,
     "schema_version": 3,
     "solution": false,
     "task": false
    }
   },
   "outputs": [],
   "source": [
    "assert hashlib.sha256(json.dumps(answer).encode()).hexdigest() == '879923da020d1533f4d8e921ea7bac61e8ba41d3c89d17a4d14e3a89c6780d5d', \"Wrong answer.\""
   ]
  },
  {
   "cell_type": "markdown",
   "metadata": {
    "nbgrader": {
     "grade": false,
     "grade_id": "cell-a04f60836c526476",
     "locked": true,
     "schema_version": 1,
     "solution": false
    }
   },
   "source": [
    "### 1.5) Tuple of size one"
   ]
  },
  {
   "cell_type": "markdown",
   "metadata": {
    "nbgrader": {
     "grade": false,
     "grade_id": "cell-a9ff06d993ef64d8",
     "locked": true,
     "schema_version": 1,
     "solution": false
    }
   },
   "source": [
    "How can we create a tuple of size 1 __without__ using the function __tuple__?"
   ]
  },
  {
   "cell_type": "markdown",
   "metadata": {
    "nbgrader": {
     "grade": false,
     "grade_id": "cell-74acf2e1421786c0",
     "locked": true,
     "schema_version": 1,
     "solution": false
    }
   },
   "source": [
    "a) (5)   \n",
    "b) 5   \n",
    "c) [5]   \n",
    "d) 5,   "
   ]
  },
  {
   "cell_type": "code",
   "execution_count": 11,
   "metadata": {
    "nbgrader": {
     "grade": false,
     "grade_id": "cell-d239485262f1edcd",
     "locked": false,
     "schema_version": 3,
     "solution": true,
     "task": false
    }
   },
   "outputs": [
    {
     "name": "stdout",
     "output_type": "stream",
     "text": [
      "d\n",
      "<class 'tuple'>\n",
      "rgb hashed: 3fa5834dc920d385ca9b099c9fe55dcca163a6b256a261f8f147291b0e7cf633\n"
     ]
    }
   ],
   "source": [
    "#uncomment the right answer\n",
    "#answer = \"a\"\n",
    "#answer = \"b\"\n",
    "#answer = \"c\"\n",
    "#answer = \"d\"\n",
    "### BEGIN SOLUTION\n",
    "answer = \"d\"\n",
    "print(answer)\n",
    "this_tuple = 5,\n",
    "print(type(this_tuple))\n",
    "print(\n",
    "    'rgb hashed:',\n",
    "    hashlib.sha256(\n",
    "        json.dumps(answer).encode()\n",
    "    ).hexdigest()\n",
    ")\n",
    "### END SOLUTION"
   ]
  },
  {
   "cell_type": "code",
   "execution_count": 12,
   "metadata": {
    "nbgrader": {
     "grade": true,
     "grade_id": "cell-3e575a27a20113ad",
     "locked": true,
     "points": 1,
     "schema_version": 3,
     "solution": false,
     "task": false
    }
   },
   "outputs": [],
   "source": [
    "assert hashlib.sha256(json.dumps(answer).encode()).hexdigest() == '3fa5834dc920d385ca9b099c9fe55dcca163a6b256a261f8f147291b0e7cf633', \"Wrong answer.\""
   ]
  },
  {
   "cell_type": "markdown",
   "metadata": {
    "nbgrader": {
     "grade": false,
     "grade_id": "cell-6da7420f7fbc3fd5",
     "locked": true,
     "schema_version": 3,
     "solution": false,
     "task": false
    }
   },
   "source": [
    "###  1.6) Replace values in a tuple"
   ]
  },
  {
   "cell_type": "markdown",
   "metadata": {
    "nbgrader": {
     "grade": false,
     "grade_id": "cell-a1bd5ea31721b6e5",
     "locked": true,
     "schema_version": 3,
     "solution": false,
     "task": false
    }
   },
   "source": [
    "Can a tuple be modified after its creation?"
   ]
  },
  {
   "cell_type": "code",
   "execution_count": 13,
   "metadata": {
    "nbgrader": {
     "grade": false,
     "grade_id": "cell-1d7ed0f610a63b1a",
     "locked": false,
     "schema_version": 3,
     "solution": true,
     "task": false
    }
   },
   "outputs": [
    {
     "name": "stdout",
     "output_type": "stream",
     "text": [
      "no\n",
      "rgb hashed: 04a06452677210a3cdaec376fd5ebbca1714cb7af9e62bf5cce1644310a9086a\n"
     ]
    }
   ],
   "source": [
    "#uncomment the right answer\n",
    "#answer = \"yes\"\n",
    "#answer = \"no\"\n",
    "### BEGIN SOLUTION\n",
    "answer = \"no\"\n",
    "print(answer)\n",
    "print(\n",
    "    'rgb hashed:',\n",
    "    hashlib.sha256(\n",
    "        json.dumps(answer).encode()\n",
    "    ).hexdigest()\n",
    ")\n",
    "### END SOLUTION"
   ]
  },
  {
   "cell_type": "code",
   "execution_count": 14,
   "metadata": {
    "nbgrader": {
     "grade": true,
     "grade_id": "cell-c7188110ce71150e",
     "locked": true,
     "points": 1,
     "schema_version": 3,
     "solution": false,
     "task": false
    }
   },
   "outputs": [],
   "source": [
    "assert hashlib.sha256(json.dumps(answer).encode()).hexdigest() == '04a06452677210a3cdaec376fd5ebbca1714cb7af9e62bf5cce1644310a9086a', \"Wrong answer.\""
   ]
  },
  {
   "cell_type": "markdown",
   "metadata": {
    "nbgrader": {
     "grade": false,
     "grade_id": "cell-973512063e02c5a4",
     "locked": true,
     "schema_version": 3,
     "solution": false,
     "task": false
    }
   },
   "source": [
    "### 1.7) Merge two tuples"
   ]
  },
  {
   "cell_type": "markdown",
   "metadata": {
    "nbgrader": {
     "grade": false,
     "grade_id": "cell-117c66c870648a4f",
     "locked": true,
     "schema_version": 3,
     "solution": false,
     "task": false
    }
   },
   "source": [
    "Considering the following tuples:"
   ]
  },
  {
   "cell_type": "code",
   "execution_count": 15,
   "metadata": {
    "nbgrader": {
     "grade": false,
     "grade_id": "cell-b8ec0c5b5fee7b4e",
     "locked": true,
     "schema_version": 3,
     "solution": false,
     "task": false
    }
   },
   "outputs": [],
   "source": [
    "left = (1,11,22215,7,14,1,11,9,1,6,2,5)\n",
    "right = (1,24,50,45,2,45,1,1,2,1,2,1,88,9,9,9,44,5,2)"
   ]
  },
  {
   "cell_type": "markdown",
   "metadata": {
    "nbgrader": {
     "grade": false,
     "grade_id": "cell-22370b87851a9a6e",
     "locked": true,
     "schema_version": 3,
     "solution": false,
     "task": false
    }
   },
   "source": [
    "Create a tuple by merging tuples above and assign it to a third tuple called `this_tuple`. Elements in tuple __`left`__ should come before the ones on the __`right`__ tuple."
   ]
  },
  {
   "cell_type": "code",
   "execution_count": 16,
   "metadata": {
    "nbgrader": {
     "grade": false,
     "grade_id": "cell-05376cff3e8e7950",
     "locked": false,
     "schema_version": 3,
     "solution": true,
     "task": false
    }
   },
   "outputs": [
    {
     "name": "stdout",
     "output_type": "stream",
     "text": [
      "(1, 11, 22215, 7, 14, 1, 11, 9, 1, 6, 2, 5, 1, 24, 50, 45, 2, 45, 1, 1, 2, 1, 2, 1, 88, 9, 9, 9, 44, 5, 2)\n",
      "<class 'tuple'>\n",
      "31\n",
      "44\n",
      "rgb hashed: 0c1afd35431992aba438b9382b08332f4d4fed7d4380e538c047e42a223a9dd5\n"
     ]
    }
   ],
   "source": [
    "left = (1,11,22215,7,14,1,11,9,1,6,2,5)\n",
    "right = (1,24,50,45,2,45,1,1,2,1,2,1,88,9,9,9,44,5,2)\n",
    "#hint: Using operations between tuples.\n",
    "#this_tuple = ...\n",
    "\n",
    "### BEGIN SOLUTION\n",
    "this_tuple = left + right\n",
    "print(this_tuple)\n",
    "print(type(this_tuple))\n",
    "print(len(this_tuple))\n",
    "print(this_tuple[-3])\n",
    "print(\n",
    "    'rgb hashed:',\n",
    "    hashlib.sha256(\n",
    "        json.dumps(this_tuple).encode()\n",
    "    ).hexdigest()\n",
    ")\n",
    "### END SOLUTION"
   ]
  },
  {
   "cell_type": "code",
   "execution_count": 17,
   "metadata": {
    "nbgrader": {
     "grade": true,
     "grade_id": "cell-74db790f2e9e6836",
     "locked": true,
     "points": 1,
     "schema_version": 3,
     "solution": false,
     "task": false
    }
   },
   "outputs": [],
   "source": [
    "assert isinstance(this_tuple, tuple), \"The result should be a tuple.\"\n",
    "assert len(this_tuple) == 31, \"The merging is not right.\"\n",
    "assert this_tuple[-3] == 44, \"Re-check the order of the tuples.\"\n",
    "assert hashlib.sha256(json.dumps(this_tuple).encode()).hexdigest() == '0c1afd35431992aba438b9382b08332f4d4fed7d4380e538c047e42a223a9dd5'"
   ]
  },
  {
   "cell_type": "markdown",
   "metadata": {
    "nbgrader": {
     "grade": false,
     "grade_id": "cell-bd55f1b4fa5c38d0",
     "locked": true,
     "schema_version": 3,
     "solution": false,
     "task": false
    }
   },
   "source": [
    "## Exercise 2: Lists  <a name=\"2\"></a> "
   ]
  },
  {
   "cell_type": "markdown",
   "metadata": {
    "nbgrader": {
     "grade": false,
     "grade_id": "cell-2101d19e1e91bb2d",
     "locked": true,
     "schema_version": 3,
     "solution": false,
     "task": false
    }
   },
   "source": [
    "This exercise covers topics learned regarding lists."
   ]
  },
  {
   "cell_type": "markdown",
   "metadata": {
    "nbgrader": {
     "grade": false,
     "grade_id": "cell-1550468cd836e0f0",
     "locked": true,
     "schema_version": 3,
     "solution": false,
     "task": false
    }
   },
   "source": [
    "###  2.1) List Creation"
   ]
  },
  {
   "cell_type": "markdown",
   "metadata": {
    "nbgrader": {
     "grade": false,
     "grade_id": "cell-b61e2028d8892d9b",
     "locked": true,
     "schema_version": 3,
     "solution": false,
     "task": false
    }
   },
   "source": [
    "Write a list named `this_list` with length five and with the string `\"bananas\"` on negative index -4."
   ]
  },
  {
   "cell_type": "code",
   "execution_count": 18,
   "metadata": {
    "nbgrader": {
     "grade": false,
     "grade_id": "cell-f8854927f9656f23",
     "locked": false,
     "schema_version": 3,
     "solution": true,
     "task": false
    }
   },
   "outputs": [
    {
     "name": "stdout",
     "output_type": "stream",
     "text": [
      "['kiwi', 'bananas', 'melon', 'lemon', 'kiwi']\n",
      "<class 'list'>\n",
      "5\n",
      "bananas\n"
     ]
    }
   ],
   "source": [
    "#bananas = ...\n",
    "#this_list = ...\n",
    "\n",
    "### BEGIN SOLUTION\n",
    "bananas = \"bananas\"\n",
    "this_list = [\"kiwi\", bananas, \"melon\", \"lemon\", \"kiwi\"]\n",
    "print(this_list)\n",
    "print(type(this_list))\n",
    "print(len(this_list))\n",
    "print(this_list[-4])\n",
    "### END SOLUTION"
   ]
  },
  {
   "cell_type": "code",
   "execution_count": 19,
   "metadata": {
    "nbgrader": {
     "grade": true,
     "grade_id": "cell-5de18c0078e98c2e",
     "locked": true,
     "points": 1,
     "schema_version": 3,
     "solution": false,
     "task": false
    }
   },
   "outputs": [],
   "source": [
    "assert isinstance(this_list, list), \"The result should be a list.\"\n",
    "assert len(this_list) == 5, \"The length is not quite right.\"\n",
    "assert this_list[-4] == \"bananas\", \"There is no \\\"bananas\\\" on position -4.\""
   ]
  },
  {
   "cell_type": "markdown",
   "metadata": {
    "nbgrader": {
     "grade": false,
     "grade_id": "cell-fd541dc946c20f47",
     "locked": true,
     "schema_version": 3,
     "solution": false,
     "task": false
    }
   },
   "source": [
    "###  2.2) Delete and append values in a list"
   ]
  },
  {
   "cell_type": "markdown",
   "metadata": {
    "nbgrader": {
     "grade": false,
     "grade_id": "cell-1fdfc306ff602ffb",
     "locked": true,
     "schema_version": 3,
     "solution": false,
     "task": false
    }
   },
   "source": [
    "Giving the list `ice_cream`, delete `\"chocolate\"` and append `\"dulce de leche\"`."
   ]
  },
  {
   "cell_type": "code",
   "execution_count": 20,
   "metadata": {
    "nbgrader": {
     "grade": false,
     "grade_id": "cell-c22be3e4356c6e22",
     "locked": false,
     "schema_version": 3,
     "solution": true,
     "task": false
    }
   },
   "outputs": [
    {
     "name": "stdout",
     "output_type": "stream",
     "text": [
      "5\n",
      "False\n",
      "dulce de leche\n"
     ]
    }
   ],
   "source": [
    "ice_cream = [\"lemon\", \"stracciatella\", \"pistacchio\", \"chocolate\", \"vanilla\"]\n",
    "### BEGIN SOLUTION\n",
    "print(len(ice_cream))\n",
    "del ice_cream[-2]\n",
    "ice_cream.append(\"dulce de leche\")\n",
    "print(\"chocolate\" in ice_cream)\n",
    "print(ice_cream[-1])\n",
    "### END SOLUTION"
   ]
  },
  {
   "cell_type": "code",
   "execution_count": 21,
   "metadata": {
    "nbgrader": {
     "grade": true,
     "grade_id": "cell-298523708d65510d",
     "locked": true,
     "points": 1,
     "schema_version": 3,
     "solution": false,
     "task": false
    }
   },
   "outputs": [],
   "source": [
    "assert len(ice_cream) == 5, \"The operations were not performed as asked.\"\n",
    "assert \"chocolate\" not in ice_cream, \"There is still \\\"chocolate\\\" on the ice_cream.\"\n",
    "assert ice_cream[-1] == \"dulce de leche\", \"Did you append the exact ingredient?\""
   ]
  },
  {
   "cell_type": "markdown",
   "metadata": {
    "nbgrader": {
     "grade": false,
     "grade_id": "cell-0b6ee6c4b495135b",
     "locked": true,
     "schema_version": 3,
     "solution": false,
     "task": false
    }
   },
   "source": [
    "###  2.3) Delete the last value in a list"
   ]
  },
  {
   "cell_type": "markdown",
   "metadata": {
    "nbgrader": {
     "grade": false,
     "grade_id": "cell-712757f07a9f4350",
     "locked": true,
     "schema_version": 3,
     "solution": false,
     "task": false
    }
   },
   "source": [
    "Considering the following list, `ice_cream = [\"lemon\", \"vanilla\", \"stracciatella\", \"pistacchio\", \"chocolate\", \"vanilla\"]`, what is the right answer if we want to delete `\"vanilla\"` in the last position?"
   ]
  },
  {
   "cell_type": "markdown",
   "metadata": {
    "nbgrader": {
     "grade": false,
     "grade_id": "cell-8e584b9581fa898c",
     "locked": true,
     "schema_version": 3,
     "solution": false,
     "task": false
    }
   },
   "source": [
    "a) `del ice_cream[1]`   \n",
    "b) `del ice_cream[-1]`    \n",
    "c) `ice_cream.remove(\"vanilla\")`   \n",
    "d) `ice_cream[-1] = None`   "
   ]
  },
  {
   "cell_type": "code",
   "execution_count": 22,
   "metadata": {
    "nbgrader": {
     "grade": false,
     "grade_id": "cell-fafe1f47881998b6",
     "locked": false,
     "schema_version": 3,
     "solution": true,
     "task": false
    }
   },
   "outputs": [
    {
     "name": "stdout",
     "output_type": "stream",
     "text": [
      "['lemon', 'stracciatella', 'pistacchio', 'chocolate', 'vanilla']\n",
      "['lemon', 'vanilla', 'stracciatella', 'pistacchio', 'chocolate']\n",
      "['lemon', 'stracciatella', 'pistacchio', 'chocolate', 'vanilla']\n",
      "['lemon', 'vanilla', 'stracciatella', 'pistacchio', 'chocolate', None]\n",
      "rgb hashed: c100f95c1913f9c72fc1f4ef0847e1e723ffe0bde0b36e5f36c13f81fe8c26ed\n"
     ]
    }
   ],
   "source": [
    "#uncomment the right answer\n",
    "#answer = \"a\"\n",
    "#answer = \"b\"\n",
    "#answer = \"c\"\n",
    "#answer = \"d\"\n",
    "\n",
    "### BEGIN SOLUTION\n",
    "answer = \"b\"\n",
    "\n",
    "ice_cream = [\"lemon\", \"vanilla\", \"stracciatella\", \"pistacchio\", \"chocolate\", \"vanilla\"]\n",
    "del ice_cream[1]\n",
    "print(ice_cream)\n",
    "\n",
    "ice_cream = [\"lemon\", \"vanilla\", \"stracciatella\", \"pistacchio\", \"chocolate\", \"vanilla\"]\n",
    "del ice_cream[-1] \n",
    "print(ice_cream)\n",
    "\n",
    "ice_cream = [\"lemon\", \"vanilla\", \"stracciatella\", \"pistacchio\", \"chocolate\", \"vanilla\"]\n",
    "ice_cream.remove(\"vanilla\")\n",
    "print(ice_cream)\n",
    "\n",
    "ice_cream = [\"lemon\", \"vanilla\", \"stracciatella\", \"pistacchio\", \"chocolate\", \"vanilla\"]\n",
    "ice_cream[-1] = None\n",
    "print(ice_cream)\n",
    "\n",
    "\n",
    "print(\n",
    "    'rgb hashed:',\n",
    "    hashlib.sha256(\n",
    "        json.dumps(answer).encode()\n",
    "    ).hexdigest()\n",
    ")\n",
    "### END SOLUTION"
   ]
  },
  {
   "cell_type": "code",
   "execution_count": 23,
   "metadata": {
    "nbgrader": {
     "grade": true,
     "grade_id": "cell-6589184220a059bc",
     "locked": true,
     "points": 1,
     "schema_version": 3,
     "solution": false,
     "task": false
    }
   },
   "outputs": [],
   "source": [
    "assert hashlib.sha256(json.dumps(answer).encode()).hexdigest() == 'c100f95c1913f9c72fc1f4ef0847e1e723ffe0bde0b36e5f36c13f81fe8c26ed', \"Wrong answer.\""
   ]
  },
  {
   "cell_type": "markdown",
   "metadata": {
    "nbgrader": {
     "grade": false,
     "grade_id": "cell-8ffa96b3a1115a12",
     "locked": true,
     "schema_version": 3,
     "solution": false,
     "task": false
    }
   },
   "source": [
    "###  2.4) List Operations"
   ]
  },
  {
   "cell_type": "markdown",
   "metadata": {
    "nbgrader": {
     "grade": false,
     "grade_id": "cell-d3823726beb8ca39",
     "locked": true,
     "schema_version": 3,
     "solution": false,
     "task": false
    }
   },
   "source": [
    "Using list operations, create a list called `hello_world` of size 10000. It should have just two unique values, `\"hello\"` and `\"world\"`. Starting with `\"hello\"` then `\"world\"`, then `\"hello\"` and so on."
   ]
  },
  {
   "cell_type": "code",
   "execution_count": 24,
   "metadata": {
    "nbgrader": {
     "grade": false,
     "grade_id": "cell-0989f9a6a1c1f63e",
     "locked": false,
     "schema_version": 3,
     "solution": true,
     "task": false
    }
   },
   "outputs": [
    {
     "name": "stdout",
     "output_type": "stream",
     "text": [
      "10000\n",
      "hello\n",
      "world\n",
      "hello\n",
      "rgb hashed: ba01ef9ff3158651119ad5f13ef61b559dd73eff752f4a2cc05e3912c2c85d32\n"
     ]
    }
   ],
   "source": [
    "#Hint: multiply a list by a int \n",
    "#hello_world = ...\n",
    "\n",
    "### BEGIN SOLUTION\n",
    "hello_world = [\"hello\", \"world\"] * 5000\n",
    "print(len(hello_world))\n",
    "print(hello_world[0])\n",
    "print(hello_world[3])\n",
    "print(hello_world[4532])\n",
    "print(\n",
    "    'rgb hashed:',\n",
    "    hashlib.sha256(\n",
    "        json.dumps(hello_world).encode()\n",
    "    ).hexdigest()\n",
    ")\n",
    "### END SOLUTION"
   ]
  },
  {
   "cell_type": "code",
   "execution_count": 25,
   "metadata": {
    "nbgrader": {
     "grade": true,
     "grade_id": "cell-4ac5d3b434c8a490",
     "locked": true,
     "points": 2,
     "schema_version": 3,
     "solution": false,
     "task": false
    }
   },
   "outputs": [],
   "source": [
    "assert len(hello_world) == 10000, \"The size is not right.\"\n",
    "assert hello_world[0] == \"hello\", \"I guess you started on the wrong foot.\"\n",
    "assert hello_world[3] == \"world\", \"Are the words alternating?\"\n",
    "assert hello_world[4532]== \"hello\", \"Are the words alternating?\""
   ]
  },
  {
   "cell_type": "markdown",
   "metadata": {
    "nbgrader": {
     "grade": false,
     "grade_id": "cell-723e0ece87a053c0",
     "locked": true,
     "schema_version": 3,
     "solution": false,
     "task": false
    }
   },
   "source": [
    "###  2.5) Replace values and sort a list"
   ]
  },
  {
   "cell_type": "markdown",
   "metadata": {
    "nbgrader": {
     "grade": false,
     "grade_id": "cell-c799b67d2a4e420d",
     "locked": true,
     "schema_version": 3,
     "solution": false,
     "task": false
    }
   },
   "source": [
    "Replace `\"pistacchio\"` in the list `ice_cream` by `\"cream\"`. Add the sub-list `others` to the end of the list `ice_cream`.   \n",
    "After these operations, sort the elements in the list and convert it to a __tuple__."
   ]
  },
  {
   "cell_type": "code",
   "execution_count": 26,
   "metadata": {
    "nbgrader": {
     "grade": false,
     "grade_id": "cell-7327a77943c8fe67",
     "locked": false,
     "schema_version": 3,
     "solution": true,
     "task": false
    }
   },
   "outputs": [
    {
     "name": "stdout",
     "output_type": "stream",
     "text": [
      "405\n",
      "rgb hashed: bbe23485294172ad0fab1f37eee62d4f518a296aad06ea944d6d7a31e6ef58a6\n"
     ]
    }
   ],
   "source": [
    "ice_cream = [\"lemon\", \"stracciatella\", \"pistacchio\", \"chocolate\", \"vanilla\"]\n",
    "others = [\"dulce de leche\", \"caramel\", \"cookies\", \"peanut butter\"] * 100\n",
    "### BEGIN SOLUTION\n",
    "ice_cream[2] = \"cream\"\n",
    "ice_cream = ice_cream + others\n",
    "ice_cream.sort()\n",
    "ice_cream = tuple(ice_cream)\n",
    "print(len(ice_cream))\n",
    "print(\n",
    "    'rgb hashed:',\n",
    "    hashlib.sha256(\n",
    "        json.dumps(ice_cream).encode()\n",
    "    ).hexdigest()\n",
    ")\n",
    "### END SOLUTION"
   ]
  },
  {
   "cell_type": "code",
   "execution_count": 27,
   "metadata": {
    "nbgrader": {
     "grade": true,
     "grade_id": "cell-955f097b2db82b73",
     "locked": true,
     "points": 1,
     "schema_version": 3,
     "solution": false,
     "task": false
    }
   },
   "outputs": [],
   "source": [
    "assert len(ice_cream) == 405, \"The lists weren't merged right.\"\n",
    "assert ice_cream.index(\"cream\") == 201, \"Did you replaced \\\"pistacchio\\\"?\"\n",
    "assert isinstance(ice_cream, tuple), \"the result is not a tuple.\"\n",
    "assert hashlib.sha256(json.dumps(ice_cream).encode()).hexdigest() == 'bbe23485294172ad0fab1f37eee62d4f518a296aad06ea944d6d7a31e6ef58a6'"
   ]
  },
  {
   "cell_type": "markdown",
   "metadata": {
    "nbgrader": {
     "grade": false,
     "grade_id": "cell-3d05def00c8085bb",
     "locked": true,
     "schema_version": 3,
     "solution": false,
     "task": false
    }
   },
   "source": [
    "## Exercise 3: Dictionaries  <a name=\"3\"></a>"
   ]
  },
  {
   "cell_type": "markdown",
   "metadata": {
    "nbgrader": {
     "grade": false,
     "grade_id": "cell-5a58ad1650ffcb65",
     "locked": true,
     "schema_version": 3,
     "solution": false,
     "task": false
    }
   },
   "source": [
    "This exercise covers topics learned regarding dictionaries."
   ]
  },
  {
   "cell_type": "markdown",
   "metadata": {
    "nbgrader": {
     "grade": false,
     "grade_id": "cell-ef80e72e7619c2a5",
     "locked": true,
     "schema_version": 3,
     "solution": false,
     "task": false
    }
   },
   "source": [
    "###  3.1) Create a dictionary"
   ]
  },
  {
   "cell_type": "markdown",
   "metadata": {
    "nbgrader": {
     "grade": false,
     "grade_id": "cell-40652f0b472e8069",
     "locked": true,
     "schema_version": 3,
     "solution": false,
     "task": false
    }
   },
   "source": [
    "Create a dictionary called `this_dict` with 5 key-value pairs where the keys are strings and values are lists."
   ]
  },
  {
   "cell_type": "code",
   "execution_count": 28,
   "metadata": {
    "nbgrader": {
     "grade": false,
     "grade_id": "cell-bb5b978acdaaae16",
     "locked": false,
     "schema_version": 3,
     "solution": true,
     "task": false
    }
   },
   "outputs": [
    {
     "name": "stdout",
     "output_type": "stream",
     "text": [
      "5\n",
      "True\n",
      "True\n",
      "True\n"
     ]
    }
   ],
   "source": [
    "#this_dict = ...\n",
    "\n",
    "### BEGIN SOLUTION\n",
    "this_dict = {\"a\":[],\"b\":[],\"c\":[],\"d\":[],\"e\":[]}\n",
    "print(len(this_dict))\n",
    "print(isinstance(list(this_dict.keys())[0], str))\n",
    "print(isinstance(list(this_dict.values())[0], list))\n",
    "print(isinstance(list(this_dict.keys())[2], str))\n",
    "### END SOLUTION"
   ]
  },
  {
   "cell_type": "code",
   "execution_count": 29,
   "metadata": {
    "nbgrader": {
     "grade": true,
     "grade_id": "cell-0f3a2761c0922b5f",
     "locked": true,
     "points": 1,
     "schema_version": 3,
     "solution": false,
     "task": false
    }
   },
   "outputs": [],
   "source": [
    "assert isinstance(this_dict, dict), \"The result is not a dictionary.\"\n",
    "assert len(this_dict) == 5, \"The dictionary doesn't have 5 key-value pairs.\"\n",
    "assert isinstance(list(this_dict.keys())[0], str), \"The dictionary keys are not strings.\"\n",
    "assert isinstance(list(this_dict.values())[0], list), \"The dictionary values are not lists.\""
   ]
  },
  {
   "cell_type": "markdown",
   "metadata": {
    "nbgrader": {
     "grade": false,
     "grade_id": "cell-4eb22784ec1faef7",
     "locked": true,
     "schema_version": 3,
     "solution": false,
     "task": false
    }
   },
   "source": [
    "### 3.2) Extract a value from a dictionary"
   ]
  },
  {
   "cell_type": "markdown",
   "metadata": {
    "nbgrader": {
     "grade": false,
     "grade_id": "cell-0ddf38a04c12d753",
     "locked": true,
     "schema_version": 3,
     "solution": false,
     "task": false
    }
   },
   "source": [
    "Considering the following dictionary named `groceries`:"
   ]
  },
  {
   "cell_type": "code",
   "execution_count": 30,
   "metadata": {
    "nbgrader": {
     "grade": false,
     "grade_id": "cell-25012b410acd6346",
     "locked": true,
     "schema_version": 3,
     "solution": false,
     "task": false
    }
   },
   "outputs": [],
   "source": [
    "groceries = {             \n",
    "             \"bread\": {\"type\": \"grains\", \"price_per_unit\": 2, \"quantity_purchased\": 1},   \n",
    "             \"onions\": {\"type\": \"vegetables\", \"price_per_unit\": 0.5, \"quantity_purchased\": 2},   \n",
    "             \"spinages\": {\"type\": \"vegetables\" , \"price_per_unit\": 1.5, \"quantity_purchased\": 1}   \n",
    "            }"
   ]
  },
  {
   "cell_type": "markdown",
   "metadata": {
    "nbgrader": {
     "grade": false,
     "grade_id": "cell-9383a3256ed6cf8e",
     "locked": true,
     "schema_version": 3,
     "solution": false,
     "task": false
    }
   },
   "source": [
    "What is the notation that we should use in order to extract \"grains\"?"
   ]
  },
  {
   "cell_type": "markdown",
   "metadata": {
    "nbgrader": {
     "grade": false,
     "grade_id": "cell-806e772ad4255a5a",
     "locked": true,
     "schema_version": 3,
     "solution": false,
     "task": false
    }
   },
   "source": [
    "a) `groceries[\"type\"]`   \n",
    "b) `groceries[\"bread\"]`   \n",
    "c) `groceries[0][0]`   \n",
    "d) `groceries[\"bread\"][\"type\"]`"
   ]
  },
  {
   "cell_type": "code",
   "execution_count": 31,
   "metadata": {
    "nbgrader": {
     "grade": false,
     "grade_id": "cell-fd6a36d5f663708b",
     "locked": false,
     "schema_version": 3,
     "solution": true,
     "task": false
    }
   },
   "outputs": [
    {
     "name": "stdout",
     "output_type": "stream",
     "text": [
      "d\n",
      "grains\n",
      "rgb hashed: 3fa5834dc920d385ca9b099c9fe55dcca163a6b256a261f8f147291b0e7cf633\n"
     ]
    }
   ],
   "source": [
    "#uncomment the right answer\n",
    "#answer = \"a\"\n",
    "#answer = \"b\"\n",
    "#answer = \"c\"\n",
    "#answer = \"d\"\n",
    "### BEGIN SOLUTION\n",
    "answer = \"d\"\n",
    "print(answer)\n",
    "groceries = {   \n",
    "             \"bread\": {\"type\": \"grains\", \"price_per_unit\": 2, \"quantity_purchased\": 1},   \n",
    "             \"onions\": {\"type\": \"vegetables\", \"price_per_unit\": 0.5, \"quantity_purchased\": 2},   \n",
    "             \"spinages\": {\"type\": \"vegetables\" , \"price_per_unit\": 1.5, \"quantity_purchased\": 1}   \n",
    "            }\n",
    "print(groceries[\"bread\"][\"type\"])\n",
    "print(\n",
    "    'rgb hashed:',\n",
    "    hashlib.sha256(\n",
    "        json.dumps(answer).encode()\n",
    "    ).hexdigest()\n",
    ")\n",
    "### END SOLUTION"
   ]
  },
  {
   "cell_type": "code",
   "execution_count": 32,
   "metadata": {
    "nbgrader": {
     "grade": true,
     "grade_id": "cell-978adad567f2a3cb",
     "locked": true,
     "points": 1,
     "schema_version": 3,
     "solution": false,
     "task": false
    }
   },
   "outputs": [],
   "source": [
    "assert hashlib.sha256(json.dumps(answer).encode()).hexdigest() == '3fa5834dc920d385ca9b099c9fe55dcca163a6b256a261f8f147291b0e7cf633', \"Wrong answer.\""
   ]
  },
  {
   "cell_type": "markdown",
   "metadata": {
    "nbgrader": {
     "grade": false,
     "grade_id": "cell-8f98dc2d01c8e2ea",
     "locked": true,
     "schema_version": 3,
     "solution": false,
     "task": false
    }
   },
   "source": [
    "###  3.3) Replace, Append and Delete operations on dictionaries"
   ]
  },
  {
   "cell_type": "markdown",
   "metadata": {
    "nbgrader": {
     "grade": false,
     "grade_id": "cell-4fb3bae7a757d100",
     "locked": true,
     "schema_version": 3,
     "solution": false,
     "task": false
    }
   },
   "source": [
    "Considering the following dictionary named groceries:"
   ]
  },
  {
   "cell_type": "code",
   "execution_count": 33,
   "metadata": {
    "nbgrader": {
     "grade": false,
     "grade_id": "cell-5bd6dd4a4dd7f77b",
     "locked": true,
     "schema_version": 3,
     "solution": false,
     "task": false
    }
   },
   "outputs": [],
   "source": [
    "groceries = {   \n",
    "             \"bread\": {\"type\": \"grains\", \"price_per_unit\": 2, \"quantity_purchased\": 1},   \n",
    "             \"onions\": {\"type\": \"vegetables\", \"price_per_unit\": 0.5, \"quantity_purchased\": 2},   \n",
    "             \"spinages\": {\"type\": \"vegetables\" , \"price_per_unit\": 1.5, \"quantity_purchased\": 1}   \n",
    "            }"
   ]
  },
  {
   "cell_type": "markdown",
   "metadata": {
    "nbgrader": {
     "grade": false,
     "grade_id": "cell-87ba0d0c0af07caf",
     "locked": true,
     "schema_version": 3,
     "solution": false,
     "task": false
    }
   },
   "source": [
    "Complete the following questions regarding Replace, Append and Delete of key-value pairs in a dictionary."
   ]
  },
  {
   "cell_type": "markdown",
   "metadata": {
    "nbgrader": {
     "grade": false,
     "grade_id": "cell-841136c405a567d5",
     "locked": true,
     "schema_version": 3,
     "solution": false,
     "task": false
    }
   },
   "source": [
    "####  3.3.1) Replace a value on a key-value pair"
   ]
  },
  {
   "cell_type": "markdown",
   "metadata": {
    "nbgrader": {
     "grade": false,
     "grade_id": "cell-277c158b687d0838",
     "locked": true,
     "schema_version": 3,
     "solution": false,
     "task": false
    }
   },
   "source": [
    "Considering the dictionary `groceries`, update the `price_per_unit` for bread from 2 to 3.   "
   ]
  },
  {
   "cell_type": "code",
   "execution_count": 34,
   "metadata": {
    "nbgrader": {
     "grade": false,
     "grade_id": "cell-095cb4bce1528b15",
     "locked": false,
     "schema_version": 3,
     "solution": true,
     "task": false
    }
   },
   "outputs": [
    {
     "name": "stdout",
     "output_type": "stream",
     "text": [
      "3\n"
     ]
    }
   ],
   "source": [
    "### BEGIN SOLUTION\n",
    "groceries[\"bread\"][\"price_per_unit\"] = 3\n",
    "print(groceries[\"bread\"][\"price_per_unit\"])\n",
    "### END SOLUTION"
   ]
  },
  {
   "cell_type": "code",
   "execution_count": 35,
   "metadata": {
    "nbgrader": {
     "grade": true,
     "grade_id": "cell-c5c653d824ffcda9",
     "locked": true,
     "points": 1,
     "schema_version": 3,
     "solution": false,
     "task": false
    }
   },
   "outputs": [],
   "source": [
    "assert groceries[\"bread\"][\"price_per_unit\"]==3"
   ]
  },
  {
   "cell_type": "markdown",
   "metadata": {
    "nbgrader": {
     "grade": false,
     "grade_id": "cell-05bcf92ae245295a",
     "locked": true,
     "schema_version": 3,
     "solution": false,
     "task": false
    }
   },
   "source": [
    "####  3.3.2) Add a key-value pair"
   ]
  },
  {
   "cell_type": "markdown",
   "metadata": {
    "nbgrader": {
     "grade": false,
     "grade_id": "cell-8dc1761328f299cb",
     "locked": true,
     "schema_version": 3,
     "solution": false,
     "task": false
    }
   },
   "source": [
    "Add rice to our groceries. It should be of type grains, with a price per unit of 1 and in quantity 2."
   ]
  },
  {
   "cell_type": "code",
   "execution_count": 36,
   "metadata": {
    "nbgrader": {
     "grade": false,
     "grade_id": "cell-bacb5fca35772b35",
     "locked": false,
     "schema_version": 3,
     "solution": true,
     "task": false
    }
   },
   "outputs": [
    {
     "name": "stdout",
     "output_type": "stream",
     "text": [
      "{'type': 'grains', 'price_per_unit': 1, 'quantity_purchased': 2}\n"
     ]
    }
   ],
   "source": [
    "### BEGIN SOLUTION\n",
    "groceries[\"rice\"]={\"type\": \"grains\", \"price_per_unit\": 1, \"quantity_purchased\": 2}\n",
    "print(groceries[\"rice\"])\n",
    "### END SOLUTION"
   ]
  },
  {
   "cell_type": "code",
   "execution_count": 37,
   "metadata": {
    "nbgrader": {
     "grade": true,
     "grade_id": "cell-59704708ceb3f98c",
     "locked": true,
     "points": 1,
     "schema_version": 3,
     "solution": false,
     "task": false
    }
   },
   "outputs": [],
   "source": [
    "assert groceries[\"rice\"][\"type\"] == \"grains\", \"The type of grocery is wrong.\"\n",
    "assert groceries[\"rice\"][\"price_per_unit\"] == 1, \"The price per unit is wrong.\"\n",
    "assert groceries[\"rice\"][\"quantity_purchased\"] == 2, \"The quantity purchased is wrong.\""
   ]
  },
  {
   "cell_type": "markdown",
   "metadata": {
    "nbgrader": {
     "grade": false,
     "grade_id": "cell-3e19bd3419133aa8",
     "locked": true,
     "schema_version": 3,
     "solution": false,
     "task": false
    }
   },
   "source": [
    "####  3.3.3) Delete a key-value pair"
   ]
  },
  {
   "cell_type": "markdown",
   "metadata": {
    "nbgrader": {
     "grade": false,
     "grade_id": "cell-05cc4696c8447e19",
     "locked": true,
     "schema_version": 3,
     "solution": false,
     "task": false
    }
   },
   "source": [
    "Delete onions from our `groceries` dictionary."
   ]
  },
  {
   "cell_type": "code",
   "execution_count": 38,
   "metadata": {
    "nbgrader": {
     "grade": false,
     "grade_id": "cell-c8c6802714175503",
     "locked": false,
     "schema_version": 3,
     "solution": true,
     "task": false
    }
   },
   "outputs": [
    {
     "data": {
      "text/plain": [
       "True"
      ]
     },
     "execution_count": 38,
     "metadata": {},
     "output_type": "execute_result"
    }
   ],
   "source": [
    "### BEGIN SOLUTION\n",
    "del groceries[\"onions\"]\n",
    "\"onions\" not in groceries.keys()\n",
    "### END SOLUTION"
   ]
  },
  {
   "cell_type": "code",
   "execution_count": 39,
   "metadata": {
    "nbgrader": {
     "grade": true,
     "grade_id": "cell-9b202febf2268e6d",
     "locked": true,
     "points": 1,
     "schema_version": 3,
     "solution": false,
     "task": false
    }
   },
   "outputs": [],
   "source": [
    "assert \"onions\" not in groceries.keys(), \"There's still \\\"onions\\\" on the groceries.\""
   ]
  },
  {
   "cell_type": "markdown",
   "metadata": {
    "nbgrader": {
     "grade": false,
     "grade_id": "cell-cc26cedf5f773d12",
     "locked": true,
     "schema_version": 3,
     "solution": false,
     "task": false
    }
   },
   "source": [
    "###  3.4) Extract keys and values manually"
   ]
  },
  {
   "cell_type": "markdown",
   "metadata": {
    "nbgrader": {
     "grade": false,
     "grade_id": "cell-8978020027e37292",
     "locked": true,
     "schema_version": 3,
     "solution": false,
     "task": false
    }
   },
   "source": [
    "Considering the following `people_age` dictionary, write down a list with all the keys in the dictionary and another one with all the values. Even if a value is duplicated, write it as many times as it appears. Return the lists __sorted__."
   ]
  },
  {
   "cell_type": "markdown",
   "metadata": {
    "nbgrader": {
     "grade": false,
     "grade_id": "cell-dd5a697173e28766",
     "locked": true,
     "schema_version": 3,
     "solution": false,
     "task": false
    }
   },
   "source": [
    "`people_age = {\"joao\":\"senior\", \"bernardo\":\"adult\", \"joao\":\"child\", \"alberto\":\"adult\", \"amilcar\":\"child\" }`"
   ]
  },
  {
   "cell_type": "markdown",
   "metadata": {
    "nbgrader": {
     "grade": false,
     "grade_id": "cell-f8c5b0eb2ecbaa89",
     "locked": true,
     "schema_version": 3,
     "solution": false,
     "task": false
    }
   },
   "source": [
    "Create the lists manually (without using methods) by just looking at the dictionary above and writing down the values on lists. Also, try to not print the output of the dictionary `people_age`. The idea of this exercise is to guess the output of the dictionary in terms of keys and values."
   ]
  },
  {
   "cell_type": "code",
   "execution_count": 40,
   "metadata": {
    "nbgrader": {
     "grade": false,
     "grade_id": "cell-1e7bf909ee0d2ab8",
     "locked": false,
     "schema_version": 3,
     "solution": true,
     "task": false
    }
   },
   "outputs": [
    {
     "name": "stdout",
     "output_type": "stream",
     "text": [
      "4\n",
      "4\n",
      "['alberto', 'amilcar', 'bernardo', 'joao']\n",
      "['adult', 'adult', 'child', 'child']\n",
      "rgb hashed: 73a6b69681d6d29dc146cfba3fbeed0cf41d233e0ef7ed0cdda84bb0e7c64924\n",
      "rgb hashed: 39fb994d286387448ffae1e44256baace4d8329d6bd59875aeee5d6b7d17b291\n"
     ]
    }
   ],
   "source": [
    "#keys = ...\n",
    "#values = ...\n",
    "### BEGIN SOLUTION\n",
    "keys = [\"joao\", \"bernardo\", \"alberto\", \"amilcar\"]\n",
    "values = [\"child\", \"adult\", \"adult\", \"child\"]\n",
    "keys.sort()\n",
    "values.sort()\n",
    "print(len(keys))\n",
    "print(len(values))\n",
    "print(keys)\n",
    "print(values)\n",
    "print(\n",
    "    'rgb hashed:',\n",
    "    hashlib.sha256(\n",
    "        json.dumps(keys).encode()\n",
    "    ).hexdigest()\n",
    ")\n",
    "print(\n",
    "    'rgb hashed:',\n",
    "    hashlib.sha256(\n",
    "        json.dumps(values).encode()\n",
    "    ).hexdigest()\n",
    ")\n",
    "### END SOLUTION"
   ]
  },
  {
   "cell_type": "code",
   "execution_count": 41,
   "metadata": {
    "nbgrader": {
     "grade": true,
     "grade_id": "cell-89fa0ee93c6519f4",
     "locked": true,
     "points": 1,
     "schema_version": 3,
     "solution": false,
     "task": false
    }
   },
   "outputs": [],
   "source": [
    "assert hashlib.sha256(json.dumps(keys).encode()).hexdigest() == '73a6b69681d6d29dc146cfba3fbeed0cf41d233e0ef7ed0cdda84bb0e7c64924', \"The keys list is incorrect.\"\n",
    "assert hashlib.sha256(json.dumps(values).encode()).hexdigest() == '39fb994d286387448ffae1e44256baace4d8329d6bd59875aeee5d6b7d17b291', \"The values list is incorrect.\""
   ]
  },
  {
   "cell_type": "markdown",
   "metadata": {
    "nbgrader": {
     "grade": false,
     "grade_id": "cell-6eeb3376a7765ecb",
     "locked": true,
     "schema_version": 3,
     "solution": false,
     "task": false
    }
   },
   "source": [
    "###  3.5) Extract keys and values using methods"
   ]
  },
  {
   "cell_type": "markdown",
   "metadata": {
    "nbgrader": {
     "grade": false,
     "grade_id": "cell-75ca056c4b91f3d6",
     "locked": true,
     "schema_version": 3,
     "solution": false,
     "task": false
    }
   },
   "source": [
    "Considering the following dictionary called `people_age`, extract keys and values of the dictionary to a variable called `names` and `ages`, respectively. Convert the variable `ages` to a list called `list_ages` and calculate how many people are senior and assign the value to `n_seniors`.   \n",
    "Contrary to exercise 3.4, on this one you should use methods to extract keys and values."
   ]
  },
  {
   "cell_type": "code",
   "execution_count": 42,
   "metadata": {
    "nbgrader": {
     "grade": false,
     "grade_id": "cell-1f5f20a99e9e053b",
     "locked": false,
     "schema_version": 3,
     "solution": true,
     "task": false
    }
   },
   "outputs": [
    {
     "name": "stdout",
     "output_type": "stream",
     "text": [
      "dict_keys(['joao', 'bernardo', 'gabriel', 'antonio', 'maria', 'joel', 'ines', 'alberto', 'amilcar', 'emilia', 'ana', 'margarida'])\n",
      "12\n",
      "dict_values(['senior', 'adult', 'child', 'senior', 'senior', 'adult', 'adult', 'adult', 'senior', 'adult', 'adult', 'adult'])\n",
      "12\n",
      "rgb hashed: 9a2a381eef2e8212d8c8b48ab6531a62c064e9fbc39091015c8131138174eaf1\n",
      "rgb hashed: 7ec678f76d3dec3621b7f64343d89d6d9a0b8faaea6b62c529b937439e3b93f9\n",
      "rgb hashed: 4b227777d4dd1fc61c6f884f48641d02b4d121d3fd328cb08b5531fcacdabf8a\n"
     ]
    }
   ],
   "source": [
    "#Hint: find out what is the type of the variable age, you might need to convert this variable to another type.\n",
    "#Hint: you might need to use your list knowledge.\n",
    "people_age = {\"joao\":\"senior\", \"bernardo\":\"adult\", \"gabriel\":\"child\", \"antonio\":\"senior\", \"maria\":\"senior\", \"joel\":\"adult\", \"ines\":\"adult\", \"alberto\":\"adult\", \"amilcar\":\"senior\", \"emilia\":\"adult\", \"ana\":\"adult\", \"margarida\":\"adult\" }\n",
    "#names = ...\n",
    "#ages = ...\n",
    "#list_ages = ..\n",
    "#n_seniors = ...\n",
    "\n",
    "### BEGIN SOLUTION\n",
    "names = people_age.keys()\n",
    "print(names)\n",
    "print(len(names))\n",
    "ages = people_age.values()\n",
    "print(ages)\n",
    "print(len(ages))\n",
    "list_ages = list(ages)\n",
    "n_seniors = list_ages.count(\"senior\")\n",
    "\n",
    "print(\n",
    "    'rgb hashed:',\n",
    "    hashlib.sha256(\n",
    "        json.dumps(list(names)).encode()\n",
    "    ).hexdigest()\n",
    ")\n",
    "print(\n",
    "    'rgb hashed:',\n",
    "    hashlib.sha256(\n",
    "        json.dumps(list(ages)).encode()\n",
    "    ).hexdigest()\n",
    ")\n",
    "print(\n",
    "    'rgb hashed:',\n",
    "    hashlib.sha256(\n",
    "        json.dumps(n_seniors).encode()\n",
    "    ).hexdigest()\n",
    ")\n",
    "### END SOLUTION"
   ]
  },
  {
   "cell_type": "code",
   "execution_count": 43,
   "metadata": {
    "nbgrader": {
     "grade": true,
     "grade_id": "cell-2977c2eb6bba3963",
     "locked": true,
     "points": 1,
     "schema_version": 3,
     "solution": false,
     "task": false
    }
   },
   "outputs": [],
   "source": [
    "assert len(names) == 12, \"The number of names is incorrect.\"\n",
    "assert hashlib.sha256(json.dumps(list(names)).encode()).hexdigest() == '9a2a381eef2e8212d8c8b48ab6531a62c064e9fbc39091015c8131138174eaf1', \"The variable names is incorrect.\"\n",
    "assert len(ages) == 12, \"The number of ages is incorrect.\"\n",
    "assert hashlib.sha256(json.dumps(list(ages)).encode()).hexdigest() == '7ec678f76d3dec3621b7f64343d89d6d9a0b8faaea6b62c529b937439e3b93f9', \"The variable ages is incorrect.\"\n",
    "assert isinstance(list_ages, list), \"list_ages should be a list.\"\n",
    "assert hashlib.sha256(json.dumps(n_seniors).encode()).hexdigest() == '4b227777d4dd1fc61c6f884f48641d02b4d121d3fd328cb08b5531fcacdabf8a', \"The number of seniors is incorrect.\""
   ]
  }
 ],
 "metadata": {
  "celltoolbar": "Create Assignment",
  "kernelspec": {
   "display_name": "Python 3",
   "language": "python",
   "name": "python3"
  },
  "language_info": {
   "codemirror_mode": {
    "name": "ipython",
    "version": 3
   },
   "file_extension": ".py",
   "mimetype": "text/x-python",
   "name": "python",
   "nbconvert_exporter": "python",
   "pygments_lexer": "ipython3",
   "version": "3.7.4"
  }
 },
 "nbformat": 4,
 "nbformat_minor": 2
}
