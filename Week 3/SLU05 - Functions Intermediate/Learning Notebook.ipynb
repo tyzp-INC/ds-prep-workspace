{
 "cells": [
  {
   "cell_type": "markdown",
   "metadata": {},
   "source": [
    "# Functions Intermediate\n",
    "\n",
    "Please make sure that you've checked out the README for the important points about why we have this Learning Unit."
   ]
  },
  {
   "cell_type": "markdown",
   "metadata": {},
   "source": [
    "## Next steps\n",
    "\n",
    "The field of [software engineering](https://en.wikipedia.org/wiki/Software_engineering) is all about writing code in a systematic and structured way. Writing functions are the most fundamental tool we have when writing code in a structured and systematic way. There are some features of the Python programming language that directy effect how\n",
    "you write functions and thus, how you engineer your software. Scope and keyword arguments are two of the most important of these.\n",
    "\n",
    "Also, like any programming language, python has a set of functions that have already been written and are ready for use. We'll go through a few of them and tell you how to find more.\n"
   ]
  },
  {
   "cell_type": "markdown",
   "metadata": {},
   "source": [
    "### Positional Arguments\n",
    "\n",
    "The types of arguments that you've already learned are positional argument. When you see a function defined like this:\n",
    "\n",
    "```py\n",
    "def divide(a, b):\n",
    "    return a / b\n",
    "```\n",
    "\n",
    "`a` and `b` are positional arguments. A positional argument means that when you call the function, you pass in arguments in the same order (position) in which they were defined. So in this above function, we know that `a` is the first argument and `b` is the second argument. We can totally do this:\n",
    "\n",
    "```py\n",
    "divide(0, 1)\n",
    "```\n",
    "\n",
    "but we cannot do\n",
    "\n",
    "```py\n",
    "divide(1, 0)\n",
    "```\n",
    "\n",
    "because that would put `0` in the denominator. We can't have this. Not okay. Can't divide by zero.\n",
    "\n",
    "Now when you have a longer function with lots of arguments, this can start to become a problem. Say you've got a function like this:\n",
    "\n",
    "```py\n",
    "def lots_of_args(a, b, c, denom, d):\n",
    "    return (a + b + c + d) / denom\n",
    "```\n",
    "\n",
    "and then you call and set  `c=0`, `a=99`, `b=902`, `denom=5`, `d=8` you would call it like this:\n",
    "\n",
    "```py\n",
    "lots_of_args(1, 2, 5, 0, 8)\n",
    "```\n",
    "\n",
    "Run that and you'll get a bug. Then it might take a while for you to look at it to find out where the problem is. If we want to be engineers and keep our code organized, we need to learn how to do this better.\n",
    "\n"
   ]
  },
  {
   "cell_type": "markdown",
   "metadata": {},
   "source": [
    "### Keyword Arguments\n",
    "\n",
    "Keyword arguments (kwargs) help solve the above problems in two different ways in python.\n",
    "\n",
    "1. When writing functions\n",
    "1. When calling functions\n",
    "\n",
    "Let's take a look at them one at a time.\n",
    "\n",
    "#### kwargs when writing functions\n",
    "\n",
    "kwargs when writing functions is by far the more complicated of the two. However, it allows us to do two very powerful things:\n",
    "\n",
    "- Allow arguments to get a default value\n",
    "- Make the function easier to use\n",
    "\n",
    "Although it might not seem like it at first, they are equally important. Let's take a moment to look at how you might implement default values with only our current knowledge.\n",
    "\n",
    "Say we want to allow the function multiply to multiply a number by 2 by default. You could implement the following:"
   ]
  },
  {
   "cell_type": "code",
   "execution_count": 10,
   "metadata": {},
   "outputs": [],
   "source": [
    "def multiply(a, b):\n",
    "    if b is None:\n",
    "        b = 2\n",
    "    return a * b"
   ]
  },
  {
   "cell_type": "code",
   "execution_count": 11,
   "metadata": {},
   "outputs": [
    {
     "data": {
      "text/plain": [
       "12"
      ]
     },
     "execution_count": 11,
     "metadata": {},
     "output_type": "execute_result"
    }
   ],
   "source": [
    "# we can use it normally by supplying the second argument\n",
    "multiply(3, 4)"
   ]
  },
  {
   "cell_type": "code",
   "execution_count": 12,
   "metadata": {},
   "outputs": [
    {
     "data": {
      "text/plain": [
       "6"
      ]
     },
     "execution_count": 12,
     "metadata": {},
     "output_type": "execute_result"
    }
   ],
   "source": [
    "# or we can use the default value by passing\n",
    "# None in as the 2nd argument\n",
    "multiply(3, None)"
   ]
  },
  {
   "cell_type": "markdown",
   "metadata": {},
   "source": [
    "Then we would need to communicate with whoever is using this function that if you want to use the default value, you'll explicitly have to pass in the value `None` for the second argument.\n",
    "\n",
    "This is dumb. There should be a better way to do that. It makes the function definition worse and the calling worse.\n",
    "\n",
    "There is a better way. Keyword arguments. For example:"
   ]
  },
  {
   "cell_type": "code",
   "execution_count": 13,
   "metadata": {},
   "outputs": [],
   "source": [
    "# notice the b=2 for the second argument\n",
    "def multiply_with_kwargs(a, b=2):\n",
    "    return a * b"
   ]
  },
  {
   "cell_type": "code",
   "execution_count": 14,
   "metadata": {},
   "outputs": [
    {
     "data": {
      "text/plain": [
       "12"
      ]
     },
     "execution_count": 14,
     "metadata": {},
     "output_type": "execute_result"
    }
   ],
   "source": [
    "multiply_with_kwargs(3, 4)"
   ]
  },
  {
   "cell_type": "markdown",
   "metadata": {},
   "source": [
    "Then if we want to use the default value for the second, we would simply:"
   ]
  },
  {
   "cell_type": "code",
   "execution_count": 15,
   "metadata": {},
   "outputs": [
    {
     "data": {
      "text/plain": [
       "6"
      ]
     },
     "execution_count": 15,
     "metadata": {},
     "output_type": "execute_result"
    }
   ],
   "source": [
    "multiply_with_kwargs(3)"
   ]
  },
  {
   "cell_type": "markdown",
   "metadata": {},
   "source": [
    "See what happened there? It wasn't even necessary to specify the second one at all. This is really nice."
   ]
  },
  {
   "cell_type": "markdown",
   "metadata": {},
   "source": [
    "#### kwargs when calling functions\n",
    "\n",
    "The other important feature of keyword args are how they are used. Let's take a look at a few of the rules by checking out examples of functions that are defined using keyword args."
   ]
  },
  {
   "cell_type": "markdown",
   "metadata": {},
   "source": [
    "Firstly, a function with one positional argument and two keyword arguments. This means that I MUST provide the first argument when calling the function. I, however, get to **choose** whether or not I want to provide the rest."
   ]
  },
  {
   "cell_type": "code",
   "execution_count": 16,
   "metadata": {},
   "outputs": [],
   "source": [
    "def multiply_with_kwargs(a, b=2, c=3):\n",
    "    return a * b * c"
   ]
  },
  {
   "cell_type": "code",
   "execution_count": 17,
   "metadata": {},
   "outputs": [
    {
     "data": {
      "text/plain": [
       "6"
      ]
     },
     "execution_count": 17,
     "metadata": {},
     "output_type": "execute_result"
    }
   ],
   "source": [
    "multiply_with_kwargs(1)"
   ]
  },
  {
   "cell_type": "markdown",
   "metadata": {},
   "source": [
    "Or I can provide just `b`:"
   ]
  },
  {
   "cell_type": "code",
   "execution_count": 18,
   "metadata": {},
   "outputs": [
    {
     "data": {
      "text/plain": [
       "9"
      ]
     },
     "execution_count": 18,
     "metadata": {},
     "output_type": "execute_result"
    }
   ],
   "source": [
    "multiply_with_kwargs(1, b=3)"
   ]
  },
  {
   "cell_type": "markdown",
   "metadata": {},
   "source": [
    "Or I can provide both `b` and `c`:"
   ]
  },
  {
   "cell_type": "code",
   "execution_count": 19,
   "metadata": {},
   "outputs": [
    {
     "data": {
      "text/plain": [
       "30"
      ]
     },
     "execution_count": 19,
     "metadata": {},
     "output_type": "execute_result"
    }
   ],
   "source": [
    "multiply_with_kwargs(1, b=3, c=10)"
   ]
  },
  {
   "cell_type": "markdown",
   "metadata": {},
   "source": [
    "This function has 3 different ways that you can use when calling it! This comes in very handy when implementing functions that should have default values. Say for example, you are writing a function to translate and 99% of your users translate from English to Portuguese:"
   ]
  },
  {
   "cell_type": "code",
   "execution_count": 20,
   "metadata": {},
   "outputs": [],
   "source": [
    "def translate(text, source_lang='en', dest_lang='pt'):\n",
    "    return 'translating ' + text + ' now!'"
   ]
  },
  {
   "cell_type": "markdown",
   "metadata": {},
   "source": [
    "The most powerful thing that these give you are the ability to provide default values for arguments"
   ]
  },
  {
   "cell_type": "markdown",
   "metadata": {},
   "source": [
    "### Side note\n",
    "\n",
    "You can actually specify all arguments as keyword arguments, even if they are declared as positional. That means that the following usage of `multiply_with_kwargs` also works like this:"
   ]
  },
  {
   "cell_type": "code",
   "execution_count": 22,
   "metadata": {},
   "outputs": [
    {
     "data": {
      "text/plain": [
       "30"
      ]
     },
     "execution_count": 22,
     "metadata": {},
     "output_type": "execute_result"
    }
   ],
   "source": [
    "# we can call it with a=1 even though it is\n",
    "# declared as a positional argument\n",
    "\n",
    "multiply_with_kwargs(a=1, b=3, c=10)"
   ]
  },
  {
   "cell_type": "markdown",
   "metadata": {},
   "source": [
    "## Scope\n",
    "\n",
    "Scope is a very abstract but powerful concept. Normally, I would try to avoid concepts as abstract as this for an intro course but this one is so fundamental that we really must do it!\n",
    "\n",
    "Okay, so in the context let's tackle two concepts that are fundamental to using python in Jupyter notebooks:\n",
    "\n",
    "- Global Scope\n",
    "- Local Scope"
   ]
  },
  {
   "cell_type": "markdown",
   "metadata": {},
   "source": [
    "### Global Scope\n",
    "\n",
    "When you assign a value to a variable in a notebook like this:"
   ]
  },
  {
   "cell_type": "code",
   "execution_count": 1,
   "metadata": {},
   "outputs": [],
   "source": [
    "var = 1"
   ]
  },
  {
   "cell_type": "markdown",
   "metadata": {},
   "source": [
    "It means that the entire notebook has access to this variable. So anywhere else in the notebook that I want to use the variable, I can do it. Here are a few examples of just using it. Super basic, right?"
   ]
  },
  {
   "cell_type": "code",
   "execution_count": 4,
   "metadata": {},
   "outputs": [
    {
     "data": {
      "text/plain": [
       "1"
      ]
     },
     "execution_count": 4,
     "metadata": {},
     "output_type": "execute_result"
    }
   ],
   "source": [
    "var"
   ]
  },
  {
   "cell_type": "code",
   "execution_count": 5,
   "metadata": {},
   "outputs": [
    {
     "data": {
      "text/plain": [
       "3"
      ]
     },
     "execution_count": 5,
     "metadata": {},
     "output_type": "execute_result"
    }
   ],
   "source": [
    "var + 2"
   ]
  },
  {
   "cell_type": "markdown",
   "metadata": {},
   "source": [
    "That's Global Scope. It means that the symbol (in this case a variable) is available globally. \n",
    "\n",
    "So now let's take a quick look at local scope."
   ]
  },
  {
   "cell_type": "markdown",
   "metadata": {},
   "source": [
    "### Local Scope\n",
    "\n",
    "When you are writing functions, you'll often want to use variables inside of that function. So let's do that:"
   ]
  },
  {
   "cell_type": "code",
   "execution_count": 6,
   "metadata": {},
   "outputs": [],
   "source": [
    "# This function doesn't do anything useful at all, just pay\n",
    "# attention to the scope part of this example.\n",
    "\n",
    "def fun():\n",
    "    a = 1\n",
    "    b = 2\n",
    "    return a + b"
   ]
  },
  {
   "cell_type": "code",
   "execution_count": 10,
   "metadata": {},
   "outputs": [
    {
     "data": {
      "text/plain": [
       "3"
      ]
     },
     "execution_count": 10,
     "metadata": {},
     "output_type": "execute_result"
    }
   ],
   "source": [
    "# now let's call the function and see it work as expected\n",
    "\n",
    "fun()"
   ]
  },
  {
   "cell_type": "markdown",
   "metadata": {},
   "source": [
    "Now what do you think will happen if we try to access the variables `a` or `b`? Let's see:"
   ]
  },
  {
   "cell_type": "code",
   "execution_count": 8,
   "metadata": {},
   "outputs": [
    {
     "ename": "NameError",
     "evalue": "name 'a' is not defined",
     "output_type": "error",
     "traceback": [
      "\u001b[0;31m---------------------------------------------------------------------------\u001b[0m",
      "\u001b[0;31mNameError\u001b[0m                                 Traceback (most recent call last)",
      "\u001b[0;32m<ipython-input-8-3f786850e387>\u001b[0m in \u001b[0;36m<module>\u001b[0;34m\u001b[0m\n\u001b[0;32m----> 1\u001b[0;31m \u001b[0ma\u001b[0m\u001b[0;34m\u001b[0m\u001b[0;34m\u001b[0m\u001b[0m\n\u001b[0m",
      "\u001b[0;31mNameError\u001b[0m: name 'a' is not defined"
     ]
    }
   ],
   "source": [
    "a"
   ]
  },
  {
   "cell_type": "code",
   "execution_count": 9,
   "metadata": {},
   "outputs": [
    {
     "ename": "NameError",
     "evalue": "name 'b' is not defined",
     "output_type": "error",
     "traceback": [
      "\u001b[0;31m---------------------------------------------------------------------------\u001b[0m",
      "\u001b[0;31mNameError\u001b[0m                                 Traceback (most recent call last)",
      "\u001b[0;32m<ipython-input-9-89e6c98d9288>\u001b[0m in \u001b[0;36m<module>\u001b[0;34m\u001b[0m\n\u001b[0;32m----> 1\u001b[0;31m \u001b[0mb\u001b[0m\u001b[0;34m\u001b[0m\u001b[0;34m\u001b[0m\u001b[0m\n\u001b[0m",
      "\u001b[0;31mNameError\u001b[0m: name 'b' is not defined"
     ]
    }
   ],
   "source": [
    "b"
   ]
  },
  {
   "cell_type": "markdown",
   "metadata": {},
   "source": [
    "Alright, neither of these worked. Why is that you ask? It is because they were both declared in the **local scope** of the function named `fun`. And, as the word \"local\" implies, they are only available locally, in the function itself. If you try to access it from outside the function, it won't work because local scopes are not shared with the global scope."
   ]
  },
  {
   "cell_type": "markdown",
   "metadata": {},
   "source": [
    "### The interaction between local and global scope\n",
    "\n",
    "Now let's take a look at something that will blow your mind:"
   ]
  },
  {
   "cell_type": "code",
   "execution_count": 12,
   "metadata": {},
   "outputs": [],
   "source": [
    "a = 1\n",
    "\n",
    "def fun2():\n",
    "    b = 2\n",
    "    return a + b"
   ]
  },
  {
   "cell_type": "markdown",
   "metadata": {},
   "source": [
    "Now if you have any notion of self-respect, this should code should not run. It seems dangerous to be allow the global scope to be mixed in with the local scope. So let's give it a try:"
   ]
  },
  {
   "cell_type": "code",
   "execution_count": 13,
   "metadata": {},
   "outputs": [
    {
     "data": {
      "text/plain": [
       "3"
      ]
     },
     "execution_count": 13,
     "metadata": {},
     "output_type": "execute_result"
    }
   ],
   "source": [
    "fun2()"
   ]
  },
  {
   "cell_type": "markdown",
   "metadata": {},
   "source": [
    "Shit. It worked. You now have so many ways to shoot yourself in the foot. This is why it is critical to understand the interaction between local and global scopes. The rule is as follows:\n",
    "\n",
    "- Local scopes have access to the global scope\n",
    "\n",
    "So anything you define in the global scope will be available inside any of the functions that you also define in your notebook.\n",
    "\n",
    "This will end up being a problem. You will end up in the situation where you've got all kinds of things floating around in the global scope which will interact with your functions in unexpected ways. Take the following as an example:"
   ]
  },
  {
   "cell_type": "code",
   "execution_count": 18,
   "metadata": {},
   "outputs": [],
   "source": [
    "def add(c, d):\n",
    "    return var + c"
   ]
  },
  {
   "cell_type": "code",
   "execution_count": 19,
   "metadata": {},
   "outputs": [
    {
     "data": {
      "text/plain": [
       "2"
      ]
     },
     "execution_count": 19,
     "metadata": {},
     "output_type": "execute_result"
    }
   ],
   "source": [
    "add(1, 100)"
   ]
  },
  {
   "cell_type": "markdown",
   "metadata": {},
   "source": [
    "Jesus this is so dangerous. What we have written is a function that completely ignores one of it's arguments, uses a variabe that was defined in the global scope at the top of this notebook, and doesn't even give a warning. That's crazy.\n",
    "\n",
    "You'll be tempted many times to use global variables inside of your functions but YOU SHOULD NOT DO THIS! \n",
    "\n",
    "Take the following example where you have a list of all the USA state capitals: "
   ]
  },
  {
   "cell_type": "code",
   "execution_count": 22,
   "metadata": {},
   "outputs": [],
   "source": [
    "capitals = {\n",
    "  \"AL\": {\n",
    "    \"capital\": \"Montgomery\",\n",
    "  },\n",
    "  \"AK\": {\n",
    "    \"capital\": \"Juneau\",\n",
    "  },\n",
    "  \"AZ\": {\n",
    "    \"capital\": \"Phoenix\",\n",
    "  },\n",
    "  \"AR\": {\n",
    "    \"capital\": \"Little Rock\",\n",
    "  },\n",
    "  \"CA\": {\n",
    "    \"capital\": \"Sacramento\",\n",
    "  },\n",
    "  \"CO\": {\n",
    "    \"capital\": \"Denver\",\n",
    "  },\n",
    "  \"CT\": {\n",
    "    \"capital\": \"Hartford\",\n",
    "  },\n",
    "  \"DE\": {\n",
    "    \"capital\": \"Dover\",\n",
    "  },\n",
    "  \"FL\": {\n",
    "    \"capital\": \"Tallahassee\",\n",
    "  },\n",
    "  \"GA\": {\n",
    "    \"capital\": \"Atlanta\",\n",
    "  },\n",
    "  \"HI\": {\n",
    "    \"capital\": \"Honolulu\",\n",
    "  },\n",
    "  \"ID\": {\n",
    "    \"capital\": \"Boise\",\n",
    "  },\n",
    "  \"IL\": {\n",
    "    \"capital\": \"Springfield\",\n",
    "  },\n",
    "  \"IN\": {\n",
    "    \"capital\": \"Indianapolis\",\n",
    "  },\n",
    "  \"IA\": {\n",
    "    \"capital\": \"Des Moines\",\n",
    "  },\n",
    "  \"KS\": {\n",
    "    \"capital\": \"Topeka\",\n",
    "  },\n",
    "  \"KY\": {\n",
    "    \"capital\": \"Frankfort\",\n",
    "  },\n",
    "  \"LA\": {\n",
    "    \"capital\": \"Baton Rouge\",\n",
    "  },\n",
    "  \"ME\": {\n",
    "    \"capital\": \"Augusta\",\n",
    "  },\n",
    "  \"MD\": {\n",
    "    \"capital\": \"Annapolis\",\n",
    "  },\n",
    "  \"MA\": {\n",
    "    \"capital\": \"Boston\",\n",
    "  },\n",
    "  \"MI\": {\n",
    "    \"capital\": \"Lansing\",\n",
    "  },\n",
    "  \"MN\": {\n",
    "    \"capital\": \"Saint Paul\",\n",
    "  },\n",
    "  \"MS\": {\n",
    "    \"capital\": \"Jackson\",\n",
    "  },\n",
    "  \"MO\": {\n",
    "    \"capital\": \"Jefferson City\",\n",
    "  },\n",
    "  \"MT\": {\n",
    "    \"capital\": \"Helana\",\n",
    "  },\n",
    "  \"NE\": {\n",
    "    \"capital\": \"Lincoln\",\n",
    "  },\n",
    "  \"NV\": {\n",
    "    \"capital\": \"Carson City\",\n",
    "  },\n",
    "  \"NH\": {\n",
    "    \"capital\": \"Concord\",\n",
    "  },\n",
    "  \"NJ\": {\n",
    "    \"capital\": \"Trenton\",\n",
    "  },\n",
    "  \"NM\": {\n",
    "    \"capital\": \"Santa Fe\",\n",
    "  },\n",
    "  \"NY\": {\n",
    "    \"capital\": \"Albany\",\n",
    "  },\n",
    "  \"NC\": {\n",
    "    \"capital\": \"Raleigh\",\n",
    "  },\n",
    "  \"ND\": {\n",
    "    \"capital\": \"Bismarck\",\n",
    "  },\n",
    "  \"OH\": {\n",
    "    \"capital\": \"Columbus\",\n",
    "  },\n",
    "  \"OK\": {\n",
    "    \"capital\": \"Oklahoma City\",\n",
    "  },\n",
    "  \"OR\": {\n",
    "    \"capital\": \"Salem\",\n",
    "  },\n",
    "  \"PA\": {\n",
    "    \"capital\": \"Harrisburg\",\n",
    "  },\n",
    "  \"RI\": {\n",
    "    \"capital\": \"Providence\",\n",
    "  },\n",
    "  \"SC\": {\n",
    "    \"capital\": \"Columbia\",\n",
    "  },\n",
    "  \"SD\": {\n",
    "    \"capital\": \"Pierre\",\n",
    "  },\n",
    "  \"TN\": {\n",
    "    \"capital\": \"Nashville\",\n",
    "  },\n",
    "  \"TX\": {\n",
    "    \"capital\": \"Austin\",\n",
    "  },\n",
    "  \"UT\": {\n",
    "    \"capital\": \"Salt Lake City\",\n",
    "  },\n",
    "  \"VT\": {\n",
    "    \"capital\": \"Montpelier\",\n",
    "  },\n",
    "  \"VA\": {\n",
    "    \"capital\": \"Richmond\",\n",
    "  },\n",
    "  \"WA\": {\n",
    "    \"capital\": \"Olympia\",\n",
    "  },\n",
    "  \"WV\": {\n",
    "    \"capital\": \"Charleston\",\n",
    "  },\n",
    "  \"WI\": {\n",
    "    \"capital\": \"Madison\",\n",
    "  },\n",
    "  \"WY\": {\n",
    "    \"capital\": \"Cheyenne\",\n",
    "  }\n",
    "}\n",
    "\n"
   ]
  },
  {
   "cell_type": "markdown",
   "metadata": {},
   "source": [
    "and you have a function where you want to print out how many there are. You might be tempted to do this:"
   ]
  },
  {
   "cell_type": "code",
   "execution_count": 25,
   "metadata": {},
   "outputs": [
    {
     "data": {
      "text/plain": [
       "50"
      ]
     },
     "execution_count": 25,
     "metadata": {},
     "output_type": "execute_result"
    }
   ],
   "source": [
    "# Notice that the function takes no arguments and accesses\n",
    "# the variable \"capitals\" from the global namespace.\n",
    "\n",
    "def count_state_capitals():\n",
    "    return len(capitals)\n",
    "\n",
    "count_state_capitals()"
   ]
  },
  {
   "cell_type": "markdown",
   "metadata": {},
   "source": [
    "This is all well and good until either of the following things happens:\n",
    "\n",
    "1. The global variable name is changed\n",
    "1. The global variable goes away\n",
    "1. You move this function to another notebook or file that does not have it in the global scope\n",
    "\n",
    "In all of these cases, you are in for a very bad time and lots of silent errors.\n",
    "\n",
    "What you should do instead, is make sure that your functions NEVER depend on the global namespace\n",
    "for access to variables. Instead, they should always take arguments that they need. Furthermore,\n",
    "they should try to have different names than variables in the global namespace.\n",
    "\n",
    "So let's rewrite our `count_state_capitals` function with this in mind:"
   ]
  },
  {
   "cell_type": "code",
   "execution_count": 26,
   "metadata": {},
   "outputs": [],
   "source": [
    "# Now this is nice and clean and doesn't rely on mixing of scopes!\n",
    "\n",
    "def count_state_capitals(_capitals):\n",
    "    return len(_capitals)"
   ]
  },
  {
   "cell_type": "markdown",
   "metadata": {},
   "source": [
    "### The main lesson\n",
    "\n",
    "What should you take away from this lesson on scopes is that YOU SHOULD NEVER MIX THEM. You might not understand the importance of this right away but keep it in mind as you move forward! If you don't believe me now, you will soon enough :-)"
   ]
  },
  {
   "cell_type": "markdown",
   "metadata": {},
   "source": [
    "# Built-in functions\n",
    "\n",
    "The python programming language provides you with quite a few builtin functions accessible in the global namespace. You can see the official documentation for them here:\n",
    "\n",
    "https://docs.python.org/3.7/library/functions.html\n",
    "\n",
    "They are simple but powerful and allow you to do things like this:"
   ]
  },
  {
   "cell_type": "code",
   "execution_count": 28,
   "metadata": {},
   "outputs": [
    {
     "data": {
      "text/plain": [
       "6"
      ]
     },
     "execution_count": 28,
     "metadata": {},
     "output_type": "execute_result"
    }
   ],
   "source": [
    "# using the sum builtin\n",
    "sum([1, 2, 3])"
   ]
  },
  {
   "cell_type": "code",
   "execution_count": 32,
   "metadata": {},
   "outputs": [
    {
     "data": {
      "text/plain": [
       "(1, 1)"
      ]
     },
     "execution_count": 32,
     "metadata": {},
     "output_type": "execute_result"
    }
   ],
   "source": [
    "# using the abs builtin to get the absolute value of a number\n",
    "abs(-1), abs(1)"
   ]
  },
  {
   "cell_type": "code",
   "execution_count": 33,
   "metadata": {},
   "outputs": [
    {
     "name": "stdout",
     "output_type": "stream",
     "text": [
      "hello world\n"
     ]
    }
   ],
   "source": [
    "# print is one that you've already been using for a while:\n",
    "\n",
    "print('hello world')"
   ]
  },
  {
   "cell_type": "code",
   "execution_count": 34,
   "metadata": {},
   "outputs": [
    {
     "data": {
      "text/plain": [
       "100"
      ]
     },
     "execution_count": 34,
     "metadata": {},
     "output_type": "execute_result"
    }
   ],
   "source": [
    "# get the max of a list\n",
    "max([1, 2, 3, 100, 8])"
   ]
  },
  {
   "cell_type": "markdown",
   "metadata": {},
   "source": [
    "There are many other builtin functions available that are not in the global namespace. These can still be part of the python programming language by being included in the \"core\". You'll need to `import` these and you'll learn all about that in Learning Units to come."
   ]
  },
  {
   "cell_type": "markdown",
   "metadata": {},
   "source": [
    "# Combining flow-control with return statement\n",
    "\n",
    "You may want to return different values depending on some criteria. Take the following for example:"
   ]
  },
  {
   "cell_type": "code",
   "execution_count": 35,
   "metadata": {},
   "outputs": [],
   "source": [
    "def is_greater_than_10(number):\n",
    "    if number > 10:\n",
    "        return True\n",
    "    else:\n",
    "        return False"
   ]
  },
  {
   "cell_type": "markdown",
   "metadata": {},
   "source": [
    "When then allows you to be able to do this:"
   ]
  },
  {
   "cell_type": "code",
   "execution_count": 36,
   "metadata": {},
   "outputs": [
    {
     "data": {
      "text/plain": [
       "False"
      ]
     },
     "execution_count": 36,
     "metadata": {},
     "output_type": "execute_result"
    }
   ],
   "source": [
    "is_greater_than_10(1)"
   ]
  },
  {
   "cell_type": "code",
   "execution_count": 38,
   "metadata": {},
   "outputs": [
    {
     "data": {
      "text/plain": [
       "True"
      ]
     },
     "execution_count": 38,
     "metadata": {},
     "output_type": "execute_result"
    }
   ],
   "source": [
    "is_greater_than_10(11)"
   ]
  }
 ],
 "metadata": {
  "kernelspec": {
   "display_name": "Python 3",
   "language": "python",
   "name": "python3"
  },
  "language_info": {
   "codemirror_mode": {
    "name": "ipython",
    "version": 3
   },
   "file_extension": ".py",
   "mimetype": "text/x-python",
   "name": "python",
   "nbconvert_exporter": "python",
   "pygments_lexer": "ipython3",
   "version": "3.7.3"
  }
 },
 "nbformat": 4,
 "nbformat_minor": 4
}
