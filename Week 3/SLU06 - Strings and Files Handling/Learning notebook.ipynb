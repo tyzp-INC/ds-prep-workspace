{
 "cells": [
  {
   "cell_type": "markdown",
   "metadata": {},
   "source": [
    "# SLU06 - String & File Handing"
   ]
  },
  {
   "cell_type": "markdown",
   "metadata": {},
   "source": [
    "In this notebook we will be covering the following:"
   ]
  },
  {
   "cell_type": "markdown",
   "metadata": {},
   "source": [
    "### File Handling\n",
    "- Read and write files in Python  \n",
    "\n",
    "### String manipulation\n",
    "- String concatenation\n",
    "- lower/upper\n",
    "- replace\n",
    "- strip, listrip, rstrip\n",
    "- index characters (strings indexing)\n",
    "- join\n",
    "- split\n",
    "- substring\n",
    "- loop through strings\n",
    "\n",
    "### Testing, Exception raising & Handling\n",
    "- Common errors\n",
    "- Assert function\n",
    "- Raise and handle errors"
   ]
  },
  {
   "cell_type": "markdown",
   "metadata": {},
   "source": [
    "## 1) File Handling"
   ]
  },
  {
   "cell_type": "markdown",
   "metadata": {},
   "source": [
    "Handling Python files is a very important concept.\n",
    "\n",
    "Developers build a lot of programs, data scientists create different models, and all of them need to firstly read some data and then save the results.\n",
    "\n",
    "Imagine that you wanted to check how many files on your computer have a word 'Puppy'. I'm sure you wouldn't want to do it by hand! Opening hundreds and thousands of files, counting words...Boring! Let's make computer do it!"
   ]
  },
  {
   "cell_type": "markdown",
   "metadata": {},
   "source": [
    "![img](markdown/do.jpeg)"
   ]
  },
  {
   "cell_type": "markdown",
   "metadata": {},
   "source": [
    "There are multiple ways to read and save files, and they usually depend on the file format you're dealing with.\n",
    "\n",
    "Images, text data, json-files, csv-files - there are many and many of them.\n",
    "\n",
    "In this lesson we're going to learn how to handle files using built-in python functions.\n",
    "\n",
    "Let's start!"
   ]
  },
  {
   "cell_type": "markdown",
   "metadata": {},
   "source": [
    "### 1.1) Open Files"
   ]
  },
  {
   "cell_type": "markdown",
   "metadata": {},
   "source": [
    "In order to open a file in Python we can use a build-in **open()** function. \n",
    "This functions gets 2 arguments as an input: \n",
    "- file path\n",
    "- mode (optional parameter. By default mode='r')"
   ]
  },
  {
   "cell_type": "markdown",
   "metadata": {},
   "source": [
    "The path of the file is its adress on the device were the file is stored. The directory is the adress of the folder were the file is.   \n",
    "\n",
    "Thing on this analogy:\n",
    "\n"
   ]
  },
  {
   "cell_type": "markdown",
   "metadata": {},
   "source": [
    "`Device` is the world, and `path` is the adress of the `file` in this world. `Directory` is the adress of the `house` where the `file` is strored."
   ]
  },
  {
   "cell_type": "markdown",
   "metadata": {},
   "source": [
    "A __path__ of a file can be relative or absolute."
   ]
  },
  {
   "cell_type": "markdown",
   "metadata": {},
   "source": [
    "An __absolute path__ begins with the root folder.    \n",
    "\n",
    "A __relative path__ is relative to the program’s current working directory."
   ]
  },
  {
   "cell_type": "markdown",
   "metadata": {},
   "source": [
    "<img src=\"markdown/path.png\" width=\"900\" height=\"300\" >"
   ]
  },
  {
   "cell_type": "markdown",
   "metadata": {},
   "source": [
    "For file `document.txt`, on image above:\n",
    "\n",
    "__Directory__ is `C:\\home\\ds-prep-course-workspace\\week 3\\SLU06 - String and Files Handling`;\n",
    "\n",
    "__Path__ is:   \n",
    "\n",
    "- __absolute path__  is `C:\\home\\ds-prep-course-workspace\\week 3\\SLU06 - String and Files Handling\\documents.txt`;    \n",
    "- __relative path__ is `document.txt`;"
   ]
  },
  {
   "cell_type": "markdown",
   "metadata": {},
   "source": [
    "The __mode__ indicates the permission that we want to give, if we allow to do operations like reading it and writting on it. \n",
    "This parameter is optional, but by using it we are protecting the file of operations that we don't want to be executed."
   ]
  },
  {
   "cell_type": "markdown",
   "metadata": {},
   "source": [
    "The __modes__ are: \n",
    "- ‘r’ – Read mode which is used when the file is only being read \n",
    "- ‘w’ – Write mode which is used to edit and write new information to the file (any existing files with the same name will be erased when this mode is activated) \n",
    "- ‘a’ – Appending mode, which is used to add new data to the end of the file; that is new information is automatically amended to the end \n",
    "- ‘r+’ – Special read and write mode, which is used to handle both actions when working with a file\n",
    "\n"
   ]
  },
  {
   "cell_type": "markdown",
   "metadata": {},
   "source": [
    "Using relative path, let's open the file `document.txt` on read mode that is located on the same folder as this SLU."
   ]
  },
  {
   "cell_type": "code",
   "execution_count": 1,
   "metadata": {},
   "outputs": [
    {
     "data": {
      "text/plain": [
       "<_io.TextIOWrapper name='document.txt' mode='r' encoding='UTF-8'>"
      ]
     },
     "execution_count": 1,
     "metadata": {},
     "output_type": "execute_result"
    }
   ],
   "source": [
    "relative_path = \"document.txt\"\n",
    "f = open(relative_path, 'r')\n",
    "f"
   ]
  },
  {
   "cell_type": "markdown",
   "metadata": {},
   "source": [
    "Actually, **open()** doesn't read the file's content. As the name suggests, it only opens the file, returns a file object and keeps it in memory. Now that we have access to the file object, we can use some methods, which is a special type of function (you'll learn about it next week, so no need to worry about it now), to read the content of the file, or write to the file. Let's see how we can do that!"
   ]
  },
  {
   "cell_type": "markdown",
   "metadata": {},
   "source": [
    "### 1.2) Read Files"
   ]
  },
  {
   "cell_type": "markdown",
   "metadata": {},
   "source": [
    "There are a few ways to read file's content, let's see all of them."
   ]
  },
  {
   "cell_type": "markdown",
   "metadata": {},
   "source": [
    "#### 1.2.1) Read the whole content of a file"
   ]
  },
  {
   "cell_type": "markdown",
   "metadata": {},
   "source": [
    "We're going to read the whole file's content and store it in a variable called *text*:"
   ]
  },
  {
   "cell_type": "code",
   "execution_count": 2,
   "metadata": {},
   "outputs": [],
   "source": [
    "text = f.read()"
   ]
  },
  {
   "cell_type": "code",
   "execution_count": 3,
   "metadata": {},
   "outputs": [
    {
     "data": {
      "text/plain": [
       "'maria\\nate an apple\\npie for breakfast'"
      ]
     },
     "execution_count": 3,
     "metadata": {},
     "output_type": "execute_result"
    }
   ],
   "source": [
    "text"
   ]
  },
  {
   "cell_type": "markdown",
   "metadata": {},
   "source": [
    "Great! We can see it now. All the lines are stored in one variable delimited by *\\n* symbols (*\\n* means the new line).\n",
    "\n",
    "It doesn't look pretty until we print it:"
   ]
  },
  {
   "cell_type": "code",
   "execution_count": 4,
   "metadata": {},
   "outputs": [
    {
     "name": "stdout",
     "output_type": "stream",
     "text": [
      "maria\n",
      "ate an apple\n",
      "pie for breakfast\n"
     ]
    }
   ],
   "source": [
    "print(text)"
   ]
  },
  {
   "cell_type": "markdown",
   "metadata": {},
   "source": [
    "Now it looks much better. As we can see, all *\\n* symbols were removed and the text was printed on 3 separate lines (the same way as in the original file). \n",
    "\n",
    "You can open this file in a text editor if you don't trust me!"
   ]
  },
  {
   "cell_type": "markdown",
   "metadata": {},
   "source": [
    "![image.png](markdown/trust.jpeg)"
   ]
  },
  {
   "cell_type": "markdown",
   "metadata": {},
   "source": [
    "#### 1.2.2) Read Line By Line"
   ]
  },
  {
   "cell_type": "markdown",
   "metadata": {},
   "source": [
    "With `read()` method we're storing the whole file in just one string. \n",
    "\n",
    "It is also possible to read each line separatly using `readlines()`. What `readlines()` does is read all lines in the file and returns a list containing each line as a list element. We can then loop through this list, and access each of the line. Let's see how it's done!"
   ]
  },
  {
   "cell_type": "code",
   "execution_count": 9,
   "metadata": {},
   "outputs": [
    {
     "name": "stdout",
     "output_type": "stream",
     "text": [
      "[]\n"
     ]
    }
   ],
   "source": [
    "lines = f.readlines()\n",
    "print(lines)"
   ]
  },
  {
   "cell_type": "markdown",
   "metadata": {},
   "source": [
    "Wait, but why is it empty?"
   ]
  },
  {
   "cell_type": "markdown",
   "metadata": {},
   "source": [
    "\n",
    "<img src=\"markdown/wait.jpg\" width=\"300\" height=\"150\" >"
   ]
  },
  {
   "cell_type": "markdown",
   "metadata": {},
   "source": [
    "\n",
    "Let's think about what we did.\n",
    "\n",
    "We firstly opened the file and stored it in a variable called *f*. Once we opened a file, a read cursor appeared in the very beginning of this file (the same way as if we'd open it in a text editor).\n",
    "Next, we called **read()** method and stored the result in a variable called *text*. Method **read()** read through the entire file and left the read cursor at the end of the file (with nothing more to read).\n",
    "\n",
    "So the cursor was in the end of the file when we tried to read lines separately. \n",
    "\n",
    "Now let's move the cursor back and do the same thing once again using method **[seek()](https://www.tutorialspoint.com/python/file_seek.htm)**."
   ]
  },
  {
   "cell_type": "code",
   "execution_count": 6,
   "metadata": {},
   "outputs": [
    {
     "name": "stdout",
     "output_type": "stream",
     "text": [
      "['maria\\n', 'ate an apple\\n', 'pie for breakfast']\n"
     ]
    }
   ],
   "source": [
    "f.seek(0) # moves the cursor to the very beggining of the file\n",
    "lines = f.readlines()\n",
    "print(lines)"
   ]
  },
  {
   "cell_type": "markdown",
   "metadata": {},
   "source": [
    "As you can see, the output of `readlines()` is a list, with each element is a line. \n",
    "\n",
    "Let's iterate over the list and print its elements:"
   ]
  },
  {
   "cell_type": "code",
   "execution_count": 7,
   "metadata": {},
   "outputs": [
    {
     "name": "stdout",
     "output_type": "stream",
     "text": [
      "maria\n",
      "\n",
      "ate an apple\n",
      "\n",
      "pie for breakfast\n"
     ]
    }
   ],
   "source": [
    "for line in lines:\n",
    "    print(line)"
   ]
  },
  {
   "cell_type": "markdown",
   "metadata": {},
   "source": [
    "We can access separate lines simply indexing the list:"
   ]
  },
  {
   "cell_type": "code",
   "execution_count": 8,
   "metadata": {},
   "outputs": [
    {
     "name": "stdout",
     "output_type": "stream",
     "text": [
      "maria\n",
      "\n"
     ]
    }
   ],
   "source": [
    "print(lines[0])"
   ]
  },
  {
   "cell_type": "markdown",
   "metadata": {},
   "source": [
    "#### 1.2.3) Read a single line"
   ]
  },
  {
   "cell_type": "markdown",
   "metadata": {},
   "source": [
    "Actually, we don't have to read the whole file if we don't want to.\n",
    "\n",
    "Sometimes a file might be large, and we don't want to store large files in the memory. Our PC has a limited amount of memory, so we can't just put terabytes of images in there. So here line-by-line reading comes in!\n",
    "\n",
    "Let's just read the first line of the file (don't forget to move the cursor)"
   ]
  },
  {
   "cell_type": "code",
   "execution_count": 12,
   "metadata": {},
   "outputs": [
    {
     "data": {
      "text/plain": [
       "'maria\\n'"
      ]
     },
     "execution_count": 12,
     "metadata": {},
     "output_type": "execute_result"
    }
   ],
   "source": [
    "f.seek(0)\n",
    "f.readline()"
   ]
  },
  {
   "cell_type": "markdown",
   "metadata": {},
   "source": [
    "And the second line:"
   ]
  },
  {
   "cell_type": "code",
   "execution_count": 10,
   "metadata": {},
   "outputs": [
    {
     "data": {
      "text/plain": [
       "'ate an apple\\n'"
      ]
     },
     "execution_count": 10,
     "metadata": {},
     "output_type": "execute_result"
    }
   ],
   "source": [
    "f.readline()"
   ]
  },
  {
   "cell_type": "markdown",
   "metadata": {},
   "source": [
    "As you can see, every time we execute the readline method, the cursor moves to the next sentence. \n",
    "\n",
    "Because of that, the output of readline() is different everytime we call it."
   ]
  },
  {
   "cell_type": "markdown",
   "metadata": {},
   "source": [
    "So, we already know how to open a file, read the whole file or read a single line."
   ]
  },
  {
   "cell_type": "markdown",
   "metadata": {},
   "source": [
    "### 1.3) Close"
   ]
  },
  {
   "cell_type": "markdown",
   "metadata": {},
   "source": [
    "It's important to mention, that the same way as we usually close programs after we used them on a PC, we also should close files in python:"
   ]
  },
  {
   "cell_type": "code",
   "execution_count": 11,
   "metadata": {},
   "outputs": [],
   "source": [
    "f.close()"
   ]
  },
  {
   "cell_type": "markdown",
   "metadata": {},
   "source": [
    "### 1.4) 'with open()' statement"
   ]
  },
  {
   "cell_type": "markdown",
   "metadata": {},
   "source": [
    "If we don't want to close the files each time we use it, we can use 'with open()' statement. "
   ]
  },
  {
   "cell_type": "code",
   "execution_count": 12,
   "metadata": {},
   "outputs": [
    {
     "name": "stdout",
     "output_type": "stream",
     "text": [
      "maria\n",
      "\n",
      "ate an apple\n",
      "\n",
      "pie for breakfast\n"
     ]
    }
   ],
   "source": [
    "with open('document.txt') as f: # open the file and store it in 'f'\n",
    "    lines = f.readlines() # read all the lines\n",
    "    for line in lines: # iterate over each separate line\n",
    "        print(line) # print this line"
   ]
  },
  {
   "cell_type": "markdown",
   "metadata": {},
   "source": [
    "As soon as python compiler reaches the end of \"with\" statement, the file will automatically be closed."
   ]
  },
  {
   "cell_type": "markdown",
   "metadata": {},
   "source": [
    "### 1.5) Writing to files"
   ]
  },
  {
   "cell_type": "markdown",
   "metadata": {},
   "source": [
    "The last thing to mention is the fact, that we can also write information to files\n",
    "\n",
    "What we need to do is:\n",
    "- Open the file with permissions to write (by default, when we call **open()** function, it opens the file with read-only permissions)\n",
    "- Write lines to the file\n",
    "- Close the files"
   ]
  },
  {
   "cell_type": "code",
   "execution_count": 13,
   "metadata": {},
   "outputs": [],
   "source": [
    "# open a new file with write permissions (mode='w')\n",
    "with open('new_document.txt', mode='w') as f:\n",
    "    f.write(\"I just learned how to deal with files in python\")"
   ]
  },
  {
   "cell_type": "markdown",
   "metadata": {},
   "source": [
    "Now find this file locally! It's going to be stored in the same directory where this jupyter notebook is stored.\n",
    "\n",
    "And now that we wrote on the file let's check what is inside with what we learned so far."
   ]
  },
  {
   "cell_type": "code",
   "execution_count": 14,
   "metadata": {},
   "outputs": [
    {
     "name": "stdout",
     "output_type": "stream",
     "text": [
      "['I just learned how to deal with files in python']\n"
     ]
    }
   ],
   "source": [
    "with open('new_document.txt') as f:\n",
    "    print(f.readlines())"
   ]
  },
  {
   "cell_type": "markdown",
   "metadata": {},
   "source": [
    "## 2) Strings Manipulation"
   ]
  },
  {
   "cell_type": "markdown",
   "metadata": {},
   "source": [
    "We already learned about different types of variables in python (int, string, float etc.)\n",
    "\n",
    "Now it's time to learn about strings deeper.\n",
    "\n",
    "As you already now, strings represent text in programming languages.\n",
    "\n",
    "Programmers and data scientists work with strings all the time. Look around, almost everything has text!\n",
    "More then that, there is a big field in Data Science called Natural Language Processing, in which the only thing we work with is ... text!\n",
    "\n",
    "Text is so good that matematicians decided to add some letters to formulas just because it's beautiful, you see? \n",
    "\n",
    "So let's learn how to deal with it!"
   ]
  },
  {
   "cell_type": "markdown",
   "metadata": {},
   "source": [
    "!['img'](markdown/text.jpeg)"
   ]
  },
  {
   "cell_type": "code",
   "execution_count": 15,
   "metadata": {},
   "outputs": [
    {
     "name": "stdout",
     "output_type": "stream",
     "text": [
      "<class 'str'>\n"
     ]
    },
    {
     "data": {
      "text/plain": [
       "'maria\\n'"
      ]
     },
     "execution_count": 15,
     "metadata": {},
     "output_type": "execute_result"
    }
   ],
   "source": [
    "f = open('document.txt')\n",
    "lines = f.readlines()\n",
    "sentence_1 = lines[0]\n",
    "print(type(sentence_1)) # print the type of the variable\n",
    "sentence_1"
   ]
  },
  {
   "cell_type": "markdown",
   "metadata": {},
   "source": [
    "### 2.1) strip, rstrip and lstrip Methods"
   ]
  },
  {
   "cell_type": "markdown",
   "metadata": {},
   "source": [
    "As you can see, sentence_1 is a string *(<class 'str'>)* representing the first line of the *document.txt*\n",
    "\n",
    "It contains *\\n* symbols, so let's remove them.\n",
    "\n",
    "We can use **strip()** method for that.\n",
    "\n",
    "**Strip()** allows us to remove any whitespaces (whitespace is any horizontal/vertical space. So both \" \" and \"\\n\" symbols) in a string.\n",
    "\n",
    "There are also **lstrip()**, which removes whitespaces to the left of the string, and **rstrip()** methods, which removes whitespaces to the right of the string"
   ]
  },
  {
   "cell_type": "code",
   "execution_count": 16,
   "metadata": {},
   "outputs": [
    {
     "data": {
      "text/plain": [
       "'word'"
      ]
     },
     "execution_count": 16,
     "metadata": {},
     "output_type": "execute_result"
    }
   ],
   "source": [
    "s = '\\n\\n   word   \\n\\n'\n",
    "s.strip()"
   ]
  },
  {
   "cell_type": "code",
   "execution_count": 17,
   "metadata": {},
   "outputs": [
    {
     "data": {
      "text/plain": [
       "'\\n\\n   word'"
      ]
     },
     "execution_count": 17,
     "metadata": {},
     "output_type": "execute_result"
    }
   ],
   "source": [
    "s.rstrip()"
   ]
  },
  {
   "cell_type": "code",
   "execution_count": 18,
   "metadata": {},
   "outputs": [
    {
     "data": {
      "text/plain": [
       "'word   \\n\\n'"
      ]
     },
     "execution_count": 18,
     "metadata": {},
     "output_type": "execute_result"
    }
   ],
   "source": [
    "s.lstrip()"
   ]
  },
  {
   "cell_type": "markdown",
   "metadata": {},
   "source": [
    "We can also define the symbol that should be removed by strip() method. So if we want to keep spaces, but want to remove \"\\n\" symbols, we can do it the following way:"
   ]
  },
  {
   "cell_type": "code",
   "execution_count": 19,
   "metadata": {},
   "outputs": [
    {
     "data": {
      "text/plain": [
       "'   word   '"
      ]
     },
     "execution_count": 19,
     "metadata": {},
     "output_type": "execute_result"
    }
   ],
   "source": [
    "s.strip('\\n')"
   ]
  },
  {
   "cell_type": "markdown",
   "metadata": {},
   "source": [
    "### 2.2) Strings concatenation"
   ]
  },
  {
   "cell_type": "markdown",
   "metadata": {},
   "source": [
    "Now let's read all the lines from the document, concatenate them (combine them in one string) and remove all the \\n symbols:"
   ]
  },
  {
   "cell_type": "code",
   "execution_count": 20,
   "metadata": {},
   "outputs": [
    {
     "data": {
      "text/plain": [
       "['maria\\n', 'ate an apple\\n', 'pie for breakfast']"
      ]
     },
     "execution_count": 20,
     "metadata": {},
     "output_type": "execute_result"
    }
   ],
   "source": [
    "lines"
   ]
  },
  {
   "cell_type": "code",
   "execution_count": 21,
   "metadata": {},
   "outputs": [
    {
     "data": {
      "text/plain": [
       "'mariaate an applepie for breakfast'"
      ]
     },
     "execution_count": 21,
     "metadata": {},
     "output_type": "execute_result"
    }
   ],
   "source": [
    "# concatenate strings using + and remove whitespaces using strip() function\n",
    "sentence = lines[0].strip() + lines[1].strip() + lines[2].strip() \n",
    "sentence"
   ]
  },
  {
   "cell_type": "markdown",
   "metadata": {},
   "source": [
    "Looks like we also need to add spaces between lines. \n",
    "\n",
    "Let's do it:"
   ]
  },
  {
   "cell_type": "code",
   "execution_count": 22,
   "metadata": {},
   "outputs": [
    {
     "data": {
      "text/plain": [
       "'maria ate an apple pie for breakfast'"
      ]
     },
     "execution_count": 22,
     "metadata": {},
     "output_type": "execute_result"
    }
   ],
   "source": [
    "# concatenate strings with spaces (' ')\n",
    "sentence = lines[0].strip() + ' ' + lines[1].strip() + ' ' + lines[2].strip() \n",
    "sentence"
   ]
  },
  {
   "cell_type": "markdown",
   "metadata": {},
   "source": [
    "### 2.3) lower and upper methods"
   ]
  },
  {
   "cell_type": "markdown",
   "metadata": {},
   "source": [
    "Now let's learn about **lower()** and **upper()** methods.\n",
    "\n",
    "Python allows us to easily change the whole line to upper or lowercase if we want to:"
   ]
  },
  {
   "cell_type": "code",
   "execution_count": 23,
   "metadata": {},
   "outputs": [
    {
     "name": "stdout",
     "output_type": "stream",
     "text": [
      "MARIA ATE AN APPLE PIE FOR BREAKFAST\n"
     ]
    }
   ],
   "source": [
    "sentence = sentence.upper()\n",
    "print(sentence)"
   ]
  },
  {
   "cell_type": "markdown",
   "metadata": {},
   "source": [
    "![capital](markdown/capital.jpeg)"
   ]
  },
  {
   "cell_type": "code",
   "execution_count": 24,
   "metadata": {},
   "outputs": [
    {
     "name": "stdout",
     "output_type": "stream",
     "text": [
      "maria ate an apple pie for breakfast\n"
     ]
    }
   ],
   "source": [
    "sentence = sentence.lower()\n",
    "print(sentence)"
   ]
  },
  {
   "cell_type": "markdown",
   "metadata": {},
   "source": [
    "This functions might be really useful in some cases. \n",
    "\n",
    "For example, trying to understand if a movie review is positive or negative. \n",
    "\n",
    "It's often a good idea to convert all the words to lowercase, because there is no difference for us if a user wrote 'bad', 'BAD' or 'Bad' - all these 3 strings are different for the machine, but they have the same meaning for us."
   ]
  },
  {
   "cell_type": "markdown",
   "metadata": {},
   "source": [
    "### 2.4) Replace method and substrings"
   ]
  },
  {
   "cell_type": "markdown",
   "metadata": {},
   "source": [
    "We'd like to be polite and call Maria with a capital letter. \n",
    "\n",
    "One of the ways to do it is with **replace()** method. It allows us to replace all *substrings* A with another substring B. \n",
    "\n",
    "P.S, substring is a string which is a part of another string. E.g., 'ma' is a substring of 'maria'."
   ]
  },
  {
   "cell_type": "markdown",
   "metadata": {},
   "source": [
    "Let's firstly replace all 'm' characters with 'M'."
   ]
  },
  {
   "cell_type": "code",
   "execution_count": 25,
   "metadata": {},
   "outputs": [
    {
     "data": {
      "text/plain": [
       "'Maria ate an apple pie for breakfast'"
      ]
     },
     "execution_count": 25,
     "metadata": {},
     "output_type": "execute_result"
    }
   ],
   "source": [
    "sentence.replace('m', 'M')"
   ]
  },
  {
   "cell_type": "markdown",
   "metadata": {},
   "source": [
    "Remember that this method doesn't replace the original string. It only returns a copy of the original string with the replaced letters.\n",
    "If we want to overwrite the original string, we can simply write:\n",
    "`sentence = sentence.replace('m', 'M')`\n",
    "\n",
    "Now let's try to replace some words in the function above so we get a sentence \"Anna ate a big apple pie\" and save them in a separate variable"
   ]
  },
  {
   "cell_type": "code",
   "execution_count": 26,
   "metadata": {},
   "outputs": [
    {
     "name": "stdout",
     "output_type": "stream",
     "text": [
      "Anna ate a big apple pie\n"
     ]
    }
   ],
   "source": [
    "new_sentence = sentence.replace('maria', 'Anna')\n",
    "new_sentence = new_sentence.replace('an', 'a big')\n",
    "new_sentence = new_sentence.replace(' for breakfast', '')\n",
    "print(new_sentence)"
   ]
  },
  {
   "cell_type": "markdown",
   "metadata": {},
   "source": [
    "And replace 'a' with 'the' in the this sentence"
   ]
  },
  {
   "cell_type": "code",
   "execution_count": 27,
   "metadata": {},
   "outputs": [
    {
     "data": {
      "text/plain": [
       "'Annthe thete the big thepple pie'"
      ]
     },
     "execution_count": 27,
     "metadata": {},
     "output_type": "execute_result"
    }
   ],
   "source": [
    "new_sentence.replace('a', 'the')"
   ]
  },
  {
   "cell_type": "markdown",
   "metadata": {},
   "source": [
    "Oops, something went wrong. \n",
    "\n",
    "Remember I told you this function replaces any substring? That's what it did - replaced all 'a' with 'the'. Be careful with it."
   ]
  },
  {
   "cell_type": "markdown",
   "metadata": {},
   "source": [
    "### 2.5) Strings indexing"
   ]
  },
  {
   "cell_type": "markdown",
   "metadata": {},
   "source": [
    "The same way as with lists, we can index strings using this notation: string[index].\n",
    "It's a simple way to get just one string's character\n",
    "\n",
    "But first let's remind ourselves about python lists. \n",
    "\n",
    "Do you remember how we accessed the first word in a list of 5 words in the beginning of the exercise? `word = lines[0]`\n",
    "\n",
    "In some meaning a string is similar to a list of characters. We can index them the same way as we do with lists:"
   ]
  },
  {
   "cell_type": "code",
   "execution_count": 28,
   "metadata": {},
   "outputs": [
    {
     "name": "stdout",
     "output_type": "stream",
     "text": [
      "maria ate an apple pie for breakfast\n",
      "m\n"
     ]
    }
   ],
   "source": [
    "# print the whole string\n",
    "print(sentence)\n",
    "# print the first character of the string (index 0)\n",
    "print(sentence[0])"
   ]
  },
  {
   "cell_type": "markdown",
   "metadata": {},
   "source": [
    "### 2.6) Strings slicing"
   ]
  },
  {
   "cell_type": "markdown",
   "metadata": {},
   "source": [
    "The same way as with lists, we can slice strings. \n",
    "\n",
    "Let's print the first word of the sentence. `maria` takes indexes from 0 to 5:"
   ]
  },
  {
   "cell_type": "code",
   "execution_count": 29,
   "metadata": {},
   "outputs": [
    {
     "data": {
      "text/plain": [
       "'maria'"
      ]
     },
     "execution_count": 29,
     "metadata": {},
     "output_type": "execute_result"
    }
   ],
   "source": [
    "sentence[0:5]"
   ]
  },
  {
   "cell_type": "markdown",
   "metadata": {},
   "source": [
    "If now we combine our knowledge of strings concatenating, indexing and slicing, we can build a whole new string from the original one."
   ]
  },
  {
   "cell_type": "code",
   "execution_count": 30,
   "metadata": {},
   "outputs": [
    {
     "data": {
      "text/plain": [
       "'I like an apple'"
      ]
     },
     "execution_count": 30,
     "metadata": {},
     "output_type": "execute_result"
    }
   ],
   "source": [
    "sentence[3].upper() + ' like ' + sentence[10:18]"
   ]
  },
  {
   "cell_type": "markdown",
   "metadata": {},
   "source": [
    "Let's use the same technique to replace the first letter in the original sentence: \n",
    "> maria -> Maria."
   ]
  },
  {
   "cell_type": "code",
   "execution_count": 31,
   "metadata": {},
   "outputs": [
    {
     "name": "stdout",
     "output_type": "stream",
     "text": [
      "Maria ate an apple pie for breakfast\n"
     ]
    }
   ],
   "source": [
    "# apply upper() to the first letter\n",
    "# concatenate it with the rest of the sentence (starting from second letter)\n",
    "sentence = sentence[0].upper() + sentence[1:] \n",
    "print(sentence)"
   ]
  },
  {
   "cell_type": "markdown",
   "metadata": {},
   "source": [
    "### 2.7)  join method"
   ]
  },
  {
   "cell_type": "markdown",
   "metadata": {},
   "source": [
    "There is another way to combine strings. \n",
    "\n",
    "Let's use **join()** for that. \n",
    "\n",
    "The **join()** method takes all items in an iterable and joins them into one string, separating each element by some symbol."
   ]
  },
  {
   "cell_type": "markdown",
   "metadata": {},
   "source": [
    "Let's first try to use spaces to separate the words from the list on the outputed string."
   ]
  },
  {
   "cell_type": "code",
   "execution_count": 32,
   "metadata": {},
   "outputs": [
    {
     "data": {
      "text/plain": [
       "'maria ate an apple pie for breakfast'"
      ]
     },
     "execution_count": 32,
     "metadata": {},
     "output_type": "execute_result"
    }
   ],
   "source": [
    "' '.join(['maria', 'ate', 'an', 'apple', 'pie', 'for', 'breakfast'])"
   ]
  },
  {
   "cell_type": "markdown",
   "metadata": {},
   "source": [
    "And now with '_' to separate words."
   ]
  },
  {
   "cell_type": "code",
   "execution_count": 33,
   "metadata": {},
   "outputs": [
    {
     "data": {
      "text/plain": [
       "'maria_ate_an_apple_pie_for_breakfast'"
      ]
     },
     "execution_count": 33,
     "metadata": {},
     "output_type": "execute_result"
    }
   ],
   "source": [
    "'_'.join(['maria', 'ate', 'an', 'apple', 'pie', 'for', 'breakfast'])"
   ]
  },
  {
   "cell_type": "markdown",
   "metadata": {},
   "source": [
    "### 2.8) Split method"
   ]
  },
  {
   "cell_type": "markdown",
   "metadata": {},
   "source": [
    "The last method that is really useful when we work with strings is `split()`.\n",
    "\n",
    "`split()` does something opposite to `join()` method. \n",
    "\n",
    "`join()` merges multiple strings into one separating them by a given string (space as an example), whereas `split()` divides a string into a list of strings using a separator. By default, separator is a space symbol. It means that any words separated by space symbol will appear as separate elements of a list. \n",
    "\n",
    "Let's call `split()` on the last line of our text ('pie for breakfast') to see what happens:"
   ]
  },
  {
   "cell_type": "code",
   "execution_count": 34,
   "metadata": {},
   "outputs": [
    {
     "data": {
      "text/plain": [
       "'pie for breakfast'"
      ]
     },
     "execution_count": 34,
     "metadata": {},
     "output_type": "execute_result"
    }
   ],
   "source": [
    "# original line\n",
    "lines[2]"
   ]
  },
  {
   "cell_type": "code",
   "execution_count": 35,
   "metadata": {},
   "outputs": [
    {
     "data": {
      "text/plain": [
       "['pie', 'for', 'breakfast']"
      ]
     },
     "execution_count": 35,
     "metadata": {},
     "output_type": "execute_result"
    }
   ],
   "source": [
    "# split the line\n",
    "lines[2].split()"
   ]
  },
  {
   "cell_type": "markdown",
   "metadata": {},
   "source": [
    "How is it useful? \n",
    "\n",
    "- Let's imagine this task: \n",
    "\n",
    "> For each separate word in a sentence, save the ones that have a length > 5. \n",
    "\n",
    "Hint: we can apply len() function to strings the same way as we did with lists"
   ]
  },
  {
   "cell_type": "code",
   "execution_count": 36,
   "metadata": {},
   "outputs": [],
   "source": [
    "text = \"A pie is a baked dish which is usually made of a pastry dough casing that contains a filling of various sweet or savoury ingredients\""
   ]
  },
  {
   "cell_type": "markdown",
   "metadata": {},
   "source": [
    "- Possible solution for this task:"
   ]
  },
  {
   "cell_type": "code",
   "execution_count": 37,
   "metadata": {},
   "outputs": [
    {
     "name": "stdout",
     "output_type": "stream",
     "text": [
      "['usually', 'pastry', 'casing', 'contains', 'filling', 'various', 'savoury', 'ingredients']\n"
     ]
    }
   ],
   "source": [
    "long_words = []\n",
    "for word in text.split():\n",
    "    if len(word) > 5:\n",
    "        long_words.append(word)\n",
    "print(long_words)"
   ]
  },
  {
   "cell_type": "markdown",
   "metadata": {},
   "source": [
    "Or we can do the same thing in a list comprehension in just one line:"
   ]
  },
  {
   "cell_type": "code",
   "execution_count": 38,
   "metadata": {},
   "outputs": [
    {
     "name": "stdout",
     "output_type": "stream",
     "text": [
      "['usually', 'pastry', 'casing', 'contains', 'filling', 'various', 'savoury', 'ingredients']\n"
     ]
    }
   ],
   "source": [
    "long_words = [word for word in text.split() if len(word) > 5]\n",
    "print(long_words)"
   ]
  },
  {
   "cell_type": "markdown",
   "metadata": {},
   "source": [
    "### 2.9) Combine what we learned"
   ]
  },
  {
   "cell_type": "markdown",
   "metadata": {},
   "source": [
    "Now let's try to use everything we learned in this lesson for a much more complicated task. \n",
    "\n",
    "We'll also use some things that we learned in the previous lessons (like dictionaries)"
   ]
  },
  {
   "cell_type": "markdown",
   "metadata": {},
   "source": [
    "![combine](markdown/combine.jpg)"
   ]
  },
  {
   "cell_type": "markdown",
   "metadata": {},
   "source": [
    "- Task Description:"
   ]
  },
  {
   "cell_type": "markdown",
   "metadata": {},
   "source": [
    "> 1. Create a function preprocess_text() that get a string as an input\n",
    "2. Return a frequency dictionary, whose keys referring to all unique words and values referring to the number of times the words appear\n",
    "3. Don't forget to apply lowercase to the words\n",
    "4. Replace each numeric value (e.g. 123, 1.5) with a word 'number'.\n",
    "\n",
    "Example: \\\n",
    "\n",
    "input: `\"I like 123 I print 213\"`\n",
    "\n",
    "output: `{'i' : 2, 'like' : 1, 'number' : 2, 'print' : 1}`"
   ]
  },
  {
   "cell_type": "markdown",
   "metadata": {},
   "source": [
    "- Possible solution for this task:"
   ]
  },
  {
   "cell_type": "markdown",
   "metadata": {},
   "source": [
    "We're going to see 2 ways of doing that.\n",
    "\n",
    "For the first way let's create a few helper functions.\n",
    "\n",
    "We're going to create a function **helper()** to create a list of lowercase words from the original text and replace each number with a word 'number'. \n",
    "\n",
    "Then we create a function called **count_words()** to count the number of times a word appears in the list.\n",
    "\n",
    "And in the end we call both of them from **preprocess_text()** function"
   ]
  },
  {
   "cell_type": "markdown",
   "metadata": {},
   "source": [
    "When you are going through these functions, no worry if you might not understand some parts. We have written a recap session below, which will explain everything in details."
   ]
  },
  {
   "cell_type": "code",
   "execution_count": 39,
   "metadata": {},
   "outputs": [],
   "source": [
    "# input: string. \n",
    "# output: list of lowercase words. All the numbers replaced with 'number'\n",
    "# example: \n",
    "# string = 'How was your day 123'\n",
    "# helper(string) --> ['how', 'was', 'your', 'day', 'number']\n",
    "def helper(text):\n",
    "    \"\"\"\n",
    "    create a list of lowercase words from the original text\n",
    "    replace each number with a word 'number'\n",
    "    \"\"\"\n",
    "    text = text.split()\n",
    "    result = []\n",
    "    for word in text:\n",
    "        if word.isdigit(): # check whether a word is numeric\n",
    "            result.append('number')\n",
    "        else:\n",
    "            result.append(word.lower())\n",
    "    return result"
   ]
  },
  {
   "cell_type": "code",
   "execution_count": 20,
   "metadata": {},
   "outputs": [],
   "source": [
    "# input: list of words. \n",
    "# output: dictionary with all unique words and the number of times each word appears in the list.\n",
    "# example: \n",
    "# words_list = ['day', 'day', 'evening']\n",
    "# count_words(words_list) --> {'day' : 2, 'evening' : 1}\n",
    "def count_words(words_list):\n",
    "    \"\"\"\n",
    "    count each word appearence\n",
    "    \"\"\"\n",
    "    vocab = {}\n",
    "    for word in words_list:\n",
    "        if word in vocab.keys():\n",
    "            vocab[word] += 1\n",
    "        else:\n",
    "            vocab[word] = 1 \n",
    "    return vocab"
   ]
  },
  {
   "cell_type": "code",
   "execution_count": 23,
   "metadata": {},
   "outputs": [],
   "source": [
    "# input: string\n",
    "# output: dictionary with unique lowercase words and numbers, and the number of times they appear in the string\n",
    "# example: \n",
    "# text = ['How was your day day 123 evening']\n",
    "# preprocess_text(text) --> \n",
    "# {'how' : 1, 'was' : 1, 'your' : 1, 'day' : 2, 'number' : 1, 'evening' : 1}\n",
    "def preprocess_text(text):\n",
    "    text = helper(text)\n",
    "    vocab = count_words(text)\n",
    "    return vocab"
   ]
  },
  {
   "cell_type": "code",
   "execution_count": 42,
   "metadata": {},
   "outputs": [
    {
     "data": {
      "text/plain": [
       "{'i': 2, 'like': 1, 'number': 2, 'print': 1}"
      ]
     },
     "execution_count": 42,
     "metadata": {},
     "output_type": "execute_result"
    }
   ],
   "source": [
    "preprocess_text('I like 123 I print 213')"
   ]
  },
  {
   "cell_type": "markdown",
   "metadata": {},
   "source": [
    "Let's recap what we did step by step:\n",
    "### helper(text):\n",
    "\n",
    "- **split()** all the words in a string.\n",
    "- for each word in the splitted string, check whether the word is numeric.\n",
    "- if it's numeric, add 'number' to our final list of words. If it's not numeric, add the word itself to the final list of words.\n",
    "\n",
    "### count_words(words_list):\n",
    "\n",
    "- create a dictionary called 'vocab'\n",
    "- for each word in the list of words, check whether this word is already in the vocabulary\n",
    "- if it's not in the vocab, we understand that we never met this word before, so we add it to the vocabulary and set the number of occurances to be equal to 1.\n",
    "- if the word is already in the vocabulary, it means that we already met it before, so the only thing we need to do is increasing the number of occurances by 1.\n",
    "\n",
    "### preprocess_text(text):\n",
    "\n",
    "- Apply helper on the input string. Receive a list of lowercase words.\n",
    "- Apply count_words() on the list of lowercase words. Receive the number of words occurances \n",
    "- Return it"
   ]
  },
  {
   "cell_type": "markdown",
   "metadata": {},
   "source": [
    "Now, let's put everything in one function and make it shorter with the help of list comprehensions:"
   ]
  },
  {
   "cell_type": "code",
   "execution_count": 43,
   "metadata": {},
   "outputs": [],
   "source": [
    "def preprocess_text(text):\n",
    "    # create a list of lowercase words from the original text\n",
    "    # (the same thing we did in helper() function)\n",
    "    words = [word.lower() if not word.isdigit() else 'number' for word in text.split()]\n",
    "    # count words\n",
    "    # (the same thing we did in count_words() function)\n",
    "    vocab = {}\n",
    "    for word in words:\n",
    "        if word in vocab.keys():\n",
    "            vocab[word] += 1\n",
    "        else:\n",
    "            vocab[word] = 1 \n",
    "    return vocab"
   ]
  },
  {
   "cell_type": "code",
   "execution_count": 44,
   "metadata": {},
   "outputs": [
    {
     "data": {
      "text/plain": [
       "{'i': 2, 'like': 1, 'number': 2, 'print': 1}"
      ]
     },
     "execution_count": 44,
     "metadata": {},
     "output_type": "execute_result"
    }
   ],
   "source": [
    "preprocess_text('I like 123 I print 213')"
   ]
  },
  {
   "cell_type": "markdown",
   "metadata": {},
   "source": [
    "## 3) Exceptions and errors handling"
   ]
  },
  {
   "cell_type": "markdown",
   "metadata": {},
   "source": [
    "Until now we didn't talk about errors and exceptions, but they are an important part of every programming language.\n",
    "We want to be sure that our program works in all the possible scenarios, and that it doesn't crash in the very important moment. More than that, we might want to expect some types of errors and make our program behavior differently in different cases.\n",
    "So let's see!"
   ]
  },
  {
   "cell_type": "markdown",
   "metadata": {},
   "source": [
    "### 3.1) Exceptions"
   ]
  },
  {
   "cell_type": "markdown",
   "metadata": {},
   "source": [
    "#### 3.1.1) Exception examples"
   ]
  },
  {
   "cell_type": "markdown",
   "metadata": {},
   "source": [
    "While doing other homeworks you probably have seen several type of errors (exceptions). Many of them are built-in errors, and they always say where to look for the error. Let's see a few examples:"
   ]
  },
  {
   "cell_type": "markdown",
   "metadata": {},
   "source": [
    "#### 3.1.1.1) Syntax Error   \n",
    "As the name suggests, there is some syntax error in your code. It usually means, that you made a typo somewhere"
   ]
  },
  {
   "cell_type": "code",
   "execution_count": 45,
   "metadata": {},
   "outputs": [
    {
     "ename": "SyntaxError",
     "evalue": "invalid syntax (<ipython-input-45-f0df6d1fc87f>, line 2)",
     "output_type": "error",
     "traceback": [
      "\u001b[0;36m  File \u001b[0;32m\"<ipython-input-45-f0df6d1fc87f>\"\u001b[0;36m, line \u001b[0;32m2\u001b[0m\n\u001b[0;31m    if True\u001b[0m\n\u001b[0m           ^\u001b[0m\n\u001b[0;31mSyntaxError\u001b[0m\u001b[0;31m:\u001b[0m invalid syntax\n"
     ]
    }
   ],
   "source": [
    "# typo in the code: there are no colon after if statement.\n",
    "if True\n",
    "    print('true')"
   ]
  },
  {
   "cell_type": "markdown",
   "metadata": {},
   "source": [
    "#### 3.1.1.2) Zero Dvision Error   \n",
    "Means that you're trying to divide by zero (captain obvious). Check any places with division and see what are the values of variables there "
   ]
  },
  {
   "cell_type": "code",
   "execution_count": 46,
   "metadata": {},
   "outputs": [
    {
     "ename": "ZeroDivisionError",
     "evalue": "division by zero",
     "output_type": "error",
     "traceback": [
      "\u001b[0;31m---------------------------------------------------------------------------\u001b[0m",
      "\u001b[0;31mZeroDivisionError\u001b[0m                         Traceback (most recent call last)",
      "\u001b[0;32m<ipython-input-46-ca9a1fc55cd8>\u001b[0m in \u001b[0;36m<module>\u001b[0;34m\u001b[0m\n\u001b[1;32m      1\u001b[0m \u001b[0;31m# we can't divide by zero\u001b[0m\u001b[0;34m\u001b[0m\u001b[0;34m\u001b[0m\u001b[0;34m\u001b[0m\u001b[0m\n\u001b[0;32m----> 2\u001b[0;31m \u001b[0;36m1\u001b[0m\u001b[0;34m/\u001b[0m\u001b[0;36m0\u001b[0m\u001b[0;34m\u001b[0m\u001b[0;34m\u001b[0m\u001b[0m\n\u001b[0m",
      "\u001b[0;31mZeroDivisionError\u001b[0m: division by zero"
     ]
    }
   ],
   "source": [
    "# we can't divide by zero\n",
    "1/0"
   ]
  },
  {
   "cell_type": "markdown",
   "metadata": {},
   "source": [
    "#### 3.1.1.3) Type Error - means that the operation you're trying to perform is expecting for another data type"
   ]
  },
  {
   "cell_type": "code",
   "execution_count": 47,
   "metadata": {},
   "outputs": [
    {
     "ename": "TypeError",
     "evalue": "can only concatenate str (not \"int\") to str",
     "output_type": "error",
     "traceback": [
      "\u001b[0;31m---------------------------------------------------------------------------\u001b[0m",
      "\u001b[0;31mTypeError\u001b[0m                                 Traceback (most recent call last)",
      "\u001b[0;32m<ipython-input-47-fde072336122>\u001b[0m in \u001b[0;36m<module>\u001b[0;34m\u001b[0m\n\u001b[1;32m      1\u001b[0m \u001b[0;31m# string + int concatenation is not possible\u001b[0m\u001b[0;34m\u001b[0m\u001b[0;34m\u001b[0m\u001b[0;34m\u001b[0m\u001b[0m\n\u001b[0;32m----> 2\u001b[0;31m \u001b[0;34m'1'\u001b[0m\u001b[0;34m+\u001b[0m \u001b[0;36m1\u001b[0m\u001b[0;34m\u001b[0m\u001b[0;34m\u001b[0m\u001b[0m\n\u001b[0m",
      "\u001b[0;31mTypeError\u001b[0m: can only concatenate str (not \"int\") to str"
     ]
    }
   ],
   "source": [
    "# string + int concatenation is not possible\n",
    "'1'+ 1"
   ]
  },
  {
   "cell_type": "markdown",
   "metadata": {},
   "source": [
    "#### 3.1.1.4) Name Error   \n",
    "Python interpreter doesn't recognize the name of `a` variable"
   ]
  },
  {
   "cell_type": "code",
   "execution_count": 48,
   "metadata": {},
   "outputs": [
    {
     "ename": "NameError",
     "evalue": "name 'a' is not defined",
     "output_type": "error",
     "traceback": [
      "\u001b[0;31m---------------------------------------------------------------------------\u001b[0m",
      "\u001b[0;31mNameError\u001b[0m                                 Traceback (most recent call last)",
      "\u001b[0;32m<ipython-input-48-e61fa43fc8e0>\u001b[0m in \u001b[0;36m<module>\u001b[0;34m\u001b[0m\n\u001b[1;32m      1\u001b[0m \u001b[0;31m# call a variable that doesn't exist\u001b[0m\u001b[0;34m\u001b[0m\u001b[0;34m\u001b[0m\u001b[0;34m\u001b[0m\u001b[0m\n\u001b[0;32m----> 2\u001b[0;31m \u001b[0mprint\u001b[0m\u001b[0;34m(\u001b[0m\u001b[0ma\u001b[0m\u001b[0;34m)\u001b[0m\u001b[0;34m\u001b[0m\u001b[0;34m\u001b[0m\u001b[0m\n\u001b[0m",
      "\u001b[0;31mNameError\u001b[0m: name 'a' is not defined"
     ]
    }
   ],
   "source": [
    "# call a variable that doesn't exist\n",
    "print(a)"
   ]
  },
  {
   "cell_type": "markdown",
   "metadata": {},
   "source": [
    "__Important Note:__ Always read the exception name and text so you understand what happened!"
   ]
  },
  {
   "cell_type": "markdown",
   "metadata": {},
   "source": [
    "#### 3.1.2) Raise Exceptions"
   ]
  },
  {
   "cell_type": "markdown",
   "metadata": {},
   "source": [
    "The above errors are built-in exceptions. Python also provides us with the possibility to create self-defined exceptions.\n",
    "\n",
    "Sometimes we want to stop the program when a condition occurs. We can do that by raising an exception.\n",
    "\n",
    "We're going to use our own exception (not one of the errors you saw above).\n",
    "\n",
    "Let's print a number only if it's bigger than 5. If the condition is not met, raise an exception"
   ]
  },
  {
   "cell_type": "code",
   "execution_count": 49,
   "metadata": {},
   "outputs": [],
   "source": [
    "def test(num):\n",
    "    if num > 5:\n",
    "        print(num)\n",
    "    else:\n",
    "        raise Exception('The number is less than 5')"
   ]
  },
  {
   "cell_type": "code",
   "execution_count": 50,
   "metadata": {},
   "outputs": [
    {
     "name": "stdout",
     "output_type": "stream",
     "text": [
      "6\n"
     ]
    }
   ],
   "source": [
    "test(6)"
   ]
  },
  {
   "cell_type": "code",
   "execution_count": 51,
   "metadata": {},
   "outputs": [
    {
     "ename": "Exception",
     "evalue": "The number is less than 5",
     "output_type": "error",
     "traceback": [
      "\u001b[0;31m---------------------------------------------------------------------------\u001b[0m",
      "\u001b[0;31mException\u001b[0m                                 Traceback (most recent call last)",
      "\u001b[0;32m<ipython-input-51-c694943c571f>\u001b[0m in \u001b[0;36m<module>\u001b[0;34m\u001b[0m\n\u001b[0;32m----> 1\u001b[0;31m \u001b[0mtest\u001b[0m\u001b[0;34m(\u001b[0m\u001b[0;36m3\u001b[0m\u001b[0;34m)\u001b[0m\u001b[0;34m\u001b[0m\u001b[0;34m\u001b[0m\u001b[0m\n\u001b[0m",
      "\u001b[0;32m<ipython-input-49-e310493b7723>\u001b[0m in \u001b[0;36mtest\u001b[0;34m(num)\u001b[0m\n\u001b[1;32m      3\u001b[0m         \u001b[0mprint\u001b[0m\u001b[0;34m(\u001b[0m\u001b[0mnum\u001b[0m\u001b[0;34m)\u001b[0m\u001b[0;34m\u001b[0m\u001b[0;34m\u001b[0m\u001b[0m\n\u001b[1;32m      4\u001b[0m     \u001b[0;32melse\u001b[0m\u001b[0;34m:\u001b[0m\u001b[0;34m\u001b[0m\u001b[0;34m\u001b[0m\u001b[0m\n\u001b[0;32m----> 5\u001b[0;31m         \u001b[0;32mraise\u001b[0m \u001b[0mException\u001b[0m\u001b[0;34m(\u001b[0m\u001b[0;34m'The number is less than 5'\u001b[0m\u001b[0;34m)\u001b[0m\u001b[0;34m\u001b[0m\u001b[0;34m\u001b[0m\u001b[0m\n\u001b[0m",
      "\u001b[0;31mException\u001b[0m: The number is less than 5"
     ]
    }
   ],
   "source": [
    "test(3)"
   ]
  },
  {
   "cell_type": "markdown",
   "metadata": {},
   "source": [
    "Or we can also raise exceptions outside functions if we want:"
   ]
  },
  {
   "cell_type": "code",
   "execution_count": 25,
   "metadata": {},
   "outputs": [
    {
     "name": "stdout",
     "output_type": "stream",
     "text": [
      "This line will be printed\n"
     ]
    },
    {
     "ename": "Exception",
     "evalue": "The number is less than 5",
     "output_type": "error",
     "traceback": [
      "\u001b[0;31m---------------------------------------------------------------------------\u001b[0m",
      "\u001b[0;31mException\u001b[0m                                 Traceback (most recent call last)",
      "\u001b[0;32m<ipython-input-25-b6965f1c3409>\u001b[0m in \u001b[0;36m<module>\u001b[0;34m\u001b[0m\n\u001b[1;32m      1\u001b[0m \u001b[0mprint\u001b[0m\u001b[0;34m(\u001b[0m\u001b[0;34m'This line will be printed'\u001b[0m\u001b[0;34m)\u001b[0m\u001b[0;34m\u001b[0m\u001b[0;34m\u001b[0m\u001b[0m\n\u001b[0;32m----> 2\u001b[0;31m \u001b[0;32mraise\u001b[0m \u001b[0mException\u001b[0m\u001b[0;34m(\u001b[0m\u001b[0;34m'The number is less than 5'\u001b[0m\u001b[0;34m)\u001b[0m\u001b[0;34m\u001b[0m\u001b[0;34m\u001b[0m\u001b[0m\n\u001b[0m\u001b[1;32m      3\u001b[0m \u001b[0mprint\u001b[0m\u001b[0;34m(\u001b[0m\u001b[0;34m'This line will not be printed'\u001b[0m\u001b[0;34m)\u001b[0m\u001b[0;34m\u001b[0m\u001b[0;34m\u001b[0m\u001b[0m\n",
      "\u001b[0;31mException\u001b[0m: The number is less than 5"
     ]
    }
   ],
   "source": [
    "print('This line will be printed')\n",
    "raise Exception('The number is less than 5')\n",
    "print('This line will not be printed')"
   ]
  },
  {
   "cell_type": "markdown",
   "metadata": {},
   "source": [
    "As you can see, the program will stop working once an exception is raised.\n",
    "\n",
    "Due to this reason, the print line after the Exception being raised is not executed"
   ]
  },
  {
   "cell_type": "markdown",
   "metadata": {},
   "source": [
    "#### 3.2) Assert"
   ]
  },
  {
   "cell_type": "markdown",
   "metadata": {},
   "source": [
    "Instead of writing \n",
    "\n",
    "`if condition:\n",
    "    raise Exception()`\n",
    "\n",
    "We might use an assert method:"
   ]
  },
  {
   "cell_type": "code",
   "execution_count": 53,
   "metadata": {},
   "outputs": [],
   "source": [
    "def test(num):\n",
    "    assert num > 5\n",
    "    print(num)"
   ]
  },
  {
   "cell_type": "markdown",
   "metadata": {},
   "source": [
    "Assertions are simply boolean expressions that checks if the condition returns true or false.\n",
    "\n",
    "If it is true, the program will continue to run and move to the next line of code. On the other hand, if it's false, the program stops and throws an AssertionError."
   ]
  },
  {
   "cell_type": "code",
   "execution_count": 54,
   "metadata": {},
   "outputs": [
    {
     "name": "stdout",
     "output_type": "stream",
     "text": [
      "6\n"
     ]
    }
   ],
   "source": [
    "test(6)"
   ]
  },
  {
   "cell_type": "code",
   "execution_count": 55,
   "metadata": {},
   "outputs": [
    {
     "ename": "AssertionError",
     "evalue": "",
     "output_type": "error",
     "traceback": [
      "\u001b[0;31m---------------------------------------------------------------------------\u001b[0m",
      "\u001b[0;31mAssertionError\u001b[0m                            Traceback (most recent call last)",
      "\u001b[0;32m<ipython-input-55-c694943c571f>\u001b[0m in \u001b[0;36m<module>\u001b[0;34m\u001b[0m\n\u001b[0;32m----> 1\u001b[0;31m \u001b[0mtest\u001b[0m\u001b[0;34m(\u001b[0m\u001b[0;36m3\u001b[0m\u001b[0;34m)\u001b[0m\u001b[0;34m\u001b[0m\u001b[0;34m\u001b[0m\u001b[0m\n\u001b[0m",
      "\u001b[0;32m<ipython-input-53-746ee0c802cc>\u001b[0m in \u001b[0;36mtest\u001b[0;34m(num)\u001b[0m\n\u001b[1;32m      1\u001b[0m \u001b[0;32mdef\u001b[0m \u001b[0mtest\u001b[0m\u001b[0;34m(\u001b[0m\u001b[0mnum\u001b[0m\u001b[0;34m)\u001b[0m\u001b[0;34m:\u001b[0m\u001b[0;34m\u001b[0m\u001b[0;34m\u001b[0m\u001b[0m\n\u001b[0;32m----> 2\u001b[0;31m     \u001b[0;32massert\u001b[0m \u001b[0mnum\u001b[0m \u001b[0;34m>\u001b[0m \u001b[0;36m5\u001b[0m\u001b[0;34m\u001b[0m\u001b[0;34m\u001b[0m\u001b[0m\n\u001b[0m\u001b[1;32m      3\u001b[0m     \u001b[0mprint\u001b[0m\u001b[0;34m(\u001b[0m\u001b[0mnum\u001b[0m\u001b[0;34m)\u001b[0m\u001b[0;34m\u001b[0m\u001b[0;34m\u001b[0m\u001b[0m\n",
      "\u001b[0;31mAssertionError\u001b[0m: "
     ]
    }
   ],
   "source": [
    "test(3)"
   ]
  },
  {
   "cell_type": "markdown",
   "metadata": {},
   "source": [
    "We can also add a message so that the assertion error is easier to understand"
   ]
  },
  {
   "cell_type": "code",
   "execution_count": 56,
   "metadata": {},
   "outputs": [],
   "source": [
    "def test(num):\n",
    "    assert num > 5, 'The number has to be bigger than 5'\n",
    "    print(num)"
   ]
  },
  {
   "cell_type": "code",
   "execution_count": 57,
   "metadata": {},
   "outputs": [
    {
     "name": "stdout",
     "output_type": "stream",
     "text": [
      "6\n"
     ]
    }
   ],
   "source": [
    "test(6)"
   ]
  },
  {
   "cell_type": "code",
   "execution_count": 58,
   "metadata": {},
   "outputs": [
    {
     "ename": "AssertionError",
     "evalue": "The number has to be bigger than 5",
     "output_type": "error",
     "traceback": [
      "\u001b[0;31m---------------------------------------------------------------------------\u001b[0m",
      "\u001b[0;31mAssertionError\u001b[0m                            Traceback (most recent call last)",
      "\u001b[0;32m<ipython-input-58-c694943c571f>\u001b[0m in \u001b[0;36m<module>\u001b[0;34m\u001b[0m\n\u001b[0;32m----> 1\u001b[0;31m \u001b[0mtest\u001b[0m\u001b[0;34m(\u001b[0m\u001b[0;36m3\u001b[0m\u001b[0;34m)\u001b[0m\u001b[0;34m\u001b[0m\u001b[0;34m\u001b[0m\u001b[0m\n\u001b[0m",
      "\u001b[0;32m<ipython-input-56-8380508d3fca>\u001b[0m in \u001b[0;36mtest\u001b[0;34m(num)\u001b[0m\n\u001b[1;32m      1\u001b[0m \u001b[0;32mdef\u001b[0m \u001b[0mtest\u001b[0m\u001b[0;34m(\u001b[0m\u001b[0mnum\u001b[0m\u001b[0;34m)\u001b[0m\u001b[0;34m:\u001b[0m\u001b[0;34m\u001b[0m\u001b[0;34m\u001b[0m\u001b[0m\n\u001b[0;32m----> 2\u001b[0;31m     \u001b[0;32massert\u001b[0m \u001b[0mnum\u001b[0m \u001b[0;34m>\u001b[0m \u001b[0;36m5\u001b[0m\u001b[0;34m,\u001b[0m \u001b[0;34m'The number has to be bigger than 5'\u001b[0m\u001b[0;34m\u001b[0m\u001b[0;34m\u001b[0m\u001b[0m\n\u001b[0m\u001b[1;32m      3\u001b[0m     \u001b[0mprint\u001b[0m\u001b[0;34m(\u001b[0m\u001b[0mnum\u001b[0m\u001b[0;34m)\u001b[0m\u001b[0;34m\u001b[0m\u001b[0;34m\u001b[0m\u001b[0m\n",
      "\u001b[0;31mAssertionError\u001b[0m: The number has to be bigger than 5"
     ]
    }
   ],
   "source": [
    "test(3)"
   ]
  },
  {
   "cell_type": "code",
   "execution_count": 59,
   "metadata": {},
   "outputs": [
    {
     "name": "stdout",
     "output_type": "stream",
     "text": [
      "maria\n",
      "\n",
      "ate an apple\n",
      "\n"
     ]
    },
    {
     "ename": "AssertionError",
     "evalue": "Don't eat pies without me!",
     "output_type": "error",
     "traceback": [
      "\u001b[0;31m---------------------------------------------------------------------------\u001b[0m",
      "\u001b[0;31mAssertionError\u001b[0m                            Traceback (most recent call last)",
      "\u001b[0;32m<ipython-input-59-357b759d8970>\u001b[0m in \u001b[0;36m<module>\u001b[0;34m\u001b[0m\n\u001b[1;32m      1\u001b[0m \u001b[0;32mfor\u001b[0m \u001b[0mline\u001b[0m \u001b[0;32min\u001b[0m \u001b[0mlines\u001b[0m\u001b[0;34m:\u001b[0m\u001b[0;34m\u001b[0m\u001b[0;34m\u001b[0m\u001b[0m\n\u001b[0;32m----> 2\u001b[0;31m     \u001b[0;32massert\u001b[0m \u001b[0mline\u001b[0m \u001b[0;34m!=\u001b[0m \u001b[0;34m'pie for breakfast'\u001b[0m\u001b[0;34m,\u001b[0m \u001b[0;34m\"Don't eat pies without me!\"\u001b[0m\u001b[0;34m\u001b[0m\u001b[0;34m\u001b[0m\u001b[0m\n\u001b[0m\u001b[1;32m      3\u001b[0m     \u001b[0mprint\u001b[0m\u001b[0;34m(\u001b[0m\u001b[0mline\u001b[0m\u001b[0;34m)\u001b[0m\u001b[0;34m\u001b[0m\u001b[0;34m\u001b[0m\u001b[0m\n",
      "\u001b[0;31mAssertionError\u001b[0m: Don't eat pies without me!"
     ]
    }
   ],
   "source": [
    "for line in lines:\n",
    "    assert line != 'pie for breakfast', \"Don't eat pies without me!\"\n",
    "    print(line)"
   ]
  },
  {
   "cell_type": "markdown",
   "metadata": {},
   "source": [
    "For example, we used a lot of asserts to check your exercise notebooks!\n",
    "\n",
    "We could check if the output of your functions is right, if a length of created strings is correct etc.\n",
    "\n",
    "If your code is in line with what we expected and produces the correct output, the program continues to run and no error is raised. \n",
    "\n",
    "However, if your code is not correct, an AssertionError is raised! So if you don't see any error when running the test cells with a bunch of asserts, it means that your solution is accurate. Congrats!"
   ]
  },
  {
   "cell_type": "markdown",
   "metadata": {},
   "source": [
    "###  3.3) Handling Exceptions"
   ]
  },
  {
   "cell_type": "markdown",
   "metadata": {},
   "source": [
    "Great. But sometimes (and even often) we don't want to stop the program if something wrong happens. \n",
    "\n",
    "Why?\n",
    "\n",
    "Well, because we can might foreseen that an error might occur and what to come up with ways to deal with it.\n",
    "\n",
    "We use try/except for that. The syntax is the following:\n",
    "\n",
    "`try something:\n",
    "    if there is no exception, do things\n",
    "except <exception_type>:\n",
    "    if there is this type of exception, do other things`\n",
    "\n",
    "Exception types are the same things you saw in point 3.1.1\n",
    "\n",
    "There is a link to more exception types in the end of this notebook.\n",
    "\n",
    "If we don't specify the exception type, any exception will be catched."
   ]
  },
  {
   "cell_type": "markdown",
   "metadata": {},
   "source": [
    "For example, let's iterate over a list of number and add 1 to each of them. If there is any non-numeric element in the list, let's catch this element and say that we can't add 1 to a non-numeric value."
   ]
  },
  {
   "cell_type": "code",
   "execution_count": 60,
   "metadata": {},
   "outputs": [],
   "source": [
    "def test(array):\n",
    "    for element in array:\n",
    "        try:\n",
    "            print(element + 1)\n",
    "        except TypeError:\n",
    "            print(element, ' is not a number. We cannnot add 1 to not a number')"
   ]
  },
  {
   "cell_type": "code",
   "execution_count": 61,
   "metadata": {},
   "outputs": [
    {
     "name": "stdout",
     "output_type": "stream",
     "text": [
      "2\n",
      "3\n",
      "4\n",
      "a  is not a number. We cannnot add 1 to not a number\n"
     ]
    }
   ],
   "source": [
    "test([1,2,3, 'a'])"
   ]
  },
  {
   "cell_type": "markdown",
   "metadata": {},
   "source": [
    "Try/except are very commonly used, so remember about them!\n",
    "***"
   ]
  },
  {
   "cell_type": "markdown",
   "metadata": {},
   "source": [
    "Awesome, you're done with this assignment!\n",
    "\n",
    "We hope it was useful!\n",
    "\n",
    "In order to practice the things you learned, solve the practical exercise. \n",
    "\n",
    "Don't get confused, as it's going to require a bit more things that you learn in this lecture.\n",
    "\n",
    "It's really important to learn how to google things, so do it until you find the right answer. And may the force be with you!"
   ]
  },
  {
   "cell_type": "markdown",
   "metadata": {},
   "source": [
    "# Additional materials:\n",
    "- [more about reading files in python](https://stackabuse.com/reading-files-with-python/)\n",
    "- [even more about reading files](https://realpython.com/read-write-files-python/)\n",
    "- [more about strings in python](https://realpython.com/python-strings/)\n",
    "- [additional methods to handle strings in python](https://towardsdatascience.com/useful-string-methods-in-python-5047ea4d3f90)\n",
    "- [python exceptions documentation](https://docs.python.org/3/tutorial/errors.html)\n",
    "- [python built-in exceptions](https://docs.python.org/2/library/exceptions.html)"
   ]
  }
 ],
 "metadata": {
  "kernelspec": {
   "display_name": "Python 3",
   "language": "python",
   "name": "python3"
  },
  "language_info": {
   "codemirror_mode": {
    "name": "ipython",
    "version": 3
   },
   "file_extension": ".py",
   "mimetype": "text/x-python",
   "name": "python",
   "nbconvert_exporter": "python",
   "pygments_lexer": "ipython3",
   "version": "3.7.4"
  }
 },
 "nbformat": 4,
 "nbformat_minor": 2
}
