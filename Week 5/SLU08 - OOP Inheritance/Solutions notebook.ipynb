{
 "cells": [
  {
   "cell_type": "markdown",
   "metadata": {
    "nbgrader": {
     "grade": false,
     "grade_id": "cell-914a8ceb7dcb0b1a",
     "locked": true,
     "schema_version": 3,
     "solution": false,
     "task": false
    }
   },
   "source": [
    "# SLU08 Object Oriented Programming | Inheritance: Exercise Notebook\n",
    "\n",
    "***"
   ]
  },
  {
   "cell_type": "markdown",
   "metadata": {
    "nbgrader": {
     "grade": false,
     "grade_id": "cell-4bf5d182a067628a",
     "locked": true,
     "schema_version": 3,
     "solution": false,
     "task": false
    }
   },
   "source": [
    "### Part 1\n",
    "#### Exercise 1\n",
    "\n",
    "Create a class named `Vehicle()` and define the `__init__()` method of the created class to have four arguments:\n",
    "\n",
    "1. model\n",
    "2. color\n",
    "3. year\n",
    "4. engine_type\n",
    "\n",
    "\n",
    "Now, do the following:\n",
    "- Assign these variables to attributes by using the self keyword.\n",
    "\n",
    "- Define an extra attribute in the `__init__()` method, without user input, called `condition` and with default value of **\"new\"**.\n",
    "\n",
    "- Create a `drive_it()` method that will override the vehicle condition to the string **\"used\"**\n",
    "\n",
    "In the end, create the `my_car` object for a **1985** **silver** **\"DeLorean\"** with a **combustion** engine\n",
    "\n"
   ]
  },
  {
   "cell_type": "code",
   "execution_count": 1,
   "metadata": {
    "nbgrader": {
     "grade": false,
     "grade_id": "cell-152d925316906cc7",
     "locked": false,
     "schema_version": 3,
     "solution": true,
     "task": false
    }
   },
   "outputs": [],
   "source": [
    "class Vehicle:\n",
    "   \n",
    "    ### BEGIN SOLUTION\n",
    "    def __init__(self, model, color, year, engine_type):\n",
    "        self.model = model\n",
    "        self.color = color\n",
    "        self.year = year\n",
    "        self.engine_type = engine_type\n",
    "        self.condition = \"new\"\n",
    "    \n",
    "    def drive_it(self):\n",
    "        self.condition = \"used\"\n",
    "        \n",
    "my_car = Vehicle(model='DeLorean', color='silver', year=1985, engine_type='combustion')\n",
    "    ### END SOLUTION\n",
    "    "
   ]
  },
  {
   "cell_type": "code",
   "execution_count": 2,
   "metadata": {
    "nbgrader": {
     "grade": true,
     "grade_id": "cell-d6fb846dc8915dc9",
     "locked": true,
     "points": 2,
     "schema_version": 3,
     "solution": false,
     "task": false
    }
   },
   "outputs": [
    {
     "name": "stdout",
     "output_type": "stream",
     "text": [
      "If my calculations are correct, you are a proud owner of a brand new, 1985 silver DeLorean with a combustion engine!\n",
      "That's heavy!\n",
      "---- all asserts passed ---- \n"
     ]
    }
   ],
   "source": [
    "assert my_car.model == 'DeLorean'\n",
    "assert my_car.color == 'silver'\n",
    "assert my_car.year == 1985\n",
    "assert my_car.engine_type == 'combustion'\n",
    "assert my_car.condition == 'new'\n",
    "\n",
    "print(\"\"\"If my calculations are correct, you are a proud owner of a brand %s, %s %s %s with a %s engine!\n",
    "That's heavy!\"\"\" % (my_car.condition,\n",
    "                    my_car.year,\n",
    "                    my_car.color,\n",
    "                    my_car.model,\n",
    "                    my_car.engine_type))\n",
    "print(\"---- all asserts passed ---- \")"
   ]
  },
  {
   "cell_type": "markdown",
   "metadata": {
    "nbgrader": {
     "grade": false,
     "grade_id": "cell-5e32eccadeb9f6c3",
     "locked": true,
     "schema_version": 3,
     "solution": false,
     "task": false
    }
   },
   "source": [
    "<img src=\"./assets/delorean.jpg\" width=\"400\"/>\n",
    "\n",
    "***"
   ]
  },
  {
   "cell_type": "markdown",
   "metadata": {
    "nbgrader": {
     "grade": false,
     "grade_id": "cell-08c7b90be698ce77",
     "locked": true,
     "schema_version": 3,
     "solution": false,
     "task": false
    }
   },
   "source": [
    "#### Exercise 2\n",
    "Now just go and take you brand new car for a spin, using the `drive_it()` method of your `my_car` object."
   ]
  },
  {
   "cell_type": "code",
   "execution_count": 3,
   "metadata": {
    "nbgrader": {
     "grade": false,
     "grade_id": "cell-49ead50591e8361d",
     "locked": false,
     "schema_version": 3,
     "solution": true,
     "task": false
    }
   },
   "outputs": [
    {
     "name": "stdout",
     "output_type": "stream",
     "text": [
      "Updated vehicle condition: used\n"
     ]
    }
   ],
   "source": [
    "\n",
    "### BEGIN SOLUTION\n",
    "my_car.drive_it()\n",
    "### END SOLUTION\n",
    "\n",
    "# after driving it for the first time, you vehicle condition will be updated:\n",
    "print(\"Updated vehicle condition: \" + my_car.condition)"
   ]
  },
  {
   "cell_type": "code",
   "execution_count": 4,
   "metadata": {
    "nbgrader": {
     "grade": true,
     "grade_id": "cell-c48e251cfd4b31e2",
     "locked": true,
     "points": 1,
     "schema_version": 3,
     "solution": false,
     "task": false
    }
   },
   "outputs": [
    {
     "name": "stdout",
     "output_type": "stream",
     "text": [
      "I am sorry to inform you that the condition of your beloved DeLorean is now used!\n",
      "---- all asserts passed ---- \n"
     ]
    }
   ],
   "source": [
    "assert my_car.condition == 'used', \"The condition of your car is not correct. Make sure you use the 'drive_it()' method\"\n",
    "print(\"I am sorry to inform you that the condition of your beloved DeLorean is now \" + my_car.condition + \"!\")\n",
    "print(\"---- all asserts passed ---- \")"
   ]
  },
  {
   "cell_type": "markdown",
   "metadata": {
    "nbgrader": {
     "grade": false,
     "grade_id": "cell-2879860ebd26c27c",
     "locked": true,
     "schema_version": 3,
     "solution": false,
     "task": false
    }
   },
   "source": [
    "#### Exercise 3\n",
    "\n",
    "As seen before, one of the benefits of classes is that we can create more complicated classes that inherit variables or methods from their **parent classes**. This saves us time and helps us build more complicated objects, since these **child classes** can also include additional variables or methods.\n",
    "+ Create an `ElectricalVehicle` class that **inherits** from `Vehicle`;\n",
    "+ Create a new method `get_battery_level()` that returns a (pseudo)random integer from 1 to 100 *\n",
    "+ Then, create an electrical vehicle named `my_tesla`, for a **2020 black Model_S** with an engine type of **molten salt battery**\n",
    "\n",
    "Make sure that `my_tesla` belongs to `ElectricalVehicle` Class.\n",
    "\n",
    "***** use the `get_random_number()` function, already imported in the first line, for generating pseudo-random integers."
   ]
  },
  {
   "cell_type": "code",
   "execution_count": 5,
   "metadata": {
    "nbgrader": {
     "grade": false,
     "grade_id": "cell-9d9a01b72fa64213",
     "locked": false,
     "schema_version": 3,
     "solution": true,
     "task": false
    }
   },
   "outputs": [],
   "source": [
    "from utils import get_random_number\n",
    "\n",
    "### BEGIN SOLUTION\n",
    "class ElectricalVehicle(Vehicle):\n",
    "    def get_battery_level(self):\n",
    "        return get_random_number(1, 100)\n",
    "\n",
    "my_tesla = ElectricalVehicle(model = 'Model_S', color = 'black', year = 2020 , engine_type = 'molten salt battery')\n",
    "### END SOLUTION"
   ]
  },
  {
   "cell_type": "code",
   "execution_count": 6,
   "metadata": {
    "nbgrader": {
     "grade": true,
     "grade_id": "cell-7722214f55e01cee",
     "locked": true,
     "points": 2,
     "schema_version": 3,
     "solution": false,
     "task": false
    }
   },
   "outputs": [
    {
     "name": "stdout",
     "output_type": "stream",
     "text": [
      "Battery levels(%): 72\n",
      "\n",
      "Woah, Nikolas would be proud!\n",
      "A new, 2020 black Model_S with a molten salt battery!\n",
      "Again...That's heavy!\n",
      "\n",
      "True my_tesla belongs to the ElectricalVehicle Child Class.\n",
      "True my_tesla belongs to the Vehicle Parent Class.\n",
      "---- all asserts passed ---- \n"
     ]
    }
   ],
   "source": [
    "# __init__() tests:\n",
    "assert my_tesla.model == 'Model_S'\n",
    "assert my_tesla.color == 'black'\n",
    "assert my_tesla.year == 2020\n",
    "assert my_tesla.engine_type == 'molten salt battery'\n",
    "assert my_tesla.condition == 'new'\n",
    "\n",
    "# battery level tests:\n",
    "assert (my_tesla.get_battery_level() >= 1) & (my_tesla.get_battery_level() <= 100)\n",
    "print(\"Battery levels(%):\", (my_tesla.get_battery_level()))\n",
    "\n",
    "# isistance tests:\n",
    "assert (isinstance(my_tesla, ElectricalVehicle)) == True, 'my_tesla must belong to the ElectricalVehicle Child Class'\n",
    "assert (isinstance(my_tesla, Vehicle)) == True, 'my_tesla must belong to the Vehicle Parent Class'\n",
    "assert (isinstance(my_car, Vehicle)) == True\n",
    "assert (isinstance(my_car, ElectricalVehicle)) == False\n",
    "\n",
    "print(\"\"\"\\nWoah, Nikolas would be proud!\n",
    "A %s, %s %s %s with a %s!\n",
    "Again...That's heavy!\"\"\" % (my_tesla.condition,\n",
    "                    my_tesla.year,\n",
    "                    my_tesla.color,\n",
    "                    my_tesla.model,\n",
    "                    my_tesla.engine_type))\n",
    "print('')\n",
    "print(isinstance(my_tesla, ElectricalVehicle),'my_tesla belongs to the ElectricalVehicle Child Class.')\n",
    "print(isinstance(my_tesla, Vehicle),'my_tesla belongs to the Vehicle Parent Class.')\n",
    "print(\"---- all asserts passed ---- \")"
   ]
  },
  {
   "cell_type": "markdown",
   "metadata": {
    "nbgrader": {
     "grade": false,
     "grade_id": "cell-aed5a9a8196a5309",
     "locked": true,
     "schema_version": 3,
     "solution": false,
     "task": false
    }
   },
   "source": [
    "<img src=\"./assets/tesla_edison_jk.jpg\" width=\"400\"/>\n",
    "\n",
    "***"
   ]
  },
  {
   "cell_type": "markdown",
   "metadata": {
    "nbgrader": {
     "grade": false,
     "grade_id": "cell-889c4f738ce52759",
     "locked": true,
     "schema_version": 3,
     "solution": false,
     "task": false
    }
   },
   "source": [
    "### Part 2\n",
    "#### Exercise 4\n",
    "Start by creating a new class `Rectangle` with the following:\n",
    "+ Attributes:\n",
    "    - **length**\n",
    "    - **width**\n",
    "+ Methods:\n",
    "    - `get_area()`: returns the product of the rectangle **length** with **width**\n",
    "    - `get_perimeter()`: returns the sum of double the **lenght** and double the **width**"
   ]
  },
  {
   "cell_type": "code",
   "execution_count": 7,
   "metadata": {
    "nbgrader": {
     "grade": false,
     "grade_id": "cell-e1f05519ef39b0f6",
     "locked": false,
     "schema_version": 3,
     "solution": true,
     "task": false
    }
   },
   "outputs": [],
   "source": [
    "# class Rectangle:\n",
    "### BEGIN SOLUTION\n",
    "class Rectangle:\n",
    "    def __init__(self, length, width):\n",
    "        self.length = length\n",
    "        self.width = width\n",
    "\n",
    "    def get_area(self):\n",
    "        return self.length * self.width\n",
    "\n",
    "    def get_perimeter(self):\n",
    "        return 2 * self.length + 2 * self.width\n",
    "### END SOLUTION"
   ]
  },
  {
   "cell_type": "code",
   "execution_count": 8,
   "metadata": {
    "nbgrader": {
     "grade": true,
     "grade_id": "cell-c0da80882a9d38bc",
     "locked": true,
     "points": 2,
     "schema_version": 3,
     "solution": false,
     "task": false
    },
    "scrolled": true
   },
   "outputs": [
    {
     "name": "stdout",
     "output_type": "stream",
     "text": [
      "Congratulations, your calculations are correct!\n",
      "---- all asserts passed ---- \n"
     ]
    }
   ],
   "source": [
    "# considering a 10,50 m by 20,50 m rectangle:\n",
    "r = Rectangle(length=10.50, width=20.50)\n",
    "assert r.get_area() == 215.25, 'Area computation is not correct!'\n",
    "assert r.get_perimeter() == 62.0, 'Perimeter computation is not correct'\n",
    "print('Congratulations, your calculations are correct!')\n",
    "print(\"---- all asserts passed ---- \")"
   ]
  },
  {
   "cell_type": "markdown",
   "metadata": {},
   "source": [
    "Feeling of the day:\n",
    "<img src=\"assets/calculus.jpg\" width=\"400\"/>"
   ]
  },
  {
   "cell_type": "markdown",
   "metadata": {
    "nbgrader": {
     "grade": false,
     "grade_id": "cell-d4d7a73e1d86f888",
     "locked": true,
     "schema_version": 3,
     "solution": false,
     "task": false
    }
   },
   "source": [
    "#### Exercise 5\n",
    "Create a `Square` class, as a child of the `Rectangle` class. Change only the `__init__()` method in a way that now it only accepts one argument 'side'. You can call the init method from the parent class and assign both length and width to be equal to 'side'\n",
    "\n",
    "(hint: use the `super()` method - `Learning Notebook: 2.3 | The super() function`)"
   ]
  },
  {
   "cell_type": "code",
   "execution_count": 9,
   "metadata": {
    "nbgrader": {
     "grade": false,
     "grade_id": "cell-9262f02e916a66f1",
     "locked": false,
     "schema_version": 3,
     "solution": true,
     "task": false
    }
   },
   "outputs": [],
   "source": [
    "# class Square\n",
    "### BEGIN SOLUTION\n",
    "class Square(Rectangle):\n",
    "    def __init__(self, side):\n",
    "        super().__init__(length=side, width=side)\n",
    "### END SOLUTION"
   ]
  },
  {
   "cell_type": "code",
   "execution_count": 10,
   "metadata": {
    "nbgrader": {
     "grade": true,
     "grade_id": "cell-0d959343e7bd5637",
     "locked": true,
     "points": 1,
     "schema_version": 3,
     "solution": false,
     "task": false
    }
   },
   "outputs": [
    {
     "name": "stdout",
     "output_type": "stream",
     "text": [
      "Yes! Your square area (110.25 m2) and perimeter (42.0 m) computations are correct!\n",
      "---- all asserts passed ---- \n"
     ]
    }
   ],
   "source": [
    "# considering a 10,50 m by 10,50 m square:\n",
    "s = Square(side=10.50)\n",
    "\n",
    "assert s.get_area() == 110.25, 'Area computation is not correct!'\n",
    "assert s.get_perimeter() == 42.0, 'Perimeter computation is not correct'\n",
    "\n",
    "# Assert that the super() is implemented:\n",
    "import inspect\n",
    "error_message = 'Did you use the super approach?'\n",
    "assert 'self.width' not in inspect.getsource(Square.__init__), error_message\n",
    "assert 'self.length' not in inspect.getsource(Square.__init__), error_message\n",
    "assert \"super().\" in inspect.getsource(Square.__init__), error_message\n",
    "\n",
    "# Assert that methods are not re-implemented:\n",
    "error_message =  'Do not re-implement the methods, use the ones from the Rectangle :)'\n",
    "assert 'self.length' in inspect.getsource(Square.get_area), error_message\n",
    "assert 'self.width' in inspect.getsource(Square.get_area),  error_message\n",
    "assert 'self.length' in inspect.getsource(Square.get_perimeter), error_message\n",
    "assert 'self.width' in inspect.getsource(Square.get_perimeter), error_message\n",
    "\n",
    "print('Yes! Your square area (%s m2) and perimeter (%s m) computations are correct!' %(s.get_area(), s.get_perimeter()))\n",
    "print(\"---- all asserts passed ---- \")"
   ]
  },
  {
   "cell_type": "markdown",
   "metadata": {
    "nbgrader": {
     "grade": false,
     "grade_id": "cell-74b8cff6a547f994",
     "locked": true,
     "schema_version": 3,
     "solution": false,
     "task": false
    }
   },
   "source": [
    "#### Exercise 6\n",
    "\n",
    "Create a new class `Triangle`, independent from the other classes:\n",
    "+ Attributes:\n",
    "    - **base**\n",
    "    - **height**\n",
    "+ Methods:\n",
    "    - `get_tri_area()` which calculates the area of the triangle (do you remember the formula? :D)"
   ]
  },
  {
   "cell_type": "code",
   "execution_count": 11,
   "metadata": {
    "nbgrader": {
     "grade": false,
     "grade_id": "cell-361d990792a542f3",
     "locked": false,
     "schema_version": 3,
     "solution": true,
     "task": false
    }
   },
   "outputs": [],
   "source": [
    "# class Triangle:\n",
    "### BEGIN SOLUTION\n",
    "class Triangle:\n",
    "    def __init__(self, base, height):\n",
    "        self.base = base\n",
    "        self.height = height\n",
    "\n",
    "    def get_tri_area(self):\n",
    "        return 0.5 * self.base * self.height\n",
    "### END SOLUTION"
   ]
  },
  {
   "cell_type": "code",
   "execution_count": 12,
   "metadata": {
    "nbgrader": {
     "grade": true,
     "grade_id": "cell-a0f3c54e307aeee9",
     "locked": true,
     "points": 1,
     "schema_version": 3,
     "solution": false,
     "task": false
    }
   },
   "outputs": [
    {
     "name": "stdout",
     "output_type": "stream",
     "text": [
      "The area, in cm2, of our triangle is 100.0\n",
      "---- all asserts passed ---- \n"
     ]
    }
   ],
   "source": [
    "triangle = Triangle(base=10, height=20)\n",
    "\n",
    "assert triangle.get_tri_area() == 100, 'The area of the triangle is miscalculated!'\n",
    "\n",
    "print(\"The area, in cm2, of our triangle is\", triangle.get_tri_area())\n",
    "print(\"---- all asserts passed ---- \")"
   ]
  },
  {
   "cell_type": "markdown",
   "metadata": {
    "nbgrader": {
     "grade": false,
     "grade_id": "cell-987a4c76dceed9a1",
     "locked": true,
     "schema_version": 3,
     "solution": false,
     "task": false
    }
   },
   "source": [
    "#### Exercise 7\n",
    "\n",
    "Now for the `RightPyramid` class, create methods that compute the area of this geometric solid using both the `Square` and `Triangle` classes as parents.\n",
    "\n",
    "Override the `get_area()` method in order to compute the equation of the RightPyramid area. **Hint:** use the `super()` function to  make everything easier.\n",
    "\n",
    "So, you're in luck, geometry is not the subject for this SLU! Here are the formulas that you need:\n",
    "\n",
    "* The area of a Right Pyramid is equal to the sum of the base_area with the its lateral_area.\n",
    "* The Lateral area can be computed as the next image shows (1/2 * perimeter * slant_height)\n",
    "\n",
    "<img src=\"assets/pyramid_lateral_area.jpg\" width=\"500\"/>\n",
    "\n",
    "Other options do exist to compute the lateral area, like using the triangle_area. Feel free to use what is easier for your as this is about python, not geometry!\n",
    "\n",
    "+ Attributes:\n",
    "    - **square_side** (this is equivalent to one side of the square base, just like the previous exercises. So, base is also equal to 1/4 of the perimeter, p,  of the square base of the pyramid)\n",
    "    - **slant_height**\n",
    "+ Methods:\n",
    "    - `get_area()`"
   ]
  },
  {
   "cell_type": "code",
   "execution_count": 13,
   "metadata": {
    "nbgrader": {
     "grade": false,
     "grade_id": "cell-18e78aa00977daf8",
     "locked": false,
     "schema_version": 3,
     "solution": true,
     "task": false
    }
   },
   "outputs": [],
   "source": [
    "# class RightPyramid...\n",
    "### BEGIN SOLUTION\n",
    "class RightPyramid(Square, Triangle):\n",
    "    def __init__(self, square_side, slant_height):\n",
    "        self.square_side = square_side\n",
    "        self.slant_height = slant_height\n",
    "        self.height = slant_height\n",
    "        self.length = square_side\n",
    "        super().__init__(self.square_side)\n",
    "\n",
    "    def get_area(self):\n",
    "        base_area = super().get_area()\n",
    "        perimeter = super().get_perimeter()\n",
    "        return 0.5 * perimeter * self.slant_height + base_area\n",
    "\n",
    "# alternative solution:    \n",
    "#     def get_area(self):\n",
    "#         base_area = super().get_area()\n",
    "#         triangle_area = super().get_tri_area()\n",
    "#         return triangle_area * 4 + base_area    \n",
    "### END SOLUTION"
   ]
  },
  {
   "cell_type": "code",
   "execution_count": 14,
   "metadata": {
    "nbgrader": {
     "grade": true,
     "grade_id": "cell-7a3b92fb1669680d",
     "locked": true,
     "points": 3,
     "schema_version": 3,
     "solution": false,
     "task": false
    }
   },
   "outputs": [
    {
     "name": "stdout",
     "output_type": "stream",
     "text": [
      "The area of our little Giza pyramid is:  500.0\n",
      "---- all asserts passed ---- \n"
     ]
    }
   ],
   "source": [
    "Giza = RightPyramid(square_side=10, slant_height=20)\n",
    "\n",
    "print(\"The area of our little Giza pyramid is: \", Giza.get_area())\n",
    "\n",
    "# Assert instance:\n",
    "assert isinstance(Giza, RightPyramid)\n",
    "assert isinstance(Giza, Square), 'Probably your class is not properly defined, should be a child class of the Square classe'\n",
    "assert isinstance(Giza, Triangle), 'Probably your class is not properly defined, should be a child class of the Triangle classe'\n",
    "\n",
    "# Assert that the super() is implemented:\n",
    "error_message = 'Did you use the super approach?'\n",
    "assert 'super()' in inspect.getsource(Giza.__init__), error_message\n",
    "assert 'super()' in inspect.getsource(Giza.get_area), error_message\n",
    "\n",
    "# Assert calculations:\n",
    "assert Giza.get_area() == 500, 'The area of the right pyramid is miscalculated!'\n",
    "print(\"---- all asserts passed ---- \")"
   ]
  },
  {
   "cell_type": "markdown",
   "metadata": {
    "nbgrader": {
     "grade": false,
     "grade_id": "cell-fefa81e15425edc0",
     "locked": true,
     "schema_version": 3,
     "solution": false,
     "task": false
    }
   },
   "source": [
    "***"
   ]
  },
  {
   "cell_type": "markdown",
   "metadata": {
    "nbgrader": {
     "grade": false,
     "grade_id": "cell-aa3d24a15a390c12",
     "locked": true,
     "schema_version": 3,
     "solution": false,
     "task": false
    }
   },
   "source": [
    "### Part 3\n",
    "\n",
    "In the following exercice the goal it is to create a BankAccount program, composed by one parent class and two child classes, in order to manage the clients accounts, either through the main (current) account or the savings account.\n",
    "\n",
    "This is the general idea:\n",
    "\n",
    "<img src=\"assets/bank_account.jpg\" width=\"400\"/>\n",
    "\n",
    "\n",
    "\n",
    "#### Exercise 8\n",
    "\n",
    "First things first, the `BankAccount` class:\n",
    "\n",
    "+ Attributes:\n",
    "    - **customer**\n",
    "    - **account_number**\n",
    "    - **balance** with default value of 0 (zero) but passed as an argument anyway (you'll need it for Ex.9 and 10)\n",
    "    - **currency = '€'** currency variable is always € but no need to pass it as an argument\n",
    "+ Methods:\n",
    "    - `deposit()`: \n",
    "        * Deposit **amount** into the bank account. (increase the balance). \n",
    "        * If the **amount** is invalid (< 0) it should return an alert message to the user\n",
    "        * **Warning**: it should not deduce the amount and return (not print) a kind of `Invalid withdrawal amount` message.\n",
    "    - `withdraw()`:\n",
    "        * Withdraw **amount** from the bank account. (decrease the balance).\n",
    "        * This method must ensure that the account has sufficient funds for the asked **amount**. \n",
    "        * **Warning**: Again, it should be > 0 and also return (not print) an alert if the value is less than zero or if it's bigger than the balance\n",
    "    - `check_balance()`: print a statement of the account balance, example _\"The balance of account number 48522888 is €1000\"_"
   ]
  },
  {
   "cell_type": "code",
   "execution_count": 15,
   "metadata": {
    "nbgrader": {
     "grade": false,
     "grade_id": "cell-aec63d5088ce5f30",
     "locked": false,
     "schema_version": 3,
     "solution": true,
     "task": false
    }
   },
   "outputs": [],
   "source": [
    "class BankAccount:\n",
    "    \"\"\"\n",
    "    Abstract base class representing a bank account\n",
    "    \"\"\"\n",
    "    ### BEGIN SOLUTION\n",
    "    def __init__(self, customer, account_number, balance=0):\n",
    "        \"\"\"\n",
    "        Initialize the BankAccount class with a customer, account number\n",
    "        and opening balance (default value of 0)\n",
    "        \"\"\"\n",
    "        self.customer = customer\n",
    "        self.account_number = account_number\n",
    "        self.balance = balance\n",
    "        self.currency = '€'\n",
    "        \n",
    "    def deposit(self, amount):\n",
    "        \"\"\"\n",
    "        Deposit amount into the bank account\n",
    "        \"\"\"\n",
    "        if amount > 0:\n",
    "            self.balance += amount\n",
    "        else:\n",
    "            return 'Invalid deposit amount:' + str(amount)\n",
    "            \n",
    "    def withdraw(self, amount):\n",
    "        \"\"\"\n",
    "        Withdraw amount from the bank account, ensuring that are sufficient\n",
    "        funds\n",
    "        \"\"\"\n",
    "        if amount > 0:\n",
    "            if amount > self.balance:\n",
    "                return 'Insufficient funds!'\n",
    "            else:\n",
    "                self.balance -= amount\n",
    "        else:\n",
    "            return 'Invalid withdrawal amount:' + str(amount)\n",
    "            \n",
    "    def check_balance(self):\n",
    "        \"\"\"\n",
    "        Print a statement of the account balance\n",
    "        \"\"\"\n",
    "        return 'The balance of account number ' + str(self.account_number) + ' is ' + str(self.currency) + ' ' + str(self.balance)\n",
    "    ### END SOLUTION"
   ]
  },
  {
   "cell_type": "code",
   "execution_count": 16,
   "metadata": {
    "nbgrader": {
     "grade": true,
     "grade_id": "cell-5fb3aa9dc9bb6e4c",
     "locked": true,
     "points": 2,
     "schema_version": 3,
     "solution": false,
     "task": false
    }
   },
   "outputs": [
    {
     "name": "stdout",
     "output_type": "stream",
     "text": [
      "Nice, the account for John Doe was successfully created. His account number is 21457288 and for now is account is empty. \n",
      "\n",
      "John Doe just made a deposit of €25'000. His new account balance is: €25000 \n",
      "\n",
      "--(1/2)-- all asserts passed ---- \n"
     ]
    }
   ],
   "source": [
    "# Start by creating a new account:\n",
    "my_account = BankAccount(customer='John Doe', account_number=21457288)\n",
    "\n",
    "\n",
    "# assert the class:\n",
    "assert isinstance(my_account, BankAccount) == True, 'Your class is not properly defined'\n",
    "\n",
    "# assert the properties of the class:\n",
    "assert my_account.account_number == 21457288, 'You have to define an \"account_number\" attribute for your class!'\n",
    "assert my_account.customer == 'John Doe', 'You have to define a \"customer\" attribute for your class!'\n",
    "assert my_account.balance == 0, 'The default value of \"balance\" should be 0!'\n",
    "assert 'balance=0' in inspect.getsource(my_account.__init__), 'balance=0 must be passed as an argument anyway'\n",
    "assert my_account.currency == '€', 'Currency symbol is not working... Did you change the existing line?'\n",
    "\n",
    "print(\"Nice, the account for %s was successfully created. His account number is %s and for now is account is empty. \\n\"\n",
    "     % (my_account.customer, my_account.account_number))\n",
    "\n",
    "# Lets deposit that big, fat check !\n",
    "my_account.deposit(amount=25000)\n",
    "\n",
    "assert my_account.balance == 25000, 'Your balance, after making a deposit should change!'\n",
    "\n",
    "print(\"%s just made a deposit of €25'000. His new account balance is: %s%s \\n\"\n",
    "      %(my_account.customer, my_account.currency, my_account.balance) )\n",
    "\n",
    "# And then just go shopping (online... better be online nowadays):\n",
    "my_account.withdraw(amount=2250)\n",
    "\n",
    "assert my_account.balance == 22750, 'Your balance, after making a withdrawal should change or it is not correct!'\n",
    "print(\"--(1/2)-- all asserts passed ---- \")"
   ]
  },
  {
   "cell_type": "code",
   "execution_count": 17,
   "metadata": {
    "nbgrader": {
     "grade": true,
     "grade_id": "cell-aaeb81da6d6cc191",
     "locked": true,
     "points": 1,
     "schema_version": 3,
     "solution": false,
     "task": false
    }
   },
   "outputs": [
    {
     "name": "stdout",
     "output_type": "stream",
     "text": [
      "--(2/2)-- all asserts passed ---- \n"
     ]
    }
   ],
   "source": [
    "# assert that a 'str' message is returned for invalid deposit/withdraw:\n",
    "assert type(my_account.deposit(-10)) == str, 'Are you returning a string message for invalid deposit/withdraw'\n",
    "assert type(my_account.withdraw(-10)) == str, 'Are you returning a string message for invalid deposit/withdraw'\n",
    "\n",
    "# Finally let's ensure that your program does not accept invalid operations:\n",
    "my_account.deposit(amount=-10)\n",
    "assert my_account.balance == 22750, 'Your balance, after making an invalid deposit should not change!'\n",
    "my_account.withdraw(amount=-10)\n",
    "assert my_account.balance == 22750, 'Your balance, after making an invalid withdraw should not change!'\n",
    "\n",
    "print(\"--(2/2)-- all asserts passed ---- \")"
   ]
  },
  {
   "cell_type": "markdown",
   "metadata": {
    "nbgrader": {
     "grade": false,
     "grade_id": "cell-116e60b65541ac56",
     "locked": true,
     "schema_version": 3,
     "solution": false,
     "task": false
    }
   },
   "source": [
    "#### Exercise 9\n",
    "\n",
    "Next we need to develop the `SavingsAccount` class, as a child class for `BankAccount`:\n",
    "\n",
    "+ Attributes:\n",
    "    - *interest_rate*: default it to 0, must be passed in the `__init()` argument.\n",
    "    - get the BankAccount attributes:\n",
    "        * **hint1**: being super explicit here, the `__init__()` should have the following arguments - `customer, account_number, balance, interest_rate` (don't forget the required default values for some of them).\n",
    "        * **hint2**: the position where you get the BankAccount attributes is important (should be the last thing you do in the `__init__()` of the SavingsAccount.\n",
    "    \n",
    "+ Methods:\n",
    "    - `add_interest()`: add interest to the account at the rate *interest_rate*, thus updating the account balance."
   ]
  },
  {
   "cell_type": "code",
   "execution_count": 18,
   "metadata": {
    "nbgrader": {
     "grade": false,
     "grade_id": "cell-8f1a5436b1aa5fd0",
     "locked": false,
     "schema_version": 3,
     "solution": true,
     "task": false
    }
   },
   "outputs": [],
   "source": [
    "# class SavingsAccount...\n",
    "\n",
    "### BEGIN SOLUTION\n",
    "class SavingsAccount(BankAccount):\n",
    "    \"\"\"\n",
    "    A class representing a savings account\n",
    "    \"\"\"\n",
    "    def __init__(self, customer, account_number, balance=0, interest_rate=0):\n",
    "        \"\"\"\n",
    "        Initialize the savings account\n",
    "        \"\"\"\n",
    "        self.interest_rate = interest_rate\n",
    "        super().__init__(customer, account_number, balance)\n",
    "    \n",
    "    def add_interest(self):\n",
    "        \"\"\"\n",
    "        Add interest to the account at the rate self.interest_rate\n",
    "        \"\"\"\n",
    "        self.balance *= (1. + self.interest_rate)\n",
    "### END SOLUTION"
   ]
  },
  {
   "cell_type": "code",
   "execution_count": 19,
   "metadata": {
    "nbgrader": {
     "grade": true,
     "grade_id": "cell-2e5fd33c1f193d5a",
     "locked": true,
     "points": 2,
     "schema_version": 3,
     "solution": false,
     "task": false
    }
   },
   "outputs": [
    {
     "name": "stdout",
     "output_type": "stream",
     "text": [
      "Nice, the account for Jane Doe was successfully created. Her account number is 41522887. \n",
      "\n",
      "Checking account balance before interest:\n",
      "The balance of account number 41522887 is € 10000\n",
      "\n",
      "Checking account balance after interest:\n",
      "The balance of account number 41522887 is € 10055.0\n",
      "---- all asserts passed ---- \n"
     ]
    }
   ],
   "source": [
    "# Creating a new savings account:\n",
    "my_savings = SavingsAccount(customer='Jane Doe', account_number=41522887, interest_rate=0.0055, balance=10000)\n",
    "\n",
    "# assert the class:\n",
    "assert isinstance(my_savings, SavingsAccount) == True, 'Your class is not properly defined'\n",
    "assert isinstance(my_savings, BankAccount) == True, 'Your class has no relation with the BankAccount class'\n",
    "\n",
    "# assert the properties of the class:\n",
    "assert my_savings.account_number == 41522887, 'You have to define an \"account_number\" attribute for your class!'\n",
    "assert my_savings.customer == 'Jane Doe', 'You have to define a \"customer\" attribute for your class!'\n",
    "assert my_savings.balance == 10000, 'The default value of \"balance\" should be 10000!'\n",
    "assert my_savings.currency == '€', 'Currency symbol is not working... Did you changed the existing line?'\n",
    "\n",
    "print(\"Nice, the account for %s was successfully created. Her account number is %s. \\n\"\n",
    "     % (my_savings.customer, my_savings.account_number))\n",
    "\n",
    "# Check account balance:\n",
    "print(\"Checking account balance before interest:\")\n",
    "print(my_savings.check_balance())\n",
    "\n",
    "# adding some interest to the existing account:\n",
    "my_savings.add_interest()\n",
    "print(\"\\nChecking account balance after interest:\")\n",
    "print(my_savings.check_balance())\n",
    "\n",
    "assert my_savings.balance == 10055, \"The created savings account is not generating the correct interest (asserted with 5%, 0.0055) or any interest at all.\"\n",
    "print(\"---- all asserts passed ---- \")"
   ]
  },
  {
   "cell_type": "markdown",
   "metadata": {
    "nbgrader": {
     "grade": false,
     "grade_id": "cell-906ed21665e3fbd0",
     "locked": true,
     "schema_version": 3,
     "solution": false,
     "task": false
    }
   },
   "source": [
    "#### Exercise 10\n",
    "\n",
    "Finally we need to implement the `CurrentAccount` class, as a child class for `BankAccount`, that has a similar structure of the previous exercise:\n",
    "\n",
    "+ Attributes:\n",
    "    - **annual_fee**\n",
    "    - **transaction_limit**\n",
    "    - All the BankAccount attributes\n",
    "    \n",
    "+ Methods:\n",
    "    - `withdraw()`: override the parent class method and create an if clause with an extra condition, in order to limit the possible amount that a person can withdraw from a Current Account daily. **Hint:** use the *transaction_limit* variable you just initialized.\n",
    "    - `apply_annual_fee()`: Deduct the annual fee from the account balance, making sure that the account never goes negative! **Hint:** use python's `max()` function"
   ]
  },
  {
   "cell_type": "code",
   "execution_count": 20,
   "metadata": {
    "nbgrader": {
     "grade": false,
     "grade_id": "cell-6d21acc19869fec0",
     "locked": false,
     "schema_version": 3,
     "solution": true,
     "task": false
    }
   },
   "outputs": [],
   "source": [
    "# class CurrentAccount...\n",
    "\n",
    "### BEGIN SOLUTION\n",
    "class CurrentAccount(BankAccount):\n",
    "    \"\"\"\n",
    "    A class representing a current (checking) account\n",
    "    \"\"\"\n",
    "    def __init__(self, customer, account_number, annual_fee,\n",
    "                transaction_limit, balance=0):\n",
    "        \"\"\"\n",
    "        Initialize current account\n",
    "        \"\"\"\n",
    "        self.annual_fee = annual_fee\n",
    "        self.transaction_limit = transaction_limit\n",
    "        super().__init__(customer, account_number, balance)\n",
    "        \n",
    "    def withdraw(self, amount):\n",
    "        \"\"\"\n",
    "        Withdraw amount if sufficient funds exist and amount is less\n",
    "        than the single tranasaction limit\n",
    "        \"\"\"\n",
    "        if amount > self.balance:\n",
    "            return 'Insufficient funds'\n",
    "        \n",
    "        elif amount > self.transaction_limit:\n",
    "            return 'Exceeds the single transaction limit!'\n",
    "\n",
    "        elif amount < 0:\n",
    "            return 'Invalid withdrawal amount:' + str(amount)\n",
    "            \n",
    "        else: self.balance -= amount  \n",
    "    \n",
    "    def apply_annual_fee(self):\n",
    "        \"\"\"\n",
    "        Deduct the annual fee from the account balance\n",
    "        \"\"\"\n",
    "        \n",
    "        self.balance = max(0., self.balance - self.annual_fee)\n",
    "        \n",
    "### END SOLUTION"
   ]
  },
  {
   "cell_type": "code",
   "execution_count": 21,
   "metadata": {
    "nbgrader": {
     "grade": true,
     "grade_id": "cell-4f6963493a0e8fe9",
     "locked": true,
     "points": 1,
     "schema_version": 3,
     "solution": false,
     "task": false
    }
   },
   "outputs": [
    {
     "name": "stdout",
     "output_type": "stream",
     "text": [
      "Nice, the account for Richard Roe was successfully created. Her account number is 78300991 and for now is account is empty.\n",
      "\n",
      "--(1/3)-- all asserts passed ---- \n"
     ]
    }
   ],
   "source": [
    "# create a new current account:\n",
    "my_current = CurrentAccount(customer='Richard Roe', account_number=78300991, annual_fee=20., transaction_limit=200.)\n",
    "\n",
    "# assert the class:\n",
    "assert isinstance(my_current, CurrentAccount) == True, 'Your class is not properly defined'\n",
    "assert isinstance(my_current, BankAccount) == True, 'Your class has no relation with the BankAccount class'\n",
    "\n",
    "# assert the properties of the class:\n",
    "assert my_current.account_number == 78300991, 'You have to define an \"account_number\" attribute for your class!'\n",
    "assert my_current.customer == 'Richard Roe', 'You have to define a \"customer\" attribute for your class!'\n",
    "assert my_current.balance == 0, 'The default value of \"balance\" should be 0!'\n",
    "assert my_current.currency == '€', 'Currency symbol is not working... Did you changed the existing line?'\n",
    "\n",
    "print(\"Nice, the account for %s was successfully created. Her account number is %s and for now is account is empty.\\n\"\n",
    "     % (my_current.customer, my_current.account_number))\n",
    "print(\"--(1/3)-- all asserts passed ---- \")"
   ]
  },
  {
   "cell_type": "code",
   "execution_count": 22,
   "metadata": {
    "nbgrader": {
     "grade": true,
     "grade_id": "cell-650af470af428235",
     "locked": true,
     "points": 1,
     "schema_version": 3,
     "solution": false,
     "task": false
    }
   },
   "outputs": [
    {
     "name": "stdout",
     "output_type": "stream",
     "text": [
      "--(2/3)-- all asserts passed ---- \n"
     ]
    }
   ],
   "source": [
    "# Witdhraw more than balance:\n",
    "my_current.withdraw(amount=220)\n",
    "\n",
    "assert my_current.balance == 0, \"The created current account must not authorize withdraws when the amount is higher than the account balance\"\n",
    "print(\"--(2/3)-- all asserts passed ---- \")"
   ]
  },
  {
   "cell_type": "code",
   "execution_count": 23,
   "metadata": {
    "nbgrader": {
     "grade": true,
     "grade_id": "cell-8f5b292e2c0a7fc0",
     "locked": true,
     "points": 1,
     "schema_version": 3,
     "solution": false,
     "task": false
    }
   },
   "outputs": [
    {
     "name": "stdout",
     "output_type": "stream",
     "text": [
      "\n",
      "Checking account balance after annual fee:\n",
      "--(3/3)-- all asserts passed ---- \n"
     ]
    }
   ],
   "source": [
    "# Making a new deposit and checking balance:\n",
    "my_current.deposit(amount=750)\n",
    "my_current.check_balance()\n",
    "\n",
    "# New withdraw (should be blocked by limit):\n",
    "my_current.withdraw(amount=220)\n",
    "assert my_current.balance == 750\n",
    "\n",
    "# Charge current account annual fee:\n",
    "my_current.apply_annual_fee()\n",
    "print(\"\\nChecking account balance after annual fee:\")\n",
    "my_current.check_balance()\n",
    "assert my_current.balance == 730\n",
    "print(\"--(3/3)-- all asserts passed ---- \")"
   ]
  },
  {
   "cell_type": "markdown",
   "metadata": {
    "nbgrader": {
     "grade": false,
     "grade_id": "cell-b045e1dfd809b848",
     "locked": true,
     "schema_version": 3,
     "solution": false,
     "task": false
    }
   },
   "source": [
    "#### End of the SLU08 Exercise Notebook."
   ]
  }
 ],
 "metadata": {
  "celltoolbar": "Create Assignment",
  "kernelspec": {
   "display_name": "Python 3",
   "language": "python",
   "name": "python3"
  },
  "language_info": {
   "codemirror_mode": {
    "name": "ipython",
    "version": 3
   },
   "file_extension": ".py",
   "mimetype": "text/x-python",
   "name": "python",
   "nbconvert_exporter": "python",
   "pygments_lexer": "ipython3",
   "version": "3.7.5"
  }
 },
 "nbformat": 4,
 "nbformat_minor": 4
}
