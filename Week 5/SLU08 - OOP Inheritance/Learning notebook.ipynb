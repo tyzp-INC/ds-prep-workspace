{
 "cells": [
  {
   "cell_type": "markdown",
   "metadata": {},
   "source": [
    "# SLU08 Object Oriented Programming - Inheritance\n",
    "***"
   ]
  },
  {
   "cell_type": "markdown",
   "metadata": {},
   "source": [
    "Welcome to your 5th week! Congratulations on your work so far, we know it's not easy but in the end, when you look back, you'll know it was worth it.\n",
    "\n",
    "The topics for this week are the following:\n",
    "\n",
    "+ Simple Inheritance;\n",
    "+ Parent and Child classes;\n",
    "+ Overriding;\n",
    "+ isinstance() (and difference with type() function);\n",
    "+ Multiple Inheritance (and differences with multilevel inheritance);\n",
    "+ super() function in single and multiple inheritance;"
   ]
  },
  {
   "cell_type": "markdown",
   "metadata": {},
   "source": [
    "## Part 1 - Simple Inheritance"
   ]
  },
  {
   "cell_type": "markdown",
   "metadata": {},
   "source": [
    "#### Objective: Reusability\n",
    "Object-oriented programming creates **reusable patterns of code** to curtail redundancy in development projects.\n",
    "\n",
    "One way that OOP achieves recyclable code is through inheritance, when one subclass can leverage code from another base class."
   ]
  },
  {
   "cell_type": "markdown",
   "metadata": {},
   "source": [
    "### 1.1 | What is inheritance?"
   ]
  },
  {
   "cell_type": "markdown",
   "metadata": {},
   "source": [
    "Generally speaking, **inheritance** is the mechanism of deriving new classes from existing ones. This way we get a hierarchy of classes.\n",
    "\n",
    "If we think in terms of biology, we can think of a child inheriting certain traits from their parents. For instance, a child can inherit a parent's height, eye color or even share their parent's last name.\n",
    "\n",
    "Inheritance allows programmers to create classes that are built upon existing classes, and this makes it possible that a class created through inheritance inherits the attributes and methods of the parent class, thus reusability."
   ]
  },
  {
   "cell_type": "markdown",
   "metadata": {},
   "source": [
    "This way we can jump into these new concepts of:\n",
    "1. **Parent** or **Base** Classes\n",
    "2. **Child** or **Sub** Classes"
   ]
  },
  {
   "cell_type": "markdown",
   "metadata": {},
   "source": [
    "<img src=\"./assets/linux_servers.jpg\" width=\"400\"/>"
   ]
  },
  {
   "cell_type": "markdown",
   "metadata": {},
   "source": [
    "### 1.2 | Parent Classes"
   ]
  },
  {
   "cell_type": "markdown",
   "metadata": {},
   "source": [
    "Parent or base classes create a pattern out of which child or subclasses can be based on, they allow us to create child classes through inheritance without having to write the same code everytime.\n",
    "\n",
    "Important to stress out that any class can be made into a parent class, so they are each fully functional classes in their own right, not just templates.\n",
    "\n",
    "Let us start creating some robots!\n",
    "\n",
    "As you have seen before, start by calling the `__init__()` constructor method, which will be populated with `first_name` and `last_name` class variables."
   ]
  },
  {
   "cell_type": "code",
   "execution_count": 1,
   "metadata": {},
   "outputs": [],
   "source": [
    "# Start our Robot Class !:\n",
    "class Robot:\n",
    "    \n",
    "    def __init__(self, last_name):\n",
    "        self.last_name = last_name\n",
    "        self.first_name = \"Robot\""
   ]
  },
  {
   "cell_type": "markdown",
   "metadata": {},
   "source": [
    "As we know that every robot we will create has a first name *Robot*, we have initialized our `first_name` variable with the string `\"Robot\"`.\n",
    "\n",
    "Creating a parent class follows the same methodology seen in previous SLU's, except we are now thinking about what methods the child classes will be able to make use of, once we create those.\n",
    "\n",
    "To finish our Parent Class lets add some more methods, for instance an `hello` and `type` method."
   ]
  },
  {
   "cell_type": "code",
   "execution_count": 2,
   "metadata": {},
   "outputs": [],
   "source": [
    "class Robot:\n",
    "    \n",
    "    def __init__(self, last_name, robot_type=\"generalist\"):\n",
    "        self.last_name = last_name\n",
    "        self.first_name = \"Robot\"\n",
    "        self.robot_type = robot_type\n",
    "        \n",
    "    def hello(self):\n",
    "        print(\"Hi Human, I am \" + self.first_name + \" \" + self.last_name + \". Nice to meet you. :)\")\n",
    "        \n",
    "    def my_type(self):\n",
    "        print(\"I am a \" + self.robot_type + \" Robot! How can I help you?\")"
   ]
  },
  {
   "cell_type": "markdown",
   "metadata": {},
   "source": [
    "After constructing our `Robot` class we can now create a robot called **Tom**:"
   ]
  },
  {
   "cell_type": "code",
   "execution_count": 3,
   "metadata": {},
   "outputs": [
    {
     "name": "stdout",
     "output_type": "stream",
     "text": [
      "Hi Human, I am Robot Tom. Nice to meet you. :)\n",
      "I am a generalist Robot! How can I help you?\n"
     ]
    }
   ],
   "source": [
    "tom = Robot(last_name = \"Tom\")\n",
    "\n",
    "tom.hello()\n",
    "tom.my_type()"
   ]
  },
  {
   "cell_type": "markdown",
   "metadata": {},
   "source": [
    "### 1.3 | Child Classes"
   ]
  },
  {
   "cell_type": "markdown",
   "metadata": {},
   "source": [
    "Child or subclasses are classes that will inherit from the parent class. That means that each child class will be able to make use of the methods and variables of the parent class.\n",
    "\n",
    "The first line of a child class looks a little different than non-child classes as you must pass the parent class into the child class as a parameter.\n",
    "\n",
    "With child classes, we can choose to add more methods, override existing parent methods (we'll go into more detail on that later), or simply accept the default parent methods with the pass keyword, which we’ll do in next example."
   ]
  },
  {
   "cell_type": "code",
   "execution_count": 4,
   "metadata": {},
   "outputs": [],
   "source": [
    "class Doctor(Robot):\n",
    "    pass"
   ]
  },
  {
   "cell_type": "code",
   "execution_count": 5,
   "metadata": {},
   "outputs": [
    {
     "name": "stdout",
     "output_type": "stream",
     "text": [
      "Hi Human, I am Robot Jerry. Nice to meet you. :)\n",
      "I am a Medical Robot! How can I help you?\n"
     ]
    }
   ],
   "source": [
    "jerry = Doctor(last_name = \"Jerry\", robot_type=\"Medical\")\n",
    "\n",
    "jerry.hello()\n",
    "jerry.my_type()"
   ]
  },
  {
   "cell_type": "markdown",
   "metadata": {},
   "source": [
    "#### Inherited `__init()__` method"
   ]
  },
  {
   "cell_type": "markdown",
   "metadata": {},
   "source": [
    "There is no need for new `__init__()` method as inheritance takes care of importing every parents method and traits into the new child class!"
   ]
  },
  {
   "cell_type": "code",
   "execution_count": 6,
   "metadata": {},
   "outputs": [
    {
     "data": {
      "text/plain": [
       "'Robot Jerry'"
      ]
     },
     "execution_count": 6,
     "metadata": {},
     "output_type": "execute_result"
    }
   ],
   "source": [
    "jerry.first_name + ' ' + jerry.last_name"
   ]
  },
  {
   "cell_type": "markdown",
   "metadata": {},
   "source": [
    "####  New child class methods"
   ]
  },
  {
   "cell_type": "markdown",
   "metadata": {},
   "source": [
    "An example of adding more methods to a Child Class would be the following:"
   ]
  },
  {
   "cell_type": "code",
   "execution_count": 7,
   "metadata": {},
   "outputs": [],
   "source": [
    "class Doctor(Robot):\n",
    "    \n",
    "    def health_check(self):\n",
    "        print(\"You're healthy as a horse! Keep on doing the prep course :)\")"
   ]
  },
  {
   "cell_type": "code",
   "execution_count": 8,
   "metadata": {},
   "outputs": [
    {
     "name": "stdout",
     "output_type": "stream",
     "text": [
      "You're healthy as a horse! Keep on doing the prep course :)\n"
     ]
    }
   ],
   "source": [
    "jerry = Doctor(last_name = \"Jerry\", robot_type=\"Medical\")\n",
    "\n",
    "jerry.health_check()"
   ]
  },
  {
   "cell_type": "markdown",
   "metadata": {},
   "source": [
    "#### Another example of a child class:"
   ]
  },
  {
   "cell_type": "code",
   "execution_count": 9,
   "metadata": {},
   "outputs": [],
   "source": [
    "import random\n",
    "n = random.randint(1, 100)\n",
    "\n",
    "class Professor(Robot):\n",
    "    \n",
    "    def grade_exam(self):\n",
    "        if (n >= 50) & (n < 90):\n",
    "            print(\"Your grade: %s%% | Congratulations, you passed!\" % n)\n",
    "        elif n >= 90:\n",
    "            print(\"Your grade: %s%% | Top of the class!\" % n)\n",
    "        else:\n",
    "            print(\"Your grade: %s%% | Unfortunately, you'll have to take the exam again.\" % n)"
   ]
  },
  {
   "cell_type": "code",
   "execution_count": 10,
   "metadata": {},
   "outputs": [
    {
     "name": "stdout",
     "output_type": "stream",
     "text": [
      "Hi Human, I am Robot Nibbles. Nice to meet you. :)\n",
      "Your grade: 7% | Unfortunately, you'll have to take the exam again.\n"
     ]
    }
   ],
   "source": [
    "nibbles = Professor(last_name = \"Nibbles\", robot_type=\"Educational\")\n",
    "\n",
    "nibbles.hello()\n",
    "nibbles.grade_exam()"
   ]
  },
  {
   "cell_type": "markdown",
   "metadata": {},
   "source": [
    "### 1.4 | Class relations diagram:"
   ]
  },
  {
   "cell_type": "markdown",
   "metadata": {},
   "source": [
    "Remember our Robot Tom?   \n",
    "Now let us see what happens if we call a child class method, from the parent class object:"
   ]
  },
  {
   "cell_type": "code",
   "execution_count": 11,
   "metadata": {},
   "outputs": [
    {
     "ename": "AttributeError",
     "evalue": "'Robot' object has no attribute 'grade_exam'",
     "output_type": "error",
     "traceback": [
      "\u001b[0;31m---------------------------------------------------------------------------\u001b[0m",
      "\u001b[0;31mAttributeError\u001b[0m                            Traceback (most recent call last)",
      "\u001b[0;32m<ipython-input-11-5de16920572b>\u001b[0m in \u001b[0;36m<module>\u001b[0;34m\u001b[0m\n\u001b[0;32m----> 1\u001b[0;31m \u001b[0mtom\u001b[0m\u001b[0;34m.\u001b[0m\u001b[0mgrade_exam\u001b[0m\u001b[0;34m(\u001b[0m\u001b[0;34m)\u001b[0m\u001b[0;34m\u001b[0m\u001b[0;34m\u001b[0m\u001b[0m\n\u001b[0m",
      "\u001b[0;31mAttributeError\u001b[0m: 'Robot' object has no attribute 'grade_exam'"
     ]
    }
   ],
   "source": [
    "tom.grade_exam()"
   ]
  },
  {
   "cell_type": "markdown",
   "metadata": {},
   "source": [
    "And what about calling a method from the other child class?"
   ]
  },
  {
   "cell_type": "code",
   "execution_count": 12,
   "metadata": {},
   "outputs": [
    {
     "ename": "AttributeError",
     "evalue": "'Professor' object has no attribute 'health_check'",
     "output_type": "error",
     "traceback": [
      "\u001b[0;31m---------------------------------------------------------------------------\u001b[0m",
      "\u001b[0;31mAttributeError\u001b[0m                            Traceback (most recent call last)",
      "\u001b[0;32m<ipython-input-12-6bb5c9a0c624>\u001b[0m in \u001b[0;36m<module>\u001b[0;34m\u001b[0m\n\u001b[0;32m----> 1\u001b[0;31m \u001b[0mnibbles\u001b[0m\u001b[0;34m.\u001b[0m\u001b[0mhealth_check\u001b[0m\u001b[0;34m(\u001b[0m\u001b[0;34m)\u001b[0m\u001b[0;34m\u001b[0m\u001b[0;34m\u001b[0m\u001b[0m\n\u001b[0m",
      "\u001b[0;31mAttributeError\u001b[0m: 'Professor' object has no attribute 'health_check'"
     ]
    }
   ],
   "source": [
    "nibbles.health_check()"
   ]
  },
  {
   "cell_type": "markdown",
   "metadata": {},
   "source": [
    "As you can see, that is not possible. It can be rather logical if you, again, think in terms of biology. Parents can't inherit their childs traits! So our `Robot` object has no `grade_exam()` method.\n",
    "\n",
    "Also, children beside inheriting parents traits can have their own, unique, characteristics. In this case Nibbles doesn't have a `health_check()` method and Jerry doesn't have the `grade_exam()` method.\n",
    "\n",
    "So everything we did until now can be translated in the following diagram:\n",
    "<img src=\"./assets/oop_diagram_v2.jpg\" width=\"400\"/>"
   ]
  },
  {
   "cell_type": "markdown",
   "metadata": {},
   "source": [
    "***"
   ]
  },
  {
   "cell_type": "markdown",
   "metadata": {},
   "source": [
    "## Part 2 - Overriding\n",
    "\n",
    "### 2.1 | Overriding a method"
   ]
  },
  {
   "cell_type": "markdown",
   "metadata": {},
   "source": [
    "Overriding is the property of a class to change the implementation of a method provided by one of its base classes.\n",
    "\n",
    "This programming methodology allow us to use the methods from the parent class, avoiding duplicated code, and at the same time enhance or customize part of it. Method overriding is thus the sweet part of the inheritance mechanism.\n",
    "\n",
    "Let's start with a simple example:"
   ]
  },
  {
   "cell_type": "code",
   "execution_count": 13,
   "metadata": {},
   "outputs": [],
   "source": [
    "class Darth():\n",
    "    def __init__(self):\n",
    "        self.d_age = 45\n",
    "        \n",
    "    def get_age(self):\n",
    "        print('This is Vader, Darth Vader.')\n",
    "        print('Darth Vader is:', self.d_age)\n",
    "        \n",
    "class Luke(Darth):\n",
    "    def get_age(self):\n",
    "        print('Luke Skywalker is:', (self.d_age - 22))\n",
    "        "
   ]
  },
  {
   "cell_type": "code",
   "execution_count": 14,
   "metadata": {},
   "outputs": [
    {
     "name": "stdout",
     "output_type": "stream",
     "text": [
      "This is Vader, Darth Vader.\n",
      "Darth Vader is: 45\n",
      "---------\n",
      "Luke Skywalker is: 23\n"
     ]
    }
   ],
   "source": [
    "d = Darth()\n",
    "d.get_age()\n",
    "print('---------')\n",
    "l = Luke()\n",
    "l.get_age()"
   ]
  },
  {
   "cell_type": "markdown",
   "metadata": {},
   "source": [
    "By simply defining a method in the child class with the same name as the method in the parent class we were able to override it. Completely! And that part is indeed important as sometimes you don't want to completely override the original method but, instead, want to extend it or develop particular things needed for your child class."
   ]
  },
  {
   "cell_type": "markdown",
   "metadata": {},
   "source": [
    "### 2.2 | Extending your existing method"
   ]
  },
  {
   "cell_type": "markdown",
   "metadata": {},
   "source": [
    "For the next example, consider you have `Logger` as your parent class, as it represents a kind of text printing device, with a basic `log()` method that just prints your messages:"
   ]
  },
  {
   "cell_type": "code",
   "execution_count": 15,
   "metadata": {},
   "outputs": [
    {
     "name": "stdout",
     "output_type": "stream",
     "text": [
      "Hello World! :)\n"
     ]
    }
   ],
   "source": [
    "class Logger():\n",
    "    def log(self, message):\n",
    "        print(message)\n",
    "        \n",
    "my_obj = Logger()\n",
    "my_obj.log(message = \"Hello World! :)\")"
   ]
  },
  {
   "cell_type": "markdown",
   "metadata": {},
   "source": [
    "After this small piece of messaging device turns out we need a more enhanced device! The objective is to timestamp our message, before printing it, so we created the `TimestampLogger`.\n",
    "\n",
    "Lets just create a child class for the new device, defining the same `log()` method of our original class but now append the timestamp of the message as a prefix."
   ]
  },
  {
   "cell_type": "code",
   "execution_count": 16,
   "metadata": {},
   "outputs": [],
   "source": [
    "from utils import get_timestamp\n",
    "\n",
    "class Logger():\n",
    "    def log(self, message):\n",
    "        print(message)\n",
    "\n",
    "class TimestampLogger(Logger):\n",
    "    def log(self, message):\n",
    "        message = \"{ts} {msg}\".format(ts=get_timestamp(),\n",
    "                                      msg=message)"
   ]
  },
  {
   "cell_type": "code",
   "execution_count": 17,
   "metadata": {},
   "outputs": [],
   "source": [
    "TheTimeStamper = TimestampLogger()\n",
    "TheTimeStamper.log(message = 'Hello World !')"
   ]
  },
  {
   "cell_type": "markdown",
   "metadata": {},
   "source": [
    "At this stage creating an object using the child class will not return anything as the new `log()` method completely overrides the same method of the parent class.\n",
    "\n",
    "Instead, we need to call the parent `log` method from the child `log` method:"
   ]
  },
  {
   "cell_type": "code",
   "execution_count": 18,
   "metadata": {},
   "outputs": [],
   "source": [
    "from utils import get_timestamp\n",
    "\n",
    "class Logger():\n",
    "    def log(self, message):\n",
    "        print(message)\n",
    "\n",
    "class TimestampLogger(Logger):\n",
    "    def log(self, message):\n",
    "        message = \"{ts} {msg}\".format(ts=get_timestamp(),\n",
    "                                      msg=message)\n",
    "        Logger.log(self, message)"
   ]
  },
  {
   "cell_type": "code",
   "execution_count": 19,
   "metadata": {},
   "outputs": [
    {
     "name": "stdout",
     "output_type": "stream",
     "text": [
      "2020-04-28|00:00:04 Hello World !\n"
     ]
    }
   ],
   "source": [
    "TheTimeStamper = TimestampLogger()\n",
    "TheTimeStamper.log(message = 'Hello World !')"
   ]
  },
  {
   "cell_type": "markdown",
   "metadata": {},
   "source": [
    "### 2.3 | The super() function:"
   ]
  },
  {
   "cell_type": "markdown",
   "metadata": {},
   "source": [
    "This awesome function is a built-in feature that, alone, returns a temporary object of the parent class that then allows you to call that parent class's methods.\n",
    "\n",
    "The `super()` function makes class inheritance more manageable and extensible. The function returns a temporary object that allows reference to a parent class by the keyword super.\n",
    "\n",
    "The `super` function has two major use cases:\n",
    "\n",
    "+ To avoid the usage of the super (parent) class explicitly.\n",
    "+ To enable multiple inheritances (we will address this topic later)\n",
    "\n",
    "<img src=\"./assets/super_function.svg\" width=\"400\"/>\n",
    "\n",
    "Regarding our example it is always a better practice to call the `super().log(self, message)` insted of the `Logger.log(self, message)`:"
   ]
  },
  {
   "cell_type": "code",
   "execution_count": 20,
   "metadata": {},
   "outputs": [],
   "source": [
    "import datetime as dt\n",
    "\n",
    "class TimestampLogger(Logger):\n",
    "    def log(self, message):\n",
    "        message = \"{ts} {msg}\".format(ts=dt.datetime.now().isoformat('|', 'seconds'),\n",
    "                                      msg=message)\n",
    "        super().log(message)"
   ]
  },
  {
   "cell_type": "code",
   "execution_count": 21,
   "metadata": {},
   "outputs": [
    {
     "name": "stdout",
     "output_type": "stream",
     "text": [
      "Hello World!\n",
      "\n",
      "2020-04-28|00:00:08 Hello World !\n"
     ]
    }
   ],
   "source": [
    "my_obj = Logger()\n",
    "my_obj.log(message = 'Hello World!\\n')\n",
    "\n",
    "TheTimeStamper = TimestampLogger()\n",
    "TheTimeStamper.log(message = 'Hello World !')"
   ]
  },
  {
   "cell_type": "markdown",
   "metadata": {},
   "source": [
    "Although at this time it looks like the two previous examples were exactly the same, the `super()` function has much more to it, specially when we get into Multiple Inheritance.\n",
    "\n",
    "But before jumping into that, let's get acquainted with another built in function."
   ]
  },
  {
   "cell_type": "markdown",
   "metadata": {},
   "source": [
    "#### Extending parents `__init__()` method with `super()`"
   ]
  },
  {
   "cell_type": "code",
   "execution_count": 22,
   "metadata": {},
   "outputs": [],
   "source": [
    "class Logger():\n",
    "    def __init__(self):\n",
    "        self.logger_brand = \"DATAQ\"\n",
    "        self.logger_year = 2018\n",
    "    \n",
    "    def log(self, message):\n",
    "        print(message)\n",
    "        \n",
    "class TimestampLogger(Logger):\n",
    "    def __init__(self):\n",
    "        super().__init__()\n",
    "        self.logger_year = 2020\n",
    "        self.logger_timezone = \"Western European Summer Time (GMT+1)\"\n",
    "    \n",
    "    def log(self, message):\n",
    "        message = \"{ts} {msg}\".format(ts=datetime.datetime.now().isoformat('|', 'seconds'),\n",
    "                                      msg=message)\n",
    "        super().log(message)  "
   ]
  },
  {
   "cell_type": "code",
   "execution_count": 23,
   "metadata": {},
   "outputs": [
    {
     "name": "stdout",
     "output_type": "stream",
     "text": [
      "Device brand: DATAQ\n",
      "Device year: 2020\n",
      "Device default time zone: Western European Summer Time (GMT+1)\n"
     ]
    }
   ],
   "source": [
    "my_obj = Logger()\n",
    "TheTimeStamper = TimestampLogger()\n",
    "\n",
    "print(\"Device brand:\", TheTimeStamper.logger_brand)\n",
    "print(\"Device year:\", TheTimeStamper.logger_year)\n",
    "print(\"Device default time zone:\", TheTimeStamper.logger_timezone)"
   ]
  },
  {
   "cell_type": "markdown",
   "metadata": {},
   "source": [
    "Notice that we are able to call the parent's `__init__()` method to the new child class while just keeping the original `logger_brand`, changing the `logger_year` of the new device and adding a new attribute `logger_timezone` !"
   ]
  },
  {
   "cell_type": "markdown",
   "metadata": {},
   "source": [
    "### 2.4 | The isinstance() function"
   ]
  },
  {
   "cell_type": "markdown",
   "metadata": {},
   "source": [
    "So, `isinstance()` is a built-in python function that returns a Boolean stating whether some object is an instance or subclass of this class. For example, we can check whether `tom` (remember Tom?) is a `Robot` in general, if the object is an instance of that class."
   ]
  },
  {
   "cell_type": "code",
   "execution_count": 24,
   "metadata": {},
   "outputs": [
    {
     "data": {
      "text/plain": [
       "True"
      ]
     },
     "execution_count": 24,
     "metadata": {},
     "output_type": "execute_result"
    }
   ],
   "source": [
    "isinstance(tom, Robot)"
   ]
  },
  {
   "cell_type": "markdown",
   "metadata": {},
   "source": [
    "or if, maybe, `tom` is in fact a `Doctor` Robot:"
   ]
  },
  {
   "cell_type": "code",
   "execution_count": 25,
   "metadata": {},
   "outputs": [
    {
     "data": {
      "text/plain": [
       "False"
      ]
     },
     "execution_count": 25,
     "metadata": {},
     "output_type": "execute_result"
    }
   ],
   "source": [
    "isinstance(tom, Doctor)"
   ]
  },
  {
   "cell_type": "markdown",
   "metadata": {},
   "source": [
    "And what about jerry?"
   ]
  },
  {
   "cell_type": "code",
   "execution_count": 26,
   "metadata": {},
   "outputs": [
    {
     "name": "stdout",
     "output_type": "stream",
     "text": [
      "True\n",
      "True\n"
     ]
    }
   ],
   "source": [
    "print(isinstance(jerry, Robot))\n",
    "print(isinstance(jerry, Doctor))"
   ]
  },
  {
   "cell_type": "markdown",
   "metadata": {},
   "source": [
    "By the way, you could already see `isinstance()` in previous exercises when we checked whether a variable was an integer or a string, using `isinstance(var, str)` or `isinstance(var, int)`. "
   ]
  },
  {
   "cell_type": "markdown",
   "metadata": {},
   "source": [
    "This function is composed by two arguments, `isistance(object, classinfo)`, the first argument checks if the object is an instance or subclass of the class.\n",
    "\n",
    "During the development of python classes, parent and child, it is essential to know which objects belong to which class or sub-class. The `isinstance()` performs this function and hence helps the programmer along the way. \n",
    "\n",
    "Let's now also try it out with the `Logger()` example:"
   ]
  },
  {
   "cell_type": "code",
   "execution_count": 40,
   "metadata": {},
   "outputs": [
    {
     "name": "stdout",
     "output_type": "stream",
     "text": [
      "Is object my_obj an instance of Logger()? True\n",
      "Is object my_obj an instance of TimestampLogger()? False\n"
     ]
    }
   ],
   "source": [
    "print(\"Is object my_obj an instance of Logger()?\", (isinstance(my_obj, Logger)))\n",
    "\n",
    "print(\"Is object my_obj an instance of TimestampLogger()?\", (isinstance(my_obj, TimestampLogger)))"
   ]
  },
  {
   "cell_type": "code",
   "execution_count": 28,
   "metadata": {},
   "outputs": [
    {
     "name": "stdout",
     "output_type": "stream",
     "text": [
      "Is object TheTimeStamper an instance of Logger()? True\n",
      "Is object TheTimeStamper an instance of TimestampLogger()? True\n"
     ]
    }
   ],
   "source": [
    "print(\"Is object TheTimeStamper an instance of Logger()?\", (isinstance(TheTimeStamper, Logger)))\n",
    "\n",
    "print(\"Is object TheTimeStamper an instance of TimestampLogger()?\", (isinstance(TheTimeStamper, TimestampLogger)))"
   ]
  },
  {
   "cell_type": "markdown",
   "metadata": {},
   "source": [
    "#### 2.5 | Difference between `isinstance()` and `type()`\n",
    "\n",
    "The `isinstance()` function checks wether some object is an instance of some class or its subclass, while `type()` checks whether the object has some particular type and only yeld True when you use the exact same type object on both sides.\n",
    "\n",
    "What is the difference? Well, we can see that when dealing with subclasses. Let's return to our dear robots now:"
   ]
  },
  {
   "cell_type": "code",
   "execution_count": 29,
   "metadata": {},
   "outputs": [
    {
     "name": "stdout",
     "output_type": "stream",
     "text": [
      "Is Jerry an instance of Robot class? True\n",
      "Is Jerry an instance of Doctor class? True\n",
      "=============\n",
      "Is Jerry's type Robot? False\n",
      "Is Jerry's type Doctor? True\n"
     ]
    }
   ],
   "source": [
    "print(\"Is Jerry an instance of Robot class?\", isinstance(jerry, Robot))\n",
    "print(\"Is Jerry an instance of Doctor class?\", isinstance(jerry, Doctor))\n",
    "print('=============')\n",
    "print(\"Is Jerry's type Robot?\", type(jerry) is Robot)\n",
    "print(\"Is Jerry's type Doctor?\", type(jerry) is Doctor)"
   ]
  },
  {
   "cell_type": "markdown",
   "metadata": {},
   "source": [
    "As you can see, **jerry** is both an instance of `Robot` and `Doctor` classes but because `Doctor` is a child of `Robot` class, Jerry's type is `Doctor` and not `Robot`."
   ]
  },
  {
   "cell_type": "markdown",
   "metadata": {},
   "source": [
    "<img src=\"./assets/inheritance.jpg\" width=\"400\"/>\n",
    "\n",
    "***"
   ]
  },
  {
   "cell_type": "markdown",
   "metadata": {},
   "source": [
    "## Part 3 - Multiple and Multilevel Inheritance"
   ]
  },
  {
   "cell_type": "markdown",
   "metadata": {},
   "source": [
    "#### 3.1 | Multiple Inheritance"
   ]
  },
  {
   "cell_type": "markdown",
   "metadata": {},
   "source": [
    "This type of inheritance is when a class can inherit attributes and methods from more than one parent class. This way redundancy is reduced, although complexity, as well as ambiguity, can increase on a certain amount.\n",
    "\n",
    "It is a very powerful property of inheritance and comes very handy when your projects start to scale but remains of great importance to think and plan before your code."
   ]
  },
  {
   "cell_type": "code",
   "execution_count": 30,
   "metadata": {},
   "outputs": [],
   "source": [
    "class Pen():\n",
    "    def pen_message(self):\n",
    "        print('I have a pen!')\n",
    "        \n",
    "class Apple():\n",
    "    def apple_message(self):\n",
    "        print('I have an apple!')\n",
    "\n",
    "class Ppap(Pen, Apple):\n",
    "    def message(self):\n",
    "        super().pen_message()\n",
    "        super().apple_message()\n",
    "        print(\"Pen Pineapple Apple Pen\")\n",
    "        "
   ]
  },
  {
   "cell_type": "code",
   "execution_count": 31,
   "metadata": {},
   "outputs": [],
   "source": [
    "song = Ppap()"
   ]
  },
  {
   "cell_type": "code",
   "execution_count": 32,
   "metadata": {},
   "outputs": [
    {
     "name": "stdout",
     "output_type": "stream",
     "text": [
      "I have a pen!\n",
      "I have an apple!\n"
     ]
    }
   ],
   "source": [
    "song.pen_message()\n",
    "\n",
    "song.apple_message()"
   ]
  },
  {
   "cell_type": "code",
   "execution_count": 33,
   "metadata": {
    "scrolled": true
   },
   "outputs": [
    {
     "name": "stdout",
     "output_type": "stream",
     "text": [
      "I have a pen!\n",
      "I have an apple!\n",
      "Pen Pineapple Apple Pen\n"
     ]
    }
   ],
   "source": [
    "song.message()"
   ]
  },
  {
   "cell_type": "markdown",
   "metadata": {},
   "source": [
    "I am sorry, I am so sorry for this reference. But hopefully everyone got the message!\n",
    "\n",
    "Now, the next diagram sums it up:\n",
    "<img src=\"./assets/MultipleInheritance.jpg\" width=\"200\"/>\n",
    "\n",
    "In the next example, the methods of all classes have the same name so the result will be indeed different! The `super()` function only \"sees\" the `message()` method from the first class and is unable to \"get\" the `Apple` `message()` method:"
   ]
  },
  {
   "cell_type": "code",
   "execution_count": 34,
   "metadata": {},
   "outputs": [
    {
     "name": "stdout",
     "output_type": "stream",
     "text": [
      "I have a pen!\n",
      "I have a pen!\n",
      "Pen Pineapple Apple Pen\n"
     ]
    }
   ],
   "source": [
    "class Pen():\n",
    "    def message(self):\n",
    "        print('I have a pen!')\n",
    "        \n",
    "class Apple():\n",
    "    def message(self):\n",
    "        print('I have an apple!')\n",
    "\n",
    "class Ppap(Pen, Apple):\n",
    "    def message(self):\n",
    "        super().message()\n",
    "        super().message()\n",
    "        print(\"Pen Pineapple Apple Pen\")\n",
    "        \n",
    "song = Ppap()\n",
    "\n",
    "song.message()"
   ]
  },
  {
   "cell_type": "markdown",
   "metadata": {},
   "source": [
    "#### 3.2 | Multilevel Inheritance"
   ]
  },
  {
   "cell_type": "markdown",
   "metadata": {},
   "source": [
    "Other example of inheritance, a little diferent from multiple inheritance, is when you have a \"GrandParent\" class, Parent class and Child class.\n",
    "\n",
    "The lower levels can always access the method created in the upper classes."
   ]
  },
  {
   "cell_type": "code",
   "execution_count": 35,
   "metadata": {},
   "outputs": [],
   "source": [
    "class GrandParent():\n",
    "    def first(self):\n",
    "        print(\"My grand father is 88.\")\n",
    "    \n",
    "class Parent(GrandParent):\n",
    "    def second(self):\n",
    "        print(\"My father is 50.\")\n",
    "\n",
    "class Child(Parent):\n",
    "    def third(self):\n",
    "        print(\"I am 22!\")"
   ]
  },
  {
   "cell_type": "code",
   "execution_count": 36,
   "metadata": {},
   "outputs": [
    {
     "name": "stdout",
     "output_type": "stream",
     "text": [
      "My grand father is 88.\n",
      "My father is 50.\n",
      "I am 22!\n"
     ]
    }
   ],
   "source": [
    "my_object = Child()\n",
    "\n",
    "my_object.first()\n",
    "my_object.second()\n",
    "my_object.third()"
   ]
  },
  {
   "cell_type": "markdown",
   "metadata": {},
   "source": [
    "<img src=\"./assets/MultilevelInheritance.jpg\" width=\"100\" height=\"100\"/>"
   ]
  },
  {
   "cell_type": "markdown",
   "metadata": {},
   "source": [
    "#### 3.3 | The super() function in multiple inheritance\n",
    "\n",
    "We just saw an example of multilevel inheritance with three levels: \"GrandParent\" class, Parent class and Child class. The super() method ONLY refers to the immediate parent class.\n",
    "\n",
    "In the example, the immediate parent class of the Child is the Parent. Given so, we cannot use `super()` to call methods from the GrandParent class."
   ]
  },
  {
   "cell_type": "code",
   "execution_count": 37,
   "metadata": {},
   "outputs": [],
   "source": [
    "class GrandParent():\n",
    "    def first(self):\n",
    "        print(\"My grand father is 88.\")\n",
    "    \n",
    "class Parent(GrandParent):\n",
    "    def second(self):\n",
    "        print(\"My father is 50.\")\n",
    "\n",
    "class Child(Parent):\n",
    "    def third(self):\n",
    "        super.first()\n",
    "        print(\"I am 22!\")"
   ]
  },
  {
   "cell_type": "markdown",
   "metadata": {},
   "source": [
    "Watch what happens when we try to call the `first()` method within the `third()` using the `super()` function:"
   ]
  },
  {
   "cell_type": "code",
   "execution_count": 38,
   "metadata": {},
   "outputs": [
    {
     "ename": "AttributeError",
     "evalue": "type object 'super' has no attribute 'first'",
     "output_type": "error",
     "traceback": [
      "\u001b[0;31m---------------------------------------------------------------------------\u001b[0m",
      "\u001b[0;31mAttributeError\u001b[0m                            Traceback (most recent call last)",
      "\u001b[0;32m<ipython-input-38-e0962e91ebc1>\u001b[0m in \u001b[0;36m<module>\u001b[0;34m\u001b[0m\n\u001b[1;32m      1\u001b[0m \u001b[0mmy_second_object\u001b[0m \u001b[0;34m=\u001b[0m \u001b[0mChild\u001b[0m\u001b[0;34m(\u001b[0m\u001b[0;34m)\u001b[0m\u001b[0;34m\u001b[0m\u001b[0;34m\u001b[0m\u001b[0m\n\u001b[1;32m      2\u001b[0m \u001b[0;34m\u001b[0m\u001b[0m\n\u001b[0;32m----> 3\u001b[0;31m \u001b[0mmy_second_object\u001b[0m\u001b[0;34m.\u001b[0m\u001b[0mthird\u001b[0m\u001b[0;34m(\u001b[0m\u001b[0;34m)\u001b[0m\u001b[0;34m\u001b[0m\u001b[0;34m\u001b[0m\u001b[0m\n\u001b[0m",
      "\u001b[0;32m<ipython-input-37-d728ca37c2da>\u001b[0m in \u001b[0;36mthird\u001b[0;34m(self)\u001b[0m\n\u001b[1;32m      9\u001b[0m \u001b[0;32mclass\u001b[0m \u001b[0mChild\u001b[0m\u001b[0;34m(\u001b[0m\u001b[0mParent\u001b[0m\u001b[0;34m)\u001b[0m\u001b[0;34m:\u001b[0m\u001b[0;34m\u001b[0m\u001b[0;34m\u001b[0m\u001b[0m\n\u001b[1;32m     10\u001b[0m     \u001b[0;32mdef\u001b[0m \u001b[0mthird\u001b[0m\u001b[0;34m(\u001b[0m\u001b[0mself\u001b[0m\u001b[0;34m)\u001b[0m\u001b[0;34m:\u001b[0m\u001b[0;34m\u001b[0m\u001b[0;34m\u001b[0m\u001b[0m\n\u001b[0;32m---> 11\u001b[0;31m         \u001b[0msuper\u001b[0m\u001b[0;34m.\u001b[0m\u001b[0mfirst\u001b[0m\u001b[0;34m(\u001b[0m\u001b[0;34m)\u001b[0m\u001b[0;34m\u001b[0m\u001b[0;34m\u001b[0m\u001b[0m\n\u001b[0m\u001b[1;32m     12\u001b[0m         \u001b[0mprint\u001b[0m\u001b[0;34m(\u001b[0m\u001b[0;34m\"I am 22!\"\u001b[0m\u001b[0;34m)\u001b[0m\u001b[0;34m\u001b[0m\u001b[0;34m\u001b[0m\u001b[0m\n",
      "\u001b[0;31mAttributeError\u001b[0m: type object 'super' has no attribute 'first'"
     ]
    }
   ],
   "source": [
    "my_second_object = Child()\n",
    "\n",
    "my_second_object.third()"
   ]
  },
  {
   "cell_type": "markdown",
   "metadata": {},
   "source": [
    "The result is an **AttributeError** as the `super()` function can only get the methods that are immediate above the respective class using it, thus could only get the `second()` method:"
   ]
  },
  {
   "cell_type": "code",
   "execution_count": 39,
   "metadata": {},
   "outputs": [
    {
     "name": "stdout",
     "output_type": "stream",
     "text": [
      "My father is 50.\n"
     ]
    }
   ],
   "source": [
    "my_second_object.second()"
   ]
  },
  {
   "cell_type": "markdown",
   "metadata": {},
   "source": [
    "***\n",
    "#### Inheritance, look back to what we've learned so far:\n",
    "+ Simple Inheritance;\n",
    "+ Parent and Child classes;\n",
    "+ Overriding;\n",
    "+ isinstance() (and diference with type() function);\n",
    "+ Multiple Inheritance (and diferences with multilevel inheritance);\n",
    "+ super() function in single and multiple inheritance;"
   ]
  }
 ],
 "metadata": {
  "kernelspec": {
   "display_name": "Python 3",
   "language": "python",
   "name": "python3"
  },
  "language_info": {
   "codemirror_mode": {
    "name": "ipython",
    "version": 3
   },
   "file_extension": ".py",
   "mimetype": "text/x-python",
   "name": "python",
   "nbconvert_exporter": "python",
   "pygments_lexer": "ipython3",
   "version": "3.7.5"
  }
 },
 "nbformat": 4,
 "nbformat_minor": 4
}
