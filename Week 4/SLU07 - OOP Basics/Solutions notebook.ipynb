{
 "cells": [
  {
   "cell_type": "markdown",
   "metadata": {
    "nbgrader": {
     "grade": false,
     "grade_id": "cell-2509f0264af9d046",
     "locked": true,
     "schema_version": 1,
     "solution": false
    }
   },
   "source": [
    "# SLU 07 - Exercise notebook \n",
    "\n",
    "Before you start:\n",
    ">- This notebook is divided into 8 questions: \n",
    "    - Question 1 to 6 are easy, practice questions, expect that part to take about 2 hours. \n",
    "    - Questions 7 and 8 are hard question, expect to spend at least another 3 hours on them. They are close to the level of difficulty to pass the Academy test. \n",
    "    \n",
    "> - If you are unsure about your answer, run the asserts (the tests). Even if it is a bit incomplete, run the asserts, and see if they give you clues. \n",
    "    - In the last 2 questions the asserts will be a bit less helpful, so that you can get some practice of dealing with genuine python errors. \n",
    "    - Read the instructions carefully. Everything that is there is critical\n",
    "    - Don't worry if these concepts feel weird at first. Classes are not easy, you are now getting into advanced stuff! \n",
    "    \n",
    "> - If you are stuck, remember to:\n",
    "    - Play around! Open a new cell, and mess around with the objects. Instantiate them and see if they complain. See what they print, what they return, etc. Remember, in real life there are no asserts to guide you!  \n",
    "    - Always read the error messages carefully. They should be good clues about what is wrong. \n",
    "    - As always, don't be afraid to ask questions! \n"
   ]
  },
  {
   "cell_type": "markdown",
   "metadata": {},
   "source": [
    "----"
   ]
  },
  {
   "cell_type": "markdown",
   "metadata": {
    "nbgrader": {
     "grade": false,
     "grade_id": "cell-f257450893ad32fa",
     "locked": true,
     "schema_version": 1,
     "solution": false
    }
   },
   "source": [
    "### Exercise 1 - Playing around with objects \n",
    "\n",
    "This exercise is very simple. We are just going to make a couple new fruits, like we did in the first Learning Notebook. \n",
    "\n",
    "Make the following two fruits: \n",
    "- pears, which is called \"pears\", has 4 units, costs 3 euros per unit, and expires in 14 days\n",
    "- tangerines, which is called \"tangerines\", has 2 units, costs 6 euros per unit, and expires in 2 days\n",
    "\n",
    "This exercise is very easy, just look up how it was done in the Learning notebook and do a couple of them here. \n",
    "\n",
    "Reminder: the Fruit class has the following attributes: \n",
    "- `price_per_unit`\n",
    "- `name`\n",
    "- `nr_units`\n",
    "- `days_until_expired`\n",
    "\n",
    "> Protip: Note that you can use the tab auto-complete to help you.  \n",
    "> Try writing `Fruit(pr` and hitting tab. It should auto-complete to price! \n"
   ]
  },
  {
   "cell_type": "code",
   "execution_count": 1,
   "metadata": {
    "nbgrader": {
     "grade": false,
     "grade_id": "cell-4640dc55a4c658cd",
     "locked": false,
     "schema_version": 1,
     "solution": true
    }
   },
   "outputs": [],
   "source": [
    "from utils import Fruit\n",
    "\n",
    "# pears = ...\n",
    "# tangerines = ...\n",
    "### BEGIN SOLUTION\n",
    "pears = Fruit(price_per_unit=3, \n",
    "             name='pears', \n",
    "             nr_units=4, \n",
    "             days_until_expired=14)\n",
    "\n",
    "tangerines = Fruit(price_per_unit=6, \n",
    "              name='tangerines',\n",
    "              nr_units=2,\n",
    "              days_until_expired=2)\n",
    "### END SOLUTION"
   ]
  },
  {
   "cell_type": "code",
   "execution_count": 2,
   "metadata": {
    "nbgrader": {
     "grade": true,
     "grade_id": "cell-f4f479ecb4b7c3ef",
     "locked": true,
     "points": 1,
     "schema_version": 1,
     "solution": false
    }
   },
   "outputs": [
    {
     "name": "stdout",
     "output_type": "stream",
     "text": [
      "Great success! Exercise passed!\n"
     ]
    }
   ],
   "source": [
    "from utils import exercise_1_grading\n",
    "assert (pears and tangerines), 'Did you forget to make one of the fruits?'\n",
    "exercise_1_grading(pears, tangerines)\n",
    "print('Great success! Exercise passed!')"
   ]
  },
  {
   "cell_type": "markdown",
   "metadata": {
    "nbgrader": {
     "grade": false,
     "grade_id": "cell-7ff3b1abc7b63c8a",
     "locked": true,
     "schema_version": 1,
     "solution": false
    }
   },
   "source": [
    "----\n",
    "### Exercise 2 - add up the price of fruits \n",
    "\n",
    "Great! For your second exercise you will add the price of all the fruits: \n",
    "- apples\n",
    "- bananas \n",
    "- oranges \n",
    "- pears\n",
    "- tangerines \n",
    "\n",
    "The price is the product of the price per unit and number of units. But remember, the Fruit object already comes with a `calculate_price` method! \n",
    "\n",
    "Create a function called `calculate_price_of_all_fruits`, which takes a list called `all_fruits` that contains fruit objects and returns the total price. We've already filled in some things for you. \n",
    "\n",
    "Remember: the function should take any list of fruits, don't hard code any particular list! "
   ]
  },
  {
   "cell_type": "code",
   "execution_count": 3,
   "metadata": {
    "nbgrader": {
     "grade": false,
     "grade_id": "cell-d5a600cefd3c41c7",
     "locked": false,
     "schema_version": 1,
     "solution": true
    }
   },
   "outputs": [
    {
     "name": "stdout",
     "output_type": "stream",
     "text": [
      "24\n"
     ]
    }
   ],
   "source": [
    "def calculate_price_of_all_fruits(all_fruits): \n",
    "    \"\"\"\n",
    "    Calculates the price for every fruit in the all_fruits list, \n",
    "        and returns the total price of fruits in the list\n",
    "    Args: \n",
    "        all_fruits (list): a list with fruit objects \n",
    "        \n",
    "    Returns: \n",
    "        total_price (int): the total price of the fruits in the list\n",
    "    \"\"\"\n",
    "    \n",
    "    # hint: this may require a for loop, and a variable to keep track of the total price \n",
    "\n",
    "    ### BEGIN SOLUTION\n",
    "    full_price = 0\n",
    "\n",
    "    for fruit in all_fruits: \n",
    "        full_price += fruit.calculate_price()\n",
    "        \n",
    "    return full_price\n",
    "    ### END SOLUTION\n",
    "    \n",
    "# this should return 24 \n",
    "print(calculate_price_of_all_fruits([pears, tangerines]))"
   ]
  },
  {
   "cell_type": "code",
   "execution_count": 4,
   "metadata": {
    "nbgrader": {
     "grade": true,
     "grade_id": "cell-ee1a997f801ac0bb",
     "locked": true,
     "points": 1,
     "schema_version": 1,
     "solution": false
    }
   },
   "outputs": [
    {
     "name": "stdout",
     "output_type": "stream",
     "text": [
      "Great success! Exercise passed!\n"
     ]
    }
   ],
   "source": [
    "from utils import exercise_2_grading\n",
    "exercise_2_grading(calculate_price_of_all_fruits)\n",
    "print('Great success! Exercise passed!')"
   ]
  },
  {
   "cell_type": "markdown",
   "metadata": {
    "nbgrader": {
     "grade": false,
     "grade_id": "cell-9310208dc9da1132",
     "locked": true,
     "schema_version": 1,
     "solution": false
    }
   },
   "source": [
    "---\n",
    "### Exercise 3 - Using objects with other objects \n",
    "\n",
    "In this exercise you will do something very similar to the learning notebook. You will simply instantiate a basket, create some toilet paper, and then will add and remove stuff until you have the following: \n",
    "\n",
    "- Total value of the basket should be between 30 and 35 \n",
    "- the basket must have at least 3 types of fruit\n",
    "- the basket must not contain any items that will expire in the next 8 days \n",
    "- the basket must have at least some toilet paper. It should be ... \n",
    "    - named \"Soft but cheap\" \n",
    "    - cost 4 euros\n",
    "    - have \"Double leaf\". \n",
    "    - The expiration date and number of units are up to you, they won't be tested\n",
    "\n",
    "Reminders: \n",
    "```\n",
    "- You already have some instance variables to work with: \n",
    "    - apples \n",
    "    - oranges\n",
    "    - bananas \n",
    "    - pears \n",
    "    - tangerines \n",
    "- You only have the Class variable Toiletpaper to work with. \n",
    "- You'll need to create some toilet paper before you can use it. \n",
    "    - Call the variable toilet_paper.\n",
    "    - Give it nr_units = 1 \n",
    "```\n",
    "\n",
    "_Note: obviously you can figure out exactly what you need to add ahead of time without trial and error. However, it's good practice to just use the objects. Try adding, checking the price, removing, etc until you have an answer that meets all the conditions._"
   ]
  },
  {
   "cell_type": "code",
   "execution_count": 5,
   "metadata": {
    "nbgrader": {
     "grade": false,
     "grade_id": "cell-cffd2f4f2528de89",
     "locked": false,
     "schema_version": 1,
     "solution": true
    }
   },
   "outputs": [],
   "source": [
    "from utils import Toiletpaper, Basket, get_fruits\n",
    "apples, bananas, oranges = get_fruits()  # you already have some fruits\n",
    "\n",
    "# my_basket = ... \n",
    "# toilet_paper = ...\n",
    "# my_basket.<do something> \n",
    "\n",
    "### BEGIN SOLUTION\n",
    "my_basket = Basket()\n",
    "\n",
    "toilet_paper = Toiletpaper(name='Soft but cheap',\n",
    "                 thickness='Double leaf', \n",
    "                 price_per_unit=4, \n",
    "                 days_until_expired=2000, \n",
    "                 nr_units=1)\n",
    "\n",
    "my_basket.add_item(apples)\n",
    "my_basket.add_item(pears)\n",
    "my_basket.add_item(oranges)\n",
    "my_basket.add_item(toilet_paper)\n",
    "### END SOLUTION"
   ]
  },
  {
   "cell_type": "code",
   "execution_count": 6,
   "metadata": {
    "nbgrader": {
     "grade": true,
     "grade_id": "cell-277ef4e6f1a47d0d",
     "locked": true,
     "points": 2,
     "schema_version": 1,
     "solution": false
    },
    "scrolled": true
   },
   "outputs": [
    {
     "name": "stdout",
     "output_type": "stream",
     "text": [
      "Great success! Exercise passed!\n"
     ]
    }
   ],
   "source": [
    "from utils import exercise_3_grading \n",
    "exercise_3_grading(my_basket, toilet_paper)\n",
    "print('Great success! Exercise passed!')"
   ]
  },
  {
   "cell_type": "markdown",
   "metadata": {
    "nbgrader": {
     "grade": false,
     "grade_id": "cell-d72d7a817b368a0b",
     "locked": true,
     "schema_version": 1,
     "solution": false
    }
   },
   "source": [
    "----\n",
    "### Exercise 4: Making a basic object \n",
    "\n",
    "For this exercise, you will create a few `Student`s. \n",
    "\n",
    "Here is what you need to do: \n",
    "1. Create a `Student` class. Each student should be initialized with a `name`, an `age`, and an `average_grade`. You don't know however what that `average_grade` should be, so it should always be initialized as None. \n",
    "\n",
    "Then create 3 students: \n",
    "> `minh`, called \"Minh Hoang\", aged 15  \n",
    "> `maria`, called  \"Maria Dominguez\", aged 13  \n",
    "> `sam`, called \"Sam Hopkins\", aged 8  \n",
    "\n"
   ]
  },
  {
   "cell_type": "code",
   "execution_count": 7,
   "metadata": {
    "nbgrader": {
     "grade": false,
     "grade_id": "cell-2e5ef92f86968bc5",
     "locked": false,
     "schema_version": 1,
     "solution": true
    }
   },
   "outputs": [],
   "source": [
    "### BEGIN SOLUTION\n",
    "class Student:\n",
    "    def __init__(self, name, age): \n",
    "        self.name = name \n",
    "        self.age = age \n",
    "        self.average_grade = None\n",
    "        \n",
    "minh = Student(name='Minh Hoang', age=15)\n",
    "maria = Student(name='Maria Dominguez', age=13)\n",
    "sam = Student(name='Sam Hopkins', age=8)\n",
    "### END SOLUTION"
   ]
  },
  {
   "cell_type": "code",
   "execution_count": 8,
   "metadata": {
    "nbgrader": {
     "grade": true,
     "grade_id": "cell-61f3abe376b0ed6d",
     "locked": true,
     "points": 2,
     "schema_version": 1,
     "solution": false
    }
   },
   "outputs": [
    {
     "name": "stdout",
     "output_type": "stream",
     "text": [
      "Great success! Section passed!\n"
     ]
    }
   ],
   "source": [
    "from utils import exercise_4_grading\n",
    "assert Student\n",
    "assert (minh and maria and sam), 'did you not forget to create someone?'\n",
    "exercise_4_grading(Student, maria, minh, sam)\n",
    "print('Great success! Section passed!')"
   ]
  },
  {
   "cell_type": "markdown",
   "metadata": {
    "nbgrader": {
     "grade": false,
     "grade_id": "cell-8adda44bfdb36940",
     "locked": true,
     "schema_version": 1,
     "solution": false
    }
   },
   "source": [
    "---\n",
    "### Exercise 5: working with methods \n",
    "For this exercise you will create a `School` class. \n",
    "\n",
    "Every school will be instantiated without any students, just an empty list (a bit like the basket, hint hint) called `students`. Each school should also have a `name`. \n",
    "\n",
    "It should also have a method called `accept_student`, which takes a student and appends them to the `students` list. "
   ]
  },
  {
   "cell_type": "code",
   "execution_count": 9,
   "metadata": {
    "nbgrader": {
     "grade": false,
     "grade_id": "cell-a9722b9debaeb161",
     "locked": false,
     "schema_version": 1,
     "solution": true
    }
   },
   "outputs": [],
   "source": [
    "### BEGIN SOLUTION\n",
    "class School:\n",
    "    def __init__(self, name):\n",
    "        self.name = name\n",
    "        self.students = []\n",
    "    def accept_student(self, student): \n",
    "        self.students.append(student)\n",
    "### END SOLUTION"
   ]
  },
  {
   "cell_type": "code",
   "execution_count": 10,
   "metadata": {
    "nbgrader": {
     "grade": true,
     "grade_id": "cell-a9853f7b4e57fe87",
     "locked": true,
     "points": 2,
     "schema_version": 1,
     "solution": false
    }
   },
   "outputs": [
    {
     "name": "stdout",
     "output_type": "stream",
     "text": [
      "Great success! Section passed!\n"
     ]
    }
   ],
   "source": [
    "from utils import exercise_5_grading\n",
    "assert School\n",
    "test_school = School(name='Mean Girls High')\n",
    "exercise_5_grading(School, test_school)\n",
    "print('Great success! Section passed!')"
   ]
  },
  {
   "cell_type": "markdown",
   "metadata": {
    "nbgrader": {
     "grade": false,
     "grade_id": "cell-9a6f76784b433690",
     "locked": true,
     "schema_version": 1,
     "solution": false
    }
   },
   "source": [
    "---\n",
    "### Exercise 6: calling methods with other methods \n",
    "We were a bit naive, and students who are too young to get into highschool are getting in!  \n",
    "\n",
    "Create a `Highschool` class, that is the same as `School` (just copy paste what you wrote if you want), but has two extra methods:\n",
    "- `consider_student_application`, which will take a student, check if the age is equal or more than 12 and, if it is, will use the `accept_student` method to accept the student.  \n",
    "- `show_all_students`, which will loop over the students that have been accepted and print their names.\n",
    "\n",
    "After you have created the school class, use it to create `happy_highschool` as an instance of `Highschool`, which is named `The happy highschool`. \n",
    "\n",
    "Finally, make this happy_highschool consider the application of `minh`, `maria` and `sam`, who you created in exercise 4. (you don't need to create them again).  Remember that they students all have the attributes `age` and `name`. "
   ]
  },
  {
   "cell_type": "code",
   "execution_count": 11,
   "metadata": {
    "nbgrader": {
     "grade": false,
     "grade_id": "cell-ef56f4c9a022e15a",
     "locked": false,
     "schema_version": 1,
     "solution": true
    }
   },
   "outputs": [
    {
     "name": "stdout",
     "output_type": "stream",
     "text": [
      "Minh Hoang\n",
      "Maria Dominguez\n"
     ]
    }
   ],
   "source": [
    "### BEGIN SOLUTION\n",
    "class Highschool:\n",
    "    def __init__(self, name):\n",
    "        self.name = name\n",
    "        self.students = []\n",
    "        \n",
    "    def accept_student(self, student): \n",
    "        self.students.append(student)\n",
    "        \n",
    "    def consider_student_application(self, student):\n",
    "        if student.age >= 12:\n",
    "            self.accept_student(student)\n",
    "            \n",
    "    def show_all_students(self):\n",
    "        for student in self.students:\n",
    "            print(student.name)\n",
    "            \n",
    "happy_highschool = Highschool('The happy highschool')\n",
    "happy_highschool.consider_student_application(minh)\n",
    "happy_highschool.consider_student_application(maria)\n",
    "happy_highschool.consider_student_application(sam)\n",
    "happy_highschool.show_all_students()\n",
    "\n",
    "### END SOLUTION"
   ]
  },
  {
   "cell_type": "code",
   "execution_count": 12,
   "metadata": {
    "nbgrader": {
     "grade": true,
     "grade_id": "cell-9eae48817b9d3b7f",
     "locked": true,
     "points": 4,
     "schema_version": 1,
     "solution": false
    }
   },
   "outputs": [
    {
     "name": "stdout",
     "output_type": "stream",
     "text": [
      "Great success! Section passed!\n"
     ]
    }
   ],
   "source": [
    "from utils import exercise_6_grading\n",
    "assert Highschool\n",
    "assert happy_highschool\n",
    "exercise_6_grading(Highschool, happy_highschool)\n",
    "print('Great success! Section passed!')"
   ]
  },
  {
   "cell_type": "markdown",
   "metadata": {
    "nbgrader": {
     "grade": false,
     "grade_id": "cell-6902583bd7d88bc4",
     "locked": true,
     "schema_version": 3,
     "solution": false,
     "task": false
    }
   },
   "source": [
    "----\n",
    "> Before you continue:\n",
    "- _The exercises up to here were good for practice. The last two are hard ones._ \n",
    "- The last 2 exercises have no new material. They will just have less hand-holding and be more demanding. If you get in trouble, see your own solutions above for clues! \n",
    "- You can of course ask for help at any time, but try suffering through these two on your own if you can, it's very good practice for the real world :)  \n",
    "- _Expect to take quite a while (probably over 2 hours) to get exercise 7 and 8 right._\n",
    "- _It's often useful to draft the \"skeleton\" of your code before jumping in. What are the steps? What are the methods of each class you will need? Sometimes writing on a piece of paper is a good support._ \n",
    "- _This section will test you on what you learned, but also includes functions, and other things you have learned before. You may need to check a few past SLUs for this one_\n",
    "- _After you create your Employee class, make an employee called frank, and give him a salary. See if that works. The same goes for the Company class. It's crucial to gain the habit of testing your stuff as you go, to see if it is working._\n",
    "    - _the asserts will give you hints as to where you have a problem, but it's your responsibility to create instances, find the actual error, and try to fix it!_ \n",
    "- _This is the last block in this SLU! If you got this, you are getting pretty good at objects, and are probably ready to deal with the Academy entry exercise that has this SLU's material._"
   ]
  },
  {
   "cell_type": "markdown",
   "metadata": {
    "nbgrader": {
     "grade": false,
     "grade_id": "cell-eae99c07eb4281fa",
     "locked": true,
     "schema_version": 1,
     "solution": false
    }
   },
   "source": [
    "---\n",
    "### Exercise 7: the companies and the employees \n",
    "\n",
    "Your objective is to create some companies, and some employees. Each company will hire some employees and have the ability to give them all raises. You will also need to check what the mean salary of each company is.   \n",
    "\n",
    "\n",
    "About the Employee class: \n",
    "- every employee should have a `name` and a `salary` (don't worry about the fact that they have a salary before they join the company, let's keep things simple).\n",
    "\n",
    "\n",
    "About the Company class: \n",
    "- The company should have the following attributes:\n",
    "    - `name`, which will be passed when instantiating companies \n",
    "    - `list_of_employees`, which should start empty when the company is instantiated. \n",
    "- The methods for `Company` should be as follows: \n",
    "    - `hire` --> ads an `employee` to the company's `list_of_employees`\n",
    "    - `give_a_raise`, which has two arguments: \n",
    "        - `employee` \n",
    "        - `raise_fraction` takes number between 0 and 1. For instance, if an employee has a salary of 1000 and the raise_fraction is 0.1, they should get a 10% increase in their salary (to 1100). \n",
    "    - `get_mean_salary`, which calculates the mean salary of all company employees and returns it. \n",
    "    - `give_everyone_a_raise`, which takes an argument of `raise_fraction` (for instance 0.2) and gives that fraction raise to every employee (in this case a 20% raise for everyone). "
   ]
  },
  {
   "cell_type": "code",
   "execution_count": 13,
   "metadata": {
    "nbgrader": {
     "grade": false,
     "grade_id": "cell-05a39eba6e7e96c1",
     "locked": false,
     "schema_version": 1,
     "solution": true
    }
   },
   "outputs": [],
   "source": [
    "### BEGIN SOLUTION\n",
    "class Employee:\n",
    "    def __init__(self, name, salary): \n",
    "        self.name = name\n",
    "        self.salary = salary \n",
    "        \n",
    "class Company:\n",
    "    def __init__(self, name):\n",
    "        self.name = name \n",
    "        self.list_of_employees = []\n",
    "\n",
    "    def hire(self, employee): \n",
    "        self.list_of_employees.append(employee)\n",
    "        \n",
    "    def give_a_raise(self, employee, raise_fraction):\n",
    "        current_salary = employee.salary\n",
    "        new_salary = current_salary * (1 + raise_fraction)\n",
    "        employee.salary = new_salary\n",
    "    \n",
    "    def give_everyone_a_raise(self, raise_fraction):\n",
    "        for employee in self.list_of_employees:\n",
    "            self.give_a_raise(employee, raise_fraction)\n",
    "            \n",
    "    def get_mean_salary(self): \n",
    "        total_salary = 0\n",
    "        for employee in self.list_of_employees:\n",
    "            total_salary += employee.salary\n",
    "        mean_salary = total_salary / len(self.list_of_employees)\n",
    "        return mean_salary\n",
    "### END SOLUTION"
   ]
  },
  {
   "cell_type": "code",
   "execution_count": 14,
   "metadata": {
    "nbgrader": {
     "grade": true,
     "grade_id": "cell-e429403c7f5eff78",
     "locked": true,
     "points": 4,
     "schema_version": 1,
     "solution": false
    }
   },
   "outputs": [
    {
     "name": "stdout",
     "output_type": "stream",
     "text": [
      "Great success! Section passed!\n"
     ]
    }
   ],
   "source": [
    "from utils import exercise_7_grading\n",
    "assert Company, Employee\n",
    "exercise_7_grading(Employee, Company)\n",
    "print('Great success! Section passed!')"
   ]
  },
  {
   "cell_type": "markdown",
   "metadata": {
    "nbgrader": {
     "grade": false,
     "grade_id": "cell-5c6d9c4151e4a2bf",
     "locked": true,
     "schema_version": 1,
     "solution": false
    }
   },
   "source": [
    "---\n",
    "### Exercise 8: putting your classes to use! \n",
    "You will then put these classes to use. You will then create two companies, and 6 employees:\n",
    "\n",
    "companies: \n",
    "    - `generous_company`, called \"Generous company Ltd.\"\n",
    "    - `stingy_company`, called \"Mr. Burns Enterprises Ltd.\"\n",
    "employees (we don't care what you name the variables):  \n",
    "        - \"Hugo C\", salary 5\n",
    "        - \"Juliana R\", salary 6\n",
    "        - \"Ines P\", salary 5\n",
    "        - \"Pavel N\", salary 7 \n",
    "        - \"Carol M\", salary 8\n",
    "        - \"Bruno A\", salary 6\n",
    "\n",
    "The first 3 employees (Hugo, Juliana and Ines) will be hired by `generous_company`, and the last 3 will be hired by `stingy_company`. \n",
    "\n",
    "You will check the mean salary right after both companies have finished hiring. \n",
    "\n",
    "Each company will give all of their employees raises 5 times, but `generous_company` will give 20% raises, and `stingy_company` will give only 5% raises. \n",
    "\n",
    "You will then check the mean salary for each company again. \n",
    "\n",
    "Remember, for this exercise you don't need to create any new classes. You just need to create instances of companies and employees, using the classes you defined above, and use the methods you have already defined. You'll need to look at your answer from exercise 7 a few times to remember how your classes work. \n",
    "\n",
    "This is the last exercise, good luck! "
   ]
  },
  {
   "cell_type": "code",
   "execution_count": 15,
   "metadata": {
    "nbgrader": {
     "grade": false,
     "grade_id": "cell-a43a4e57177eca9d",
     "locked": false,
     "schema_version": 1,
     "solution": true
    }
   },
   "outputs": [
    {
     "name": "stdout",
     "output_type": "stream",
     "text": [
      "7.0\n",
      "5.333333333333333\n",
      "8.933970937500002\n",
      "13.271039999999998\n"
     ]
    }
   ],
   "source": [
    "### BEGIN SOLUTION\n",
    "generous_company = Company(name=\"Generous company Ltd..\")\n",
    "stingy_company = Company(name=\"Mr. Burns Enterprises Ltd.\")\n",
    "\n",
    "for name, salary in ((\"Hugo C\", 5), (\"Juliana R\", 6), (\"Ines P\",  5)):\n",
    "    employee = Employee(name=name, salary=salary)\n",
    "    generous_company.hire(employee)\n",
    "    \n",
    "for name, salary in ((\"Pavel N\", 7), (\"Carol M\", 8), (\"Bruno A\",  6)):\n",
    "    employee = Employee(name=name, salary=salary)\n",
    "    stingy_company.hire(employee)\n",
    "    \n",
    "print(stingy_company.get_mean_salary())\n",
    "print(generous_company.get_mean_salary())\n",
    "\n",
    "for i in range(5):\n",
    "    stingy_company.give_everyone_a_raise(.05)\n",
    "    generous_company.give_everyone_a_raise(.2)\n",
    "    \n",
    "print(stingy_company.get_mean_salary())\n",
    "print(generous_company.get_mean_salary())\n",
    "### END SOLUTION"
   ]
  },
  {
   "cell_type": "code",
   "execution_count": 16,
   "metadata": {
    "nbgrader": {
     "grade": true,
     "grade_id": "cell-1d7bb58d538228da",
     "locked": true,
     "points": 4,
     "schema_version": 1,
     "solution": false
    }
   },
   "outputs": [
    {
     "name": "stdout",
     "output_type": "stream",
     "text": [
      "Great success! Everything passed, congratulations!!!\n"
     ]
    }
   ],
   "source": [
    "from utils import exercise_8_grading\n",
    "assert generous_company and stingy_company\n",
    "exercise_8_grading(generous_company, stingy_company, Employee)\n",
    "print('Great success! Everything passed, congratulations!!!')"
   ]
  }
 ],
 "metadata": {
  "celltoolbar": "Create Assignment",
  "kernelspec": {
   "display_name": "Python 3",
   "language": "python",
   "name": "python3"
  },
  "language_info": {
   "codemirror_mode": {
    "name": "ipython",
    "version": 3
   },
   "file_extension": ".py",
   "mimetype": "text/x-python",
   "name": "python",
   "nbconvert_exporter": "python",
   "pygments_lexer": "ipython3",
   "version": "3.6.9"
  }
 },
 "nbformat": 4,
 "nbformat_minor": 2
}
