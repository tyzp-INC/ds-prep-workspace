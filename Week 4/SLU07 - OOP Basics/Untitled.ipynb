{
 "cells": [
  {
   "cell_type": "code",
   "execution_count": null,
   "metadata": {},
   "outputs": [],
   "source": [
    "# YOUR CODE HERE\n",
    "\n",
    "class Employee:\n",
    "    def __init__(self, name, salary):\n",
    "        self.name =  name\n",
    "        self.salary = salary\n",
    "        \n",
    "class Company:\n",
    "    def __init__(self, name):\n",
    "        self.name = name\n",
    "        self.list_of_employees = []\n",
    "        \n",
    "    def hire(self, employee):\n",
    "        self.list_of_employees.append(employee)\n",
    "        \n",
    "    def give_a_raise(self,employee, raise_fraction):\n",
    "        # raise employee salary\n",
    "        # raise_fraction is the percentual increase in salary\n",
    "        ### employee.salary *= (1 + raise_fraction) - - - - - - - mine old \n",
    "        \n",
    "        old_salary = employee.salary\n",
    "        raise_amount = old_salary * raise_fraction\n",
    "        new_salary = old_salary + raise_amount\n",
    "        employee.salary = new_salary\n",
    "        \n",
    "    def get_mean_salary(self):\n",
    "        # summ all salaries\n",
    "        # divide by n\n",
    "        \n",
    "        total_salary = 0\n",
    "        # loop over the employees and add their salary\n",
    "        for employee in self.list_of_employees:\n",
    "            #salary = employee.salary\n",
    "            total_salary += employee.salary\n",
    "        \n",
    "        nr_employees = len(self.list_of_employees)\n",
    "        \n",
    "        mean_salary = total_salary / nr_employees\n",
    "        \n",
    "        return mean_salary\n",
    "    \n",
    "    def give_everyone_a_raise(self, raise_fraction):\n",
    "        # all employees receive a raise\n",
    "        \n",
    "        # loop over the employees\n",
    "        \n",
    "        for employee in self.list_of_employees:\n",
    "            \n",
    "        # giving them a raise    \n",
    "            self.give_a_raise(employee, raise_fraction)\n",
    "        \n",
    "        "
   ]
  }
 ],
 "metadata": {
  "kernelspec": {
   "display_name": "Python 3",
   "language": "python",
   "name": "python3"
  },
  "language_info": {
   "codemirror_mode": {
    "name": "ipython",
    "version": 3
   },
   "file_extension": ".py",
   "mimetype": "text/x-python",
   "name": "python",
   "nbconvert_exporter": "python",
   "pygments_lexer": "ipython3",
   "version": "3.6.9"
  }
 },
 "nbformat": 4,
 "nbformat_minor": 4
}
